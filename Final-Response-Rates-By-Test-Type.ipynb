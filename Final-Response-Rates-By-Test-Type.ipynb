{
 "cells": [
  {
   "cell_type": "markdown",
   "metadata": {},
   "source": [
    "# This notebook:\n",
    "- **explores** response data for all questions (or items) by test type (state or national)\n",
    "- **visualizes** differences between correct, incorrect, or partial responses at the state and national levels\n",
    "- **models** if there is a statistical difference between the average response rates of at the fl state and national levels using t test confidence interval and hypothesis testing\n",
    "- **concludes**\n",
    "    - the average rate of correct, incorrect, and partial responses do not differ between the fl state k-5 and national k-5 levels\n",
    "    - and while the result is expected since the same questions are being used between fl and national tests, \n",
    "    - **the insight is florida results are comparable to results at the national level**"
   ]
  },
  {
   "cell_type": "markdown",
   "metadata": {},
   "source": [
    "# 0. Load libaries"
   ]
  },
  {
   "cell_type": "code",
   "execution_count": 1,
   "metadata": {},
   "outputs": [],
   "source": [
    "import pandas as pd \n",
    "import numpy as np\n",
    "import matplotlib.pyplot as plt\n",
    "from scipy import stats\n",
    "import statsmodels.api as sm"
   ]
  },
  {
   "cell_type": "markdown",
   "metadata": {},
   "source": [
    "# 1. Load and prep data"
   ]
  },
  {
   "cell_type": "code",
   "execution_count": 2,
   "metadata": {},
   "outputs": [
    {
     "data": {
      "text/html": [
       "<div>\n",
       "<style scoped>\n",
       "    .dataframe tbody tr th:only-of-type {\n",
       "        vertical-align: middle;\n",
       "    }\n",
       "\n",
       "    .dataframe tbody tr th {\n",
       "        vertical-align: top;\n",
       "    }\n",
       "\n",
       "    .dataframe thead th {\n",
       "        text-align: right;\n",
       "    }\n",
       "</style>\n",
       "<table border=\"1\" class=\"dataframe\">\n",
       "  <thead>\n",
       "    <tr style=\"text-align: right;\">\n",
       "      <th></th>\n",
       "      <th>Item_ID</th>\n",
       "      <th>score_outcome</th>\n",
       "      <th>number_of_responses</th>\n",
       "    </tr>\n",
       "  </thead>\n",
       "  <tbody>\n",
       "    <tr>\n",
       "      <td>0</td>\n",
       "      <td>FL01M_CC_L01_01</td>\n",
       "      <td>INCORRECT</td>\n",
       "      <td>81</td>\n",
       "    </tr>\n",
       "    <tr>\n",
       "      <td>1</td>\n",
       "      <td>FL01M_CC_L01_01</td>\n",
       "      <td>CORRECT</td>\n",
       "      <td>799</td>\n",
       "    </tr>\n",
       "    <tr>\n",
       "      <td>2</td>\n",
       "      <td>FL01M_CC_L01_02</td>\n",
       "      <td>INCORRECT</td>\n",
       "      <td>70</td>\n",
       "    </tr>\n",
       "    <tr>\n",
       "      <td>3</td>\n",
       "      <td>FL01M_CC_L01_02</td>\n",
       "      <td>CORRECT</td>\n",
       "      <td>810</td>\n",
       "    </tr>\n",
       "    <tr>\n",
       "      <td>4</td>\n",
       "      <td>FL01M_CC_L01_03</td>\n",
       "      <td>INCORRECT</td>\n",
       "      <td>141</td>\n",
       "    </tr>\n",
       "  </tbody>\n",
       "</table>\n",
       "</div>"
      ],
      "text/plain": [
       "           Item_ID score_outcome  number_of_responses\n",
       "0  FL01M_CC_L01_01     INCORRECT                   81\n",
       "1  FL01M_CC_L01_01       CORRECT                  799\n",
       "2  FL01M_CC_L01_02     INCORRECT                   70\n",
       "3  FL01M_CC_L01_02       CORRECT                  810\n",
       "4  FL01M_CC_L01_03     INCORRECT                  141"
      ]
     },
     "execution_count": 2,
     "metadata": {},
     "output_type": "execute_result"
    }
   ],
   "source": [
    "df = pd.read_excel('Data/Quiz_Item_Responses.xlsx') \n",
    "df.head()"
   ]
  },
  {
   "cell_type": "code",
   "execution_count": 3,
   "metadata": {
    "scrolled": true
   },
   "outputs": [
    {
     "data": {
      "text/html": [
       "<div>\n",
       "<style scoped>\n",
       "    .dataframe tbody tr th:only-of-type {\n",
       "        vertical-align: middle;\n",
       "    }\n",
       "\n",
       "    .dataframe tbody tr th {\n",
       "        vertical-align: top;\n",
       "    }\n",
       "\n",
       "    .dataframe thead th {\n",
       "        text-align: right;\n",
       "    }\n",
       "</style>\n",
       "<table border=\"1\" class=\"dataframe\">\n",
       "  <thead>\n",
       "    <tr style=\"text-align: right;\">\n",
       "      <th></th>\n",
       "      <th>Item_ID</th>\n",
       "      <th>score_outcome</th>\n",
       "      <th>number_of_responses</th>\n",
       "      <th>Item_1</th>\n",
       "      <th>Item_2</th>\n",
       "      <th>Item_3</th>\n",
       "      <th>Item_4</th>\n",
       "      <th>Item_5</th>\n",
       "    </tr>\n",
       "  </thead>\n",
       "  <tbody>\n",
       "    <tr>\n",
       "      <td>0</td>\n",
       "      <td>FL01M_CC_L01_01</td>\n",
       "      <td>INCORRECT</td>\n",
       "      <td>81</td>\n",
       "      <td>FL01M</td>\n",
       "      <td>CC</td>\n",
       "      <td>L01</td>\n",
       "      <td>01</td>\n",
       "      <td>None</td>\n",
       "    </tr>\n",
       "    <tr>\n",
       "      <td>1</td>\n",
       "      <td>FL01M_CC_L01_01</td>\n",
       "      <td>CORRECT</td>\n",
       "      <td>799</td>\n",
       "      <td>FL01M</td>\n",
       "      <td>CC</td>\n",
       "      <td>L01</td>\n",
       "      <td>01</td>\n",
       "      <td>None</td>\n",
       "    </tr>\n",
       "    <tr>\n",
       "      <td>2</td>\n",
       "      <td>FL01M_CC_L01_02</td>\n",
       "      <td>INCORRECT</td>\n",
       "      <td>70</td>\n",
       "      <td>FL01M</td>\n",
       "      <td>CC</td>\n",
       "      <td>L01</td>\n",
       "      <td>02</td>\n",
       "      <td>None</td>\n",
       "    </tr>\n",
       "    <tr>\n",
       "      <td>3</td>\n",
       "      <td>FL01M_CC_L01_02</td>\n",
       "      <td>CORRECT</td>\n",
       "      <td>810</td>\n",
       "      <td>FL01M</td>\n",
       "      <td>CC</td>\n",
       "      <td>L01</td>\n",
       "      <td>02</td>\n",
       "      <td>None</td>\n",
       "    </tr>\n",
       "    <tr>\n",
       "      <td>4</td>\n",
       "      <td>FL01M_CC_L01_03</td>\n",
       "      <td>INCORRECT</td>\n",
       "      <td>141</td>\n",
       "      <td>FL01M</td>\n",
       "      <td>CC</td>\n",
       "      <td>L01</td>\n",
       "      <td>03</td>\n",
       "      <td>None</td>\n",
       "    </tr>\n",
       "  </tbody>\n",
       "</table>\n",
       "</div>"
      ],
      "text/plain": [
       "           Item_ID score_outcome  number_of_responses Item_1 Item_2 Item_3  \\\n",
       "0  FL01M_CC_L01_01     INCORRECT                   81  FL01M     CC    L01   \n",
       "1  FL01M_CC_L01_01       CORRECT                  799  FL01M     CC    L01   \n",
       "2  FL01M_CC_L01_02     INCORRECT                   70  FL01M     CC    L01   \n",
       "3  FL01M_CC_L01_02       CORRECT                  810  FL01M     CC    L01   \n",
       "4  FL01M_CC_L01_03     INCORRECT                  141  FL01M     CC    L01   \n",
       "\n",
       "  Item_4 Item_5  \n",
       "0     01   None  \n",
       "1     01   None  \n",
       "2     02   None  \n",
       "3     02   None  \n",
       "4     03   None  "
      ]
     },
     "execution_count": 3,
     "metadata": {},
     "output_type": "execute_result"
    }
   ],
   "source": [
    "# split item id into parts\n",
    "df[[\"Item_1\",\"Item_2\",\"Item_3\",\"Item_4\",\"Item_5\"]]= df[\"Item_ID\"].str.split(\"_\", expand = True)\n",
    "df.head()"
   ]
  },
  {
   "cell_type": "code",
   "execution_count": 4,
   "metadata": {},
   "outputs": [
    {
     "data": {
      "text/html": [
       "<div>\n",
       "<style scoped>\n",
       "    .dataframe tbody tr th:only-of-type {\n",
       "        vertical-align: middle;\n",
       "    }\n",
       "\n",
       "    .dataframe tbody tr th {\n",
       "        vertical-align: top;\n",
       "    }\n",
       "\n",
       "    .dataframe thead th {\n",
       "        text-align: right;\n",
       "    }\n",
       "</style>\n",
       "<table border=\"1\" class=\"dataframe\">\n",
       "  <thead>\n",
       "    <tr style=\"text-align: right;\">\n",
       "      <th></th>\n",
       "      <th>Item_ID</th>\n",
       "      <th>score_outcome</th>\n",
       "      <th>number_of_responses</th>\n",
       "      <th>Item_1</th>\n",
       "      <th>Item_2</th>\n",
       "      <th>Item_3</th>\n",
       "      <th>Item_4</th>\n",
       "      <th>Item_5</th>\n",
       "      <th>total_item_1_responses</th>\n",
       "    </tr>\n",
       "  </thead>\n",
       "  <tbody>\n",
       "    <tr>\n",
       "      <td>0</td>\n",
       "      <td>FL01M_CC_L01_01</td>\n",
       "      <td>INCORRECT</td>\n",
       "      <td>81</td>\n",
       "      <td>FL01M</td>\n",
       "      <td>CC</td>\n",
       "      <td>L01</td>\n",
       "      <td>01</td>\n",
       "      <td>None</td>\n",
       "      <td>57048</td>\n",
       "    </tr>\n",
       "    <tr>\n",
       "      <td>1</td>\n",
       "      <td>FL01M_CC_L01_01</td>\n",
       "      <td>CORRECT</td>\n",
       "      <td>799</td>\n",
       "      <td>FL01M</td>\n",
       "      <td>CC</td>\n",
       "      <td>L01</td>\n",
       "      <td>01</td>\n",
       "      <td>None</td>\n",
       "      <td>57048</td>\n",
       "    </tr>\n",
       "    <tr>\n",
       "      <td>2</td>\n",
       "      <td>FL01M_CC_L01_02</td>\n",
       "      <td>INCORRECT</td>\n",
       "      <td>70</td>\n",
       "      <td>FL01M</td>\n",
       "      <td>CC</td>\n",
       "      <td>L01</td>\n",
       "      <td>02</td>\n",
       "      <td>None</td>\n",
       "      <td>57048</td>\n",
       "    </tr>\n",
       "    <tr>\n",
       "      <td>3</td>\n",
       "      <td>FL01M_CC_L01_02</td>\n",
       "      <td>CORRECT</td>\n",
       "      <td>810</td>\n",
       "      <td>FL01M</td>\n",
       "      <td>CC</td>\n",
       "      <td>L01</td>\n",
       "      <td>02</td>\n",
       "      <td>None</td>\n",
       "      <td>57048</td>\n",
       "    </tr>\n",
       "    <tr>\n",
       "      <td>4</td>\n",
       "      <td>FL01M_CC_L01_03</td>\n",
       "      <td>INCORRECT</td>\n",
       "      <td>141</td>\n",
       "      <td>FL01M</td>\n",
       "      <td>CC</td>\n",
       "      <td>L01</td>\n",
       "      <td>03</td>\n",
       "      <td>None</td>\n",
       "      <td>57048</td>\n",
       "    </tr>\n",
       "  </tbody>\n",
       "</table>\n",
       "</div>"
      ],
      "text/plain": [
       "           Item_ID score_outcome  number_of_responses Item_1 Item_2 Item_3  \\\n",
       "0  FL01M_CC_L01_01     INCORRECT                   81  FL01M     CC    L01   \n",
       "1  FL01M_CC_L01_01       CORRECT                  799  FL01M     CC    L01   \n",
       "2  FL01M_CC_L01_02     INCORRECT                   70  FL01M     CC    L01   \n",
       "3  FL01M_CC_L01_02       CORRECT                  810  FL01M     CC    L01   \n",
       "4  FL01M_CC_L01_03     INCORRECT                  141  FL01M     CC    L01   \n",
       "\n",
       "  Item_4 Item_5  total_item_1_responses  \n",
       "0     01   None                   57048  \n",
       "1     01   None                   57048  \n",
       "2     02   None                   57048  \n",
       "3     02   None                   57048  \n",
       "4     03   None                   57048  "
      ]
     },
     "execution_count": 4,
     "metadata": {},
     "output_type": "execute_result"
    }
   ],
   "source": [
    "# total all responses by item_1\n",
    "groupby = (df.groupby(['Item_1'])\n",
    "           .agg({'number_of_responses': 'sum'})\n",
    "           .rename(columns={'number_of_responses': 'total_item_1_responses'}))\n",
    "df = df.join(groupby, on='Item_1')\n",
    "df.head()"
   ]
  },
  {
   "cell_type": "code",
   "execution_count": 5,
   "metadata": {
    "scrolled": false
   },
   "outputs": [
    {
     "data": {
      "text/html": [
       "<div>\n",
       "<style scoped>\n",
       "    .dataframe tbody tr th:only-of-type {\n",
       "        vertical-align: middle;\n",
       "    }\n",
       "\n",
       "    .dataframe tbody tr th {\n",
       "        vertical-align: top;\n",
       "    }\n",
       "\n",
       "    .dataframe thead th {\n",
       "        text-align: right;\n",
       "    }\n",
       "</style>\n",
       "<table border=\"1\" class=\"dataframe\">\n",
       "  <thead>\n",
       "    <tr style=\"text-align: right;\">\n",
       "      <th></th>\n",
       "      <th>Item_ID</th>\n",
       "      <th>score_outcome</th>\n",
       "      <th>number_of_responses</th>\n",
       "      <th>Item_1</th>\n",
       "      <th>Item_2</th>\n",
       "      <th>Item_3</th>\n",
       "      <th>Item_4</th>\n",
       "      <th>Item_5</th>\n",
       "      <th>total_item_1_responses</th>\n",
       "      <th>total_item_1_outcome_responses_CORRECT</th>\n",
       "      <th>total_item_1_outcome_responses_INCORRECT</th>\n",
       "      <th>total_item_1_outcome_responses_PARTIAL</th>\n",
       "    </tr>\n",
       "  </thead>\n",
       "  <tbody>\n",
       "    <tr>\n",
       "      <td>0</td>\n",
       "      <td>FL01M_CC_L01_01</td>\n",
       "      <td>INCORRECT</td>\n",
       "      <td>81</td>\n",
       "      <td>FL01M</td>\n",
       "      <td>CC</td>\n",
       "      <td>L01</td>\n",
       "      <td>01</td>\n",
       "      <td>None</td>\n",
       "      <td>57048</td>\n",
       "      <td>40182</td>\n",
       "      <td>16510</td>\n",
       "      <td>356</td>\n",
       "    </tr>\n",
       "    <tr>\n",
       "      <td>1</td>\n",
       "      <td>FL01M_CC_L01_01</td>\n",
       "      <td>CORRECT</td>\n",
       "      <td>799</td>\n",
       "      <td>FL01M</td>\n",
       "      <td>CC</td>\n",
       "      <td>L01</td>\n",
       "      <td>01</td>\n",
       "      <td>None</td>\n",
       "      <td>57048</td>\n",
       "      <td>40182</td>\n",
       "      <td>16510</td>\n",
       "      <td>356</td>\n",
       "    </tr>\n",
       "    <tr>\n",
       "      <td>2</td>\n",
       "      <td>FL01M_CC_L01_02</td>\n",
       "      <td>INCORRECT</td>\n",
       "      <td>70</td>\n",
       "      <td>FL01M</td>\n",
       "      <td>CC</td>\n",
       "      <td>L01</td>\n",
       "      <td>02</td>\n",
       "      <td>None</td>\n",
       "      <td>57048</td>\n",
       "      <td>40182</td>\n",
       "      <td>16510</td>\n",
       "      <td>356</td>\n",
       "    </tr>\n",
       "    <tr>\n",
       "      <td>3</td>\n",
       "      <td>FL01M_CC_L01_02</td>\n",
       "      <td>CORRECT</td>\n",
       "      <td>810</td>\n",
       "      <td>FL01M</td>\n",
       "      <td>CC</td>\n",
       "      <td>L01</td>\n",
       "      <td>02</td>\n",
       "      <td>None</td>\n",
       "      <td>57048</td>\n",
       "      <td>40182</td>\n",
       "      <td>16510</td>\n",
       "      <td>356</td>\n",
       "    </tr>\n",
       "    <tr>\n",
       "      <td>4</td>\n",
       "      <td>FL01M_CC_L01_03</td>\n",
       "      <td>INCORRECT</td>\n",
       "      <td>141</td>\n",
       "      <td>FL01M</td>\n",
       "      <td>CC</td>\n",
       "      <td>L01</td>\n",
       "      <td>03</td>\n",
       "      <td>None</td>\n",
       "      <td>57048</td>\n",
       "      <td>40182</td>\n",
       "      <td>16510</td>\n",
       "      <td>356</td>\n",
       "    </tr>\n",
       "  </tbody>\n",
       "</table>\n",
       "</div>"
      ],
      "text/plain": [
       "           Item_ID score_outcome  number_of_responses Item_1 Item_2 Item_3  \\\n",
       "0  FL01M_CC_L01_01     INCORRECT                   81  FL01M     CC    L01   \n",
       "1  FL01M_CC_L01_01       CORRECT                  799  FL01M     CC    L01   \n",
       "2  FL01M_CC_L01_02     INCORRECT                   70  FL01M     CC    L01   \n",
       "3  FL01M_CC_L01_02       CORRECT                  810  FL01M     CC    L01   \n",
       "4  FL01M_CC_L01_03     INCORRECT                  141  FL01M     CC    L01   \n",
       "\n",
       "  Item_4 Item_5  total_item_1_responses  \\\n",
       "0     01   None                   57048   \n",
       "1     01   None                   57048   \n",
       "2     02   None                   57048   \n",
       "3     02   None                   57048   \n",
       "4     03   None                   57048   \n",
       "\n",
       "   total_item_1_outcome_responses_CORRECT  \\\n",
       "0                                   40182   \n",
       "1                                   40182   \n",
       "2                                   40182   \n",
       "3                                   40182   \n",
       "4                                   40182   \n",
       "\n",
       "   total_item_1_outcome_responses_INCORRECT  \\\n",
       "0                                     16510   \n",
       "1                                     16510   \n",
       "2                                     16510   \n",
       "3                                     16510   \n",
       "4                                     16510   \n",
       "\n",
       "   total_item_1_outcome_responses_PARTIAL  \n",
       "0                                     356  \n",
       "1                                     356  \n",
       "2                                     356  \n",
       "3                                     356  \n",
       "4                                     356  "
      ]
     },
     "execution_count": 5,
     "metadata": {},
     "output_type": "execute_result"
    }
   ],
   "source": [
    "# total responses by item_1 and score_outcome\n",
    "groupby2=(df.groupby(['Item_1','score_outcome'])\n",
    " .agg({'number_of_responses': sum})\n",
    " .rename(columns={'number_of_responses': 'total_item_1_outcome_responses'})\n",
    " .unstack())\n",
    "groupby2.columns = [\"_\".join(x) for x in groupby2.columns.ravel()]\n",
    "df = df.join(groupby2, on='Item_1')\n",
    "df.head()"
   ]
  },
  {
   "cell_type": "code",
   "execution_count": 6,
   "metadata": {
    "scrolled": true
   },
   "outputs": [
    {
     "data": {
      "text/html": [
       "<div>\n",
       "<style scoped>\n",
       "    .dataframe tbody tr th:only-of-type {\n",
       "        vertical-align: middle;\n",
       "    }\n",
       "\n",
       "    .dataframe tbody tr th {\n",
       "        vertical-align: top;\n",
       "    }\n",
       "\n",
       "    .dataframe thead th {\n",
       "        text-align: right;\n",
       "    }\n",
       "</style>\n",
       "<table border=\"1\" class=\"dataframe\">\n",
       "  <thead>\n",
       "    <tr style=\"text-align: right;\">\n",
       "      <th></th>\n",
       "      <th>total_item_1_responses</th>\n",
       "      <th>total_item_1_outcome_responses_CORRECT</th>\n",
       "      <th>total_item_1_outcome_responses_INCORRECT</th>\n",
       "      <th>total_item_1_outcome_responses_PARTIAL</th>\n",
       "      <th>correct_perc</th>\n",
       "      <th>incorrect_perc</th>\n",
       "      <th>partial_perc</th>\n",
       "    </tr>\n",
       "    <tr>\n",
       "      <th>Item_1</th>\n",
       "      <th></th>\n",
       "      <th></th>\n",
       "      <th></th>\n",
       "      <th></th>\n",
       "      <th></th>\n",
       "      <th></th>\n",
       "      <th></th>\n",
       "    </tr>\n",
       "  </thead>\n",
       "  <tbody>\n",
       "    <tr>\n",
       "      <td>FL01M</td>\n",
       "      <td>57048</td>\n",
       "      <td>40182</td>\n",
       "      <td>16510</td>\n",
       "      <td>356</td>\n",
       "      <td>0.704354</td>\n",
       "      <td>0.289405</td>\n",
       "      <td>0.006240</td>\n",
       "    </tr>\n",
       "    <tr>\n",
       "      <td>FL02M</td>\n",
       "      <td>40291</td>\n",
       "      <td>19834</td>\n",
       "      <td>16651</td>\n",
       "      <td>3806</td>\n",
       "      <td>0.492269</td>\n",
       "      <td>0.413268</td>\n",
       "      <td>0.094463</td>\n",
       "    </tr>\n",
       "    <tr>\n",
       "      <td>FL03M</td>\n",
       "      <td>73974</td>\n",
       "      <td>38199</td>\n",
       "      <td>32192</td>\n",
       "      <td>3583</td>\n",
       "      <td>0.516384</td>\n",
       "      <td>0.435180</td>\n",
       "      <td>0.048436</td>\n",
       "    </tr>\n",
       "    <tr>\n",
       "      <td>FL04M</td>\n",
       "      <td>102038</td>\n",
       "      <td>57805</td>\n",
       "      <td>33965</td>\n",
       "      <td>10268</td>\n",
       "      <td>0.566505</td>\n",
       "      <td>0.332866</td>\n",
       "      <td>0.100629</td>\n",
       "    </tr>\n",
       "    <tr>\n",
       "      <td>FL05M</td>\n",
       "      <td>74192</td>\n",
       "      <td>41944</td>\n",
       "      <td>21846</td>\n",
       "      <td>10402</td>\n",
       "      <td>0.565344</td>\n",
       "      <td>0.294452</td>\n",
       "      <td>0.140204</td>\n",
       "    </tr>\n",
       "    <tr>\n",
       "      <td>FL0KM</td>\n",
       "      <td>39432</td>\n",
       "      <td>29590</td>\n",
       "      <td>9272</td>\n",
       "      <td>570</td>\n",
       "      <td>0.750406</td>\n",
       "      <td>0.235139</td>\n",
       "      <td>0.014455</td>\n",
       "    </tr>\n",
       "    <tr>\n",
       "      <td>G2</td>\n",
       "      <td>12680</td>\n",
       "      <td>5896</td>\n",
       "      <td>5594</td>\n",
       "      <td>1190</td>\n",
       "      <td>0.464984</td>\n",
       "      <td>0.441167</td>\n",
       "      <td>0.093849</td>\n",
       "    </tr>\n",
       "    <tr>\n",
       "      <td>G3</td>\n",
       "      <td>3212</td>\n",
       "      <td>1645</td>\n",
       "      <td>1157</td>\n",
       "      <td>410</td>\n",
       "      <td>0.512142</td>\n",
       "      <td>0.360212</td>\n",
       "      <td>0.127646</td>\n",
       "    </tr>\n",
       "    <tr>\n",
       "      <td>G4</td>\n",
       "      <td>24395</td>\n",
       "      <td>12919</td>\n",
       "      <td>6613</td>\n",
       "      <td>4863</td>\n",
       "      <td>0.529576</td>\n",
       "      <td>0.271080</td>\n",
       "      <td>0.199344</td>\n",
       "    </tr>\n",
       "    <tr>\n",
       "      <td>G5</td>\n",
       "      <td>32731</td>\n",
       "      <td>18051</td>\n",
       "      <td>10741</td>\n",
       "      <td>3939</td>\n",
       "      <td>0.551496</td>\n",
       "      <td>0.328160</td>\n",
       "      <td>0.120345</td>\n",
       "    </tr>\n",
       "    <tr>\n",
       "      <td>NA01M</td>\n",
       "      <td>612590</td>\n",
       "      <td>392772</td>\n",
       "      <td>215906</td>\n",
       "      <td>3912</td>\n",
       "      <td>0.641166</td>\n",
       "      <td>0.352448</td>\n",
       "      <td>0.006386</td>\n",
       "    </tr>\n",
       "    <tr>\n",
       "      <td>NA02M</td>\n",
       "      <td>694239</td>\n",
       "      <td>306263</td>\n",
       "      <td>316141</td>\n",
       "      <td>71835</td>\n",
       "      <td>0.441149</td>\n",
       "      <td>0.455378</td>\n",
       "      <td>0.103473</td>\n",
       "    </tr>\n",
       "    <tr>\n",
       "      <td>NA03M</td>\n",
       "      <td>1217742</td>\n",
       "      <td>593289</td>\n",
       "      <td>561386</td>\n",
       "      <td>63067</td>\n",
       "      <td>0.487204</td>\n",
       "      <td>0.461006</td>\n",
       "      <td>0.051790</td>\n",
       "    </tr>\n",
       "    <tr>\n",
       "      <td>NA04M</td>\n",
       "      <td>1933215</td>\n",
       "      <td>953257</td>\n",
       "      <td>774650</td>\n",
       "      <td>205308</td>\n",
       "      <td>0.493094</td>\n",
       "      <td>0.400706</td>\n",
       "      <td>0.106200</td>\n",
       "    </tr>\n",
       "    <tr>\n",
       "      <td>NA05M</td>\n",
       "      <td>1651795</td>\n",
       "      <td>825803</td>\n",
       "      <td>636429</td>\n",
       "      <td>189563</td>\n",
       "      <td>0.499943</td>\n",
       "      <td>0.385295</td>\n",
       "      <td>0.114762</td>\n",
       "    </tr>\n",
       "    <tr>\n",
       "      <td>NA0KM</td>\n",
       "      <td>309257</td>\n",
       "      <td>231815</td>\n",
       "      <td>71294</td>\n",
       "      <td>6148</td>\n",
       "      <td>0.749587</td>\n",
       "      <td>0.230533</td>\n",
       "      <td>0.019880</td>\n",
       "    </tr>\n",
       "  </tbody>\n",
       "</table>\n",
       "</div>"
      ],
      "text/plain": [
       "        total_item_1_responses  total_item_1_outcome_responses_CORRECT  \\\n",
       "Item_1                                                                   \n",
       "FL01M                    57048                                   40182   \n",
       "FL02M                    40291                                   19834   \n",
       "FL03M                    73974                                   38199   \n",
       "FL04M                   102038                                   57805   \n",
       "FL05M                    74192                                   41944   \n",
       "FL0KM                    39432                                   29590   \n",
       "G2                       12680                                    5896   \n",
       "G3                        3212                                    1645   \n",
       "G4                       24395                                   12919   \n",
       "G5                       32731                                   18051   \n",
       "NA01M                   612590                                  392772   \n",
       "NA02M                   694239                                  306263   \n",
       "NA03M                  1217742                                  593289   \n",
       "NA04M                  1933215                                  953257   \n",
       "NA05M                  1651795                                  825803   \n",
       "NA0KM                   309257                                  231815   \n",
       "\n",
       "        total_item_1_outcome_responses_INCORRECT  \\\n",
       "Item_1                                             \n",
       "FL01M                                      16510   \n",
       "FL02M                                      16651   \n",
       "FL03M                                      32192   \n",
       "FL04M                                      33965   \n",
       "FL05M                                      21846   \n",
       "FL0KM                                       9272   \n",
       "G2                                          5594   \n",
       "G3                                          1157   \n",
       "G4                                          6613   \n",
       "G5                                         10741   \n",
       "NA01M                                     215906   \n",
       "NA02M                                     316141   \n",
       "NA03M                                     561386   \n",
       "NA04M                                     774650   \n",
       "NA05M                                     636429   \n",
       "NA0KM                                      71294   \n",
       "\n",
       "        total_item_1_outcome_responses_PARTIAL  correct_perc  incorrect_perc  \\\n",
       "Item_1                                                                         \n",
       "FL01M                                      356      0.704354        0.289405   \n",
       "FL02M                                     3806      0.492269        0.413268   \n",
       "FL03M                                     3583      0.516384        0.435180   \n",
       "FL04M                                    10268      0.566505        0.332866   \n",
       "FL05M                                    10402      0.565344        0.294452   \n",
       "FL0KM                                      570      0.750406        0.235139   \n",
       "G2                                        1190      0.464984        0.441167   \n",
       "G3                                         410      0.512142        0.360212   \n",
       "G4                                        4863      0.529576        0.271080   \n",
       "G5                                        3939      0.551496        0.328160   \n",
       "NA01M                                     3912      0.641166        0.352448   \n",
       "NA02M                                    71835      0.441149        0.455378   \n",
       "NA03M                                    63067      0.487204        0.461006   \n",
       "NA04M                                   205308      0.493094        0.400706   \n",
       "NA05M                                   189563      0.499943        0.385295   \n",
       "NA0KM                                     6148      0.749587        0.230533   \n",
       "\n",
       "        partial_perc  \n",
       "Item_1                \n",
       "FL01M       0.006240  \n",
       "FL02M       0.094463  \n",
       "FL03M       0.048436  \n",
       "FL04M       0.100629  \n",
       "FL05M       0.140204  \n",
       "FL0KM       0.014455  \n",
       "G2          0.093849  \n",
       "G3          0.127646  \n",
       "G4          0.199344  \n",
       "G5          0.120345  \n",
       "NA01M       0.006386  \n",
       "NA02M       0.103473  \n",
       "NA03M       0.051790  \n",
       "NA04M       0.106200  \n",
       "NA05M       0.114762  \n",
       "NA0KM       0.019880  "
      ]
     },
     "execution_count": 6,
     "metadata": {},
     "output_type": "execute_result"
    }
   ],
   "source": [
    "# calculate the percentage of outcome_response of total responses by item_1\n",
    "df['correct_perc']=df['total_item_1_outcome_responses_CORRECT']/df['total_item_1_responses']\n",
    "df['incorrect_perc']=df['total_item_1_outcome_responses_INCORRECT']/df['total_item_1_responses']\n",
    "df['partial_perc']=df['total_item_1_outcome_responses_PARTIAL']/df['total_item_1_responses']\n",
    "df=df.loc[:,('Item_1','total_item_1_responses', 'total_item_1_outcome_responses_CORRECT',\n",
    "             'total_item_1_outcome_responses_INCORRECT', 'total_item_1_outcome_responses_PARTIAL',\n",
    "             'correct_perc','incorrect_perc','partial_perc')].drop_duplicates()\n",
    "df=df.set_index('Item_1')\n",
    "df"
   ]
  },
  {
   "cell_type": "markdown",
   "metadata": {},
   "source": [
    "# 2. Visualize data"
   ]
  },
  {
   "cell_type": "code",
   "execution_count": 7,
   "metadata": {},
   "outputs": [
    {
     "data": {
      "image/png": "[encoded data removed]",
      "text/plain": [
       "<Figure size 432x288 with 1 Axes>"
      ]
     },
     "metadata": {
      "needs_background": "light"
     },
     "output_type": "display_data"
    }
   ],
   "source": [
    "ax = df.plot.bar(y='correct_perc', rot=45) # join.plot(kind='bar'...) also works"
   ]
  },
  {
   "cell_type": "code",
   "execution_count": 8,
   "metadata": {
    "scrolled": true
   },
   "outputs": [
    {
     "data": {
      "image/png": "[encoded data removed]",
      "text/plain": [
       "<Figure size 432x288 with 1 Axes>"
      ]
     },
     "metadata": {
      "needs_background": "light"
     },
     "output_type": "display_data"
    }
   ],
   "source": [
    "ax = df.plot.bar(y='incorrect_perc', rot=45) # x value is index when not specified"
   ]
  },
  {
   "cell_type": "code",
   "execution_count": 9,
   "metadata": {
    "scrolled": true
   },
   "outputs": [
    {
     "data": {
      "image/png": "[encoded data removed]",
      "text/plain": [
       "<Figure size 432x288 with 1 Axes>"
      ]
     },
     "metadata": {
      "needs_background": "light"
     },
     "output_type": "display_data"
    }
   ],
   "source": [
    "ax = df.plot.bar(y='partial_perc', rot=45) # x value is index when not specified"
   ]
  },
  {
   "cell_type": "code",
   "execution_count": 10,
   "metadata": {
    "scrolled": true
   },
   "outputs": [
    {
     "data": {
      "image/png": "[encoded data removed]",
      "text/plain": [
       "<Figure size 432x288 with 1 Axes>"
      ]
     },
     "metadata": {
      "needs_background": "light"
     },
     "output_type": "display_data"
    }
   ],
   "source": [
    "ax = df.plot.bar(y='total_item_1_responses', rot=45) "
   ]
  },
  {
   "cell_type": "code",
   "execution_count": 11,
   "metadata": {
    "scrolled": false
   },
   "outputs": [
    {
     "data": {
      "text/plain": [
       "Item_1\n",
       "FL01M      57048\n",
       "FL02M      40291\n",
       "FL03M      73974\n",
       "FL04M     102038\n",
       "FL05M      74192\n",
       "FL0KM      39432\n",
       "G2         12680\n",
       "G3          3212\n",
       "G4         24395\n",
       "G5         32731\n",
       "NA01M     612590\n",
       "NA02M     694239\n",
       "NA03M    1217742\n",
       "NA04M    1933215\n",
       "NA05M    1651795\n",
       "NA0KM     309257\n",
       "Name: total_item_1_responses, dtype: int64"
      ]
     },
     "execution_count": 11,
     "metadata": {},
     "output_type": "execute_result"
    }
   ],
   "source": [
    "# nsize (number of Item_IDs, or questions) per test\n",
    "df.total_item_1_responses"
   ]
  },
  {
   "cell_type": "markdown",
   "metadata": {},
   "source": [
    "# 3. Model data\n",
    "\n",
    "## Is there a significant difference (at the alpha=0.05 level) in the average correct_perc score_outcomes between the two independent populations (K-5 state tests (FL) and K-5 national tests (NA))?\n",
    "\n",
    "Use t test. Note: t test is used for small samples but still robust enough to use and acts more conservation on large samples.\n",
    "\n",
    "First, understand (sample) population.\n",
    "\n",
    "Then, run t test.\n",
    "\n",
    "    Steps:\n",
    "        1. set up h0 and ha\n",
    "        2. set up rejection region, tcrit\n",
    "        3. gather data, calculate tobs\n",
    "        4. compare tobs to tcrit\n",
    "\n",
    "Lastly, evaluate confidence interval of difference in the mean between the two independent populations."
   ]
  },
  {
   "cell_type": "markdown",
   "metadata": {},
   "source": [
    "## 3.1. Examine n size and normality of sample populations"
   ]
  },
  {
   "cell_type": "code",
   "execution_count": 12,
   "metadata": {},
   "outputs": [],
   "source": [
    "df=df.drop(['G2' , 'G3', 'G4', 'G5']) # drop G items from analysis"
   ]
  },
  {
   "cell_type": "code",
   "execution_count": 13,
   "metadata": {
    "scrolled": false
   },
   "outputs": [
    {
     "data": {
      "text/html": [
       "<div>\n",
       "<style scoped>\n",
       "    .dataframe tbody tr th:only-of-type {\n",
       "        vertical-align: middle;\n",
       "    }\n",
       "\n",
       "    .dataframe tbody tr th {\n",
       "        vertical-align: top;\n",
       "    }\n",
       "\n",
       "    .dataframe thead th {\n",
       "        text-align: right;\n",
       "    }\n",
       "</style>\n",
       "<table border=\"1\" class=\"dataframe\">\n",
       "  <thead>\n",
       "    <tr style=\"text-align: right;\">\n",
       "      <th></th>\n",
       "      <th>total_item_1_responses</th>\n",
       "      <th>total_item_1_outcome_responses_CORRECT</th>\n",
       "      <th>total_item_1_outcome_responses_INCORRECT</th>\n",
       "      <th>total_item_1_outcome_responses_PARTIAL</th>\n",
       "      <th>correct_perc</th>\n",
       "      <th>incorrect_perc</th>\n",
       "      <th>partial_perc</th>\n",
       "      <th>item</th>\n",
       "    </tr>\n",
       "    <tr>\n",
       "      <th>Item_1</th>\n",
       "      <th></th>\n",
       "      <th></th>\n",
       "      <th></th>\n",
       "      <th></th>\n",
       "      <th></th>\n",
       "      <th></th>\n",
       "      <th></th>\n",
       "      <th></th>\n",
       "    </tr>\n",
       "  </thead>\n",
       "  <tbody>\n",
       "    <tr>\n",
       "      <td>FL01M</td>\n",
       "      <td>57048</td>\n",
       "      <td>40182</td>\n",
       "      <td>16510</td>\n",
       "      <td>356</td>\n",
       "      <td>0.704354</td>\n",
       "      <td>0.289405</td>\n",
       "      <td>0.006240</td>\n",
       "      <td>FL</td>\n",
       "    </tr>\n",
       "    <tr>\n",
       "      <td>FL02M</td>\n",
       "      <td>40291</td>\n",
       "      <td>19834</td>\n",
       "      <td>16651</td>\n",
       "      <td>3806</td>\n",
       "      <td>0.492269</td>\n",
       "      <td>0.413268</td>\n",
       "      <td>0.094463</td>\n",
       "      <td>FL</td>\n",
       "    </tr>\n",
       "    <tr>\n",
       "      <td>FL03M</td>\n",
       "      <td>73974</td>\n",
       "      <td>38199</td>\n",
       "      <td>32192</td>\n",
       "      <td>3583</td>\n",
       "      <td>0.516384</td>\n",
       "      <td>0.435180</td>\n",
       "      <td>0.048436</td>\n",
       "      <td>FL</td>\n",
       "    </tr>\n",
       "    <tr>\n",
       "      <td>FL04M</td>\n",
       "      <td>102038</td>\n",
       "      <td>57805</td>\n",
       "      <td>33965</td>\n",
       "      <td>10268</td>\n",
       "      <td>0.566505</td>\n",
       "      <td>0.332866</td>\n",
       "      <td>0.100629</td>\n",
       "      <td>FL</td>\n",
       "    </tr>\n",
       "    <tr>\n",
       "      <td>FL05M</td>\n",
       "      <td>74192</td>\n",
       "      <td>41944</td>\n",
       "      <td>21846</td>\n",
       "      <td>10402</td>\n",
       "      <td>0.565344</td>\n",
       "      <td>0.294452</td>\n",
       "      <td>0.140204</td>\n",
       "      <td>FL</td>\n",
       "    </tr>\n",
       "    <tr>\n",
       "      <td>FL0KM</td>\n",
       "      <td>39432</td>\n",
       "      <td>29590</td>\n",
       "      <td>9272</td>\n",
       "      <td>570</td>\n",
       "      <td>0.750406</td>\n",
       "      <td>0.235139</td>\n",
       "      <td>0.014455</td>\n",
       "      <td>FL</td>\n",
       "    </tr>\n",
       "    <tr>\n",
       "      <td>NA01M</td>\n",
       "      <td>612590</td>\n",
       "      <td>392772</td>\n",
       "      <td>215906</td>\n",
       "      <td>3912</td>\n",
       "      <td>0.641166</td>\n",
       "      <td>0.352448</td>\n",
       "      <td>0.006386</td>\n",
       "      <td>NA</td>\n",
       "    </tr>\n",
       "    <tr>\n",
       "      <td>NA02M</td>\n",
       "      <td>694239</td>\n",
       "      <td>306263</td>\n",
       "      <td>316141</td>\n",
       "      <td>71835</td>\n",
       "      <td>0.441149</td>\n",
       "      <td>0.455378</td>\n",
       "      <td>0.103473</td>\n",
       "      <td>NA</td>\n",
       "    </tr>\n",
       "    <tr>\n",
       "      <td>NA03M</td>\n",
       "      <td>1217742</td>\n",
       "      <td>593289</td>\n",
       "      <td>561386</td>\n",
       "      <td>63067</td>\n",
       "      <td>0.487204</td>\n",
       "      <td>0.461006</td>\n",
       "      <td>0.051790</td>\n",
       "      <td>NA</td>\n",
       "    </tr>\n",
       "    <tr>\n",
       "      <td>NA04M</td>\n",
       "      <td>1933215</td>\n",
       "      <td>953257</td>\n",
       "      <td>774650</td>\n",
       "      <td>205308</td>\n",
       "      <td>0.493094</td>\n",
       "      <td>0.400706</td>\n",
       "      <td>0.106200</td>\n",
       "      <td>NA</td>\n",
       "    </tr>\n",
       "    <tr>\n",
       "      <td>NA05M</td>\n",
       "      <td>1651795</td>\n",
       "      <td>825803</td>\n",
       "      <td>636429</td>\n",
       "      <td>189563</td>\n",
       "      <td>0.499943</td>\n",
       "      <td>0.385295</td>\n",
       "      <td>0.114762</td>\n",
       "      <td>NA</td>\n",
       "    </tr>\n",
       "    <tr>\n",
       "      <td>NA0KM</td>\n",
       "      <td>309257</td>\n",
       "      <td>231815</td>\n",
       "      <td>71294</td>\n",
       "      <td>6148</td>\n",
       "      <td>0.749587</td>\n",
       "      <td>0.230533</td>\n",
       "      <td>0.019880</td>\n",
       "      <td>NA</td>\n",
       "    </tr>\n",
       "  </tbody>\n",
       "</table>\n",
       "</div>"
      ],
      "text/plain": [
       "        total_item_1_responses  total_item_1_outcome_responses_CORRECT  \\\n",
       "Item_1                                                                   \n",
       "FL01M                    57048                                   40182   \n",
       "FL02M                    40291                                   19834   \n",
       "FL03M                    73974                                   38199   \n",
       "FL04M                   102038                                   57805   \n",
       "FL05M                    74192                                   41944   \n",
       "FL0KM                    39432                                   29590   \n",
       "NA01M                   612590                                  392772   \n",
       "NA02M                   694239                                  306263   \n",
       "NA03M                  1217742                                  593289   \n",
       "NA04M                  1933215                                  953257   \n",
       "NA05M                  1651795                                  825803   \n",
       "NA0KM                   309257                                  231815   \n",
       "\n",
       "        total_item_1_outcome_responses_INCORRECT  \\\n",
       "Item_1                                             \n",
       "FL01M                                      16510   \n",
       "FL02M                                      16651   \n",
       "FL03M                                      32192   \n",
       "FL04M                                      33965   \n",
       "FL05M                                      21846   \n",
       "FL0KM                                       9272   \n",
       "NA01M                                     215906   \n",
       "NA02M                                     316141   \n",
       "NA03M                                     561386   \n",
       "NA04M                                     774650   \n",
       "NA05M                                     636429   \n",
       "NA0KM                                      71294   \n",
       "\n",
       "        total_item_1_outcome_responses_PARTIAL  correct_perc  incorrect_perc  \\\n",
       "Item_1                                                                         \n",
       "FL01M                                      356      0.704354        0.289405   \n",
       "FL02M                                     3806      0.492269        0.413268   \n",
       "FL03M                                     3583      0.516384        0.435180   \n",
       "FL04M                                    10268      0.566505        0.332866   \n",
       "FL05M                                    10402      0.565344        0.294452   \n",
       "FL0KM                                      570      0.750406        0.235139   \n",
       "NA01M                                     3912      0.641166        0.352448   \n",
       "NA02M                                    71835      0.441149        0.455378   \n",
       "NA03M                                    63067      0.487204        0.461006   \n",
       "NA04M                                   205308      0.493094        0.400706   \n",
       "NA05M                                   189563      0.499943        0.385295   \n",
       "NA0KM                                     6148      0.749587        0.230533   \n",
       "\n",
       "        partial_perc item  \n",
       "Item_1                     \n",
       "FL01M       0.006240   FL  \n",
       "FL02M       0.094463   FL  \n",
       "FL03M       0.048436   FL  \n",
       "FL04M       0.100629   FL  \n",
       "FL05M       0.140204   FL  \n",
       "FL0KM       0.014455   FL  \n",
       "NA01M       0.006386   NA  \n",
       "NA02M       0.103473   NA  \n",
       "NA03M       0.051790   NA  \n",
       "NA04M       0.106200   NA  \n",
       "NA05M       0.114762   NA  \n",
       "NA0KM       0.019880   NA  "
      ]
     },
     "execution_count": 13,
     "metadata": {},
     "output_type": "execute_result"
    }
   ],
   "source": [
    "df['item'] = np.where(df.index.str.contains(\"FL\"), 'FL', 'NA') # categorize Item_1 into FL or NA buckets\n",
    "df"
   ]
  },
  {
   "cell_type": "code",
   "execution_count": 14,
   "metadata": {},
   "outputs": [
    {
     "data": {
      "text/plain": [
       "FL    6\n",
       "NA    6\n",
       "Name: item, dtype: int64"
      ]
     },
     "execution_count": 14,
     "metadata": {},
     "output_type": "execute_result"
    }
   ],
   "source": [
    "# nsize of grades by test type (florida vs national)\n",
    "df.item.value_counts() "
   ]
  },
  {
   "cell_type": "markdown",
   "metadata": {},
   "source": [
    "##### Distribution of correct perc by test type and test grade"
   ]
  },
  {
   "cell_type": "code",
   "execution_count": 15,
   "metadata": {},
   "outputs": [],
   "source": [
    "na,fl=df[(df.item=='NA')]['correct_perc'], df[(df.item=='FL')]['correct_perc']"
   ]
  },
  {
   "cell_type": "code",
   "execution_count": 16,
   "metadata": {
    "scrolled": true
   },
   "outputs": [
    {
     "data": {
      "text/plain": [
       "<matplotlib.axes._subplots.AxesSubplot at 0x7ff06583f810>"
      ]
     },
     "execution_count": 16,
     "metadata": {},
     "output_type": "execute_result"
    },
    {
     "data": {
      "image/png": "[encoded data removed]",
      "text/plain": [
       "<Figure size 432x288 with 1 Axes>"
      ]
     },
     "metadata": {
      "needs_background": "light"
     },
     "output_type": "display_data"
    }
   ],
   "source": [
    "na.plot(kind='bar')"
   ]
  },
  {
   "cell_type": "code",
   "execution_count": 17,
   "metadata": {
    "scrolled": true
   },
   "outputs": [
    {
     "data": {
      "text/plain": [
       "<matplotlib.axes._subplots.AxesSubplot at 0x7ff06583f2d0>"
      ]
     },
     "execution_count": 17,
     "metadata": {},
     "output_type": "execute_result"
    },
    {
     "data": {
      "image/png": "[encoded data removed]",
      "text/plain": [
       "<Figure size 432x288 with 1 Axes>"
      ]
     },
     "metadata": {
      "needs_background": "light"
     },
     "output_type": "display_data"
    }
   ],
   "source": [
    "fl.plot(kind='bar')"
   ]
  },
  {
   "cell_type": "code",
   "execution_count": 18,
   "metadata": {},
   "outputs": [
    {
     "data": {
      "text/plain": [
       "count    6.000000\n",
       "mean     0.552024\n",
       "std      0.118032\n",
       "min      0.441149\n",
       "25%      0.488677\n",
       "50%      0.496518\n",
       "75%      0.605860\n",
       "max      0.749587\n",
       "Name: correct_perc, dtype: float64"
      ]
     },
     "execution_count": 18,
     "metadata": {},
     "output_type": "execute_result"
    }
   ],
   "source": [
    "na.describe()"
   ]
  },
  {
   "cell_type": "code",
   "execution_count": 19,
   "metadata": {},
   "outputs": [
    {
     "data": {
      "text/plain": [
       "count    6.000000\n",
       "mean     0.599210\n",
       "std      0.104335\n",
       "min      0.492269\n",
       "25%      0.528624\n",
       "50%      0.565924\n",
       "75%      0.669892\n",
       "max      0.750406\n",
       "Name: correct_perc, dtype: float64"
      ]
     },
     "execution_count": 19,
     "metadata": {},
     "output_type": "execute_result"
    }
   ],
   "source": [
    "fl.describe()"
   ]
  },
  {
   "cell_type": "markdown",
   "metadata": {},
   "source": [
    "##### Test for normality"
   ]
  },
  {
   "cell_type": "code",
   "execution_count": 20,
   "metadata": {},
   "outputs": [
    {
     "name": "stdout",
     "output_type": "stream",
     "text": [
      "(0.8417159914970398, 0.13469387590885162)\n",
      "(0.8799074292182922, 0.26863232254981995)\n"
     ]
    }
   ],
   "source": [
    "# shapiro test for normality\n",
    "print(stats.shapiro(na)) # outputs t-statistic and pvalue\n",
    "print(stats.shapiro(fl))\n",
    "\n",
    "# validity of parametric tests assumes normal distribution\n",
    "# shapiro test is used to test h0 hypothesis of normality, or\n",
    "# that sample data is drawn from normal distribution\n",
    "\n",
    "# if pvalue < 0.05, we reject h0 that sample data is drawn from normal distribution\n",
    "\n",
    "# in both na and fl correct_perc arrays, the pvalue is greater than alpha > 0.05,\n",
    "# so we fail to reject the h0 hypothesis \n",
    "# and say the sample data is drawn from a normal distribution\n",
    "\n",
    "# https://docs.scipy.org/doc/scipy/reference/generated/scipy.stats.shapiro.html\n",
    "# http://www.sthda.com/english/wiki/normality-test-in-r"
   ]
  },
  {
   "cell_type": "code",
   "execution_count": 21,
   "metadata": {
    "scrolled": true
   },
   "outputs": [
    {
     "data": {
      "image/png": "[encoded data removed]",
      "text/plain": [
       "<Figure size 432x288 with 1 Axes>"
      ]
     },
     "metadata": {
      "needs_background": "light"
     },
     "output_type": "display_data"
    }
   ],
   "source": [
    "ax = sm.qqplot(na, fit=True, line='s')\n",
    "\n",
    "# https://stats.stackexchange.com/questions/139708/qq-plot-in-python\n",
    "# https://www.statsmodels.org/stable/generated/statsmodels.graphics.gofplots.qqplot.html"
   ]
  },
  {
   "cell_type": "code",
   "execution_count": 22,
   "metadata": {
    "scrolled": true
   },
   "outputs": [
    {
     "data": {
      "image/png": "[encoded data removed]",
      "text/plain": [
       "<Figure size 432x288 with 1 Axes>"
      ]
     },
     "metadata": {
      "needs_background": "light"
     },
     "output_type": "display_data"
    }
   ],
   "source": [
    "ax = sm.qqplot(fl, fit=True, line='s')"
   ]
  },
  {
   "cell_type": "markdown",
   "metadata": {},
   "source": [
    "##### Side Note on Normality:\n",
    "\n",
    "    \"You have several options for handling your non normal data. Many tests, including the one sample Z test, T test and ANOVA assume normality. You may still be able to run these tests if your sample size is large enough (usually over 20 items).\"\n",
    "    \n",
    "https://www.statisticshowto.com/probability-and-statistics/non-normal-distributions/\n",
    "\n",
    "https://www.isixsigma.com/tools-templates/normality/dealing-non-normal-data-strategies-and-tools/\n",
    "\n",
    "https://www.qualitymag.com/ext/resources/files/white_papers/minitab/Tips-and-Tricks-for-Analyzing-Non-Normal-Data-002.pdf"
   ]
  },
  {
   "cell_type": "markdown",
   "metadata": {},
   "source": [
    "## 3.2 Run ttest"
   ]
  },
  {
   "cell_type": "markdown",
   "metadata": {},
   "source": [
    "### 3.2.1. Hypothesis \n",
    "        H0: m1 = m2\n",
    "        Ha: m1 != m2 \n",
    "        alpha = 0.05\n",
    "        two sided test, so alpha/2 = .025"
   ]
  },
  {
   "cell_type": "markdown",
   "metadata": {},
   "source": [
    "### 3.2.2. Set up rejection region, tcrit"
   ]
  },
  {
   "cell_type": "code",
   "execution_count": 23,
   "metadata": {},
   "outputs": [
    {
     "name": "stdout",
     "output_type": "stream",
     "text": [
      "National sample size:  6\n",
      "Florida sample size:  6\n"
     ]
    }
   ],
   "source": [
    "na_n, fl_n= len(na), len(fl)\n",
    "print('National sample size: ', na_n)\n",
    "print('Florida sample size: ', fl_n)"
   ]
  },
  {
   "cell_type": "code",
   "execution_count": 24,
   "metadata": {},
   "outputs": [
    {
     "name": "stdout",
     "output_type": "stream",
     "text": [
      "National standard deviation:  0.10774772920272968\n",
      "Florida standard deviation:  0.09524404769927049\n"
     ]
    }
   ],
   "source": [
    "std_na, std_fl = np.std(na), np.std(fl)\n",
    "print('National standard deviation: ', std_na)\n",
    "print('Florida standard deviation: ', std_fl) # equal variances"
   ]
  },
  {
   "attachments": {
    "image.png": {
     "image/png": "[encoded data removed]"
    }
   },
   "cell_type": "markdown",
   "metadata": {},
   "source": [
    "*Note: if sample variances and/or sample sizes are unequal*\n",
    "\n",
    "Use Sattertwaite's approximation for degrees of freedom (dof)\n",
    "\n",
    " [source](https://www.statisticshowto.com/satterthwaite-formula/)\n",
    "\n",
    "Instead of dof = n1 + n2 - 2\n",
    "\n",
    "![image.png](attachment:image.png)\n"
   ]
  },
  {
   "cell_type": "code",
   "execution_count": 25,
   "metadata": {
    "scrolled": true
   },
   "outputs": [
    {
     "name": "stdout",
     "output_type": "stream",
     "text": [
      "dof (n1+n2-2):  10\n",
      "dof (Sattertwaite's approximation):   15.866482460398291\n",
      "lower critical value:  -2.228\n",
      "upper critical value:  2.228\n"
     ]
    }
   ],
   "source": [
    "# calculate critical value manually\n",
    "\n",
    "dof = ( (std_na**2/na_n) + (std_fl**2/fl_n) ) ** 2 / ( (1/(na_n-1)) * (std_na**2/na_n)**2 ) + ( (1/(fl_n-1)) * (std_fl**2/fl_n)**2 )\n",
    "\n",
    "# dof used when unequal sample variances and/or unequal sample sizes\n",
    "# dof is Sattertwaite's approximation\n",
    "\n",
    "# rule of thumb is ratio of two stds do not exceed 2 to 1, \n",
    "# you would be okay with standard t test, as long as sample sizes not too unequal\n",
    "\n",
    "dof2 = na_n + fl_n - 2\n",
    "\n",
    "print(\"dof (n1+n2-2): \", dof2)\n",
    "print(\"dof (Sattertwaite's approximation):  \", dof)\n",
    "\n",
    "# use ttable to find tcrit for degrees of freedom 505 at alpha = 0.05 level, two-sided so alpha/2 = 0.025\n",
    "# http://www.ttable.org/student-t-value-calculator.html\n",
    "\n",
    "ltcrit, utcrit = -2.228, 2.228\n",
    "print('lower critical value: ', ltcrit)\n",
    "print('upper critical value: ', utcrit)"
   ]
  },
  {
   "cell_type": "code",
   "execution_count": 26,
   "metadata": {},
   "outputs": [
    {
     "name": "stdout",
     "output_type": "stream",
     "text": [
      "critical t (using dof = n1 + n2 - 2)= 2.228 \n",
      "critical t (using Sattertwaite dof approximation) = 2.121 \n"
     ]
    }
   ],
   "source": [
    "# calculate critical value using package\n",
    "print ('critical t (using dof = n1 + n2 - 2)= %.3f ' % (stats.t.ppf(1-0.025, dof2)))\n",
    "print ('critical t (using Sattertwaite dof approximation) = %.3f ' % (stats.t.ppf(1-0.025, dof)))"
   ]
  },
  {
   "cell_type": "markdown",
   "metadata": {},
   "source": [
    "### 3.3.3. Gather data, calculate tobs"
   ]
  },
  {
   "cell_type": "code",
   "execution_count": 27,
   "metadata": {
    "scrolled": false
   },
   "outputs": [
    {
     "name": "stdout",
     "output_type": "stream",
     "text": [
      "National mean of correct response per item:  0.5520239101040583\n",
      "Florida mean of correct response per item:  0.5992102462679233\n",
      "Mean difference between na and fl:  -0.04718633616386503\n"
     ]
    }
   ],
   "source": [
    "# calculate mean difference\n",
    "na_mean, fl_mean = np.mean(na), np.mean(fl)\n",
    "mean_diff = np.subtract(na_mean, fl_mean)\n",
    "print('National mean of correct response per item: ', na_mean)\n",
    "print('Florida mean of correct response per item: ', fl_mean)\n",
    "print('Mean difference between na and fl: ', mean_diff)"
   ]
  },
  {
   "cell_type": "markdown",
   "metadata": {},
   "source": [
    "**Standard independent 2 sample test that assumes equal population variances**\n",
    "##### Pooled variance (equal variances)\n",
    "\n",
    "Pooled T Procedures\n",
    "\n",
    "![image.png](http://www.stat.yale.edu/Courses/1997-98/101/tpool.gif)\n",
    "\n",
    "to calculate t statistic\n",
    "\n",
    "![image.png](http://www.stat.yale.edu/Courses/1997-98/101/tstatp.gif)\n",
    "\n",
    "which has a t(n1 + n2 -2) distribution ([source](http://www.stat.yale.edu/Courses/1997-98/101/meancomp.htm))."
   ]
  },
  {
   "cell_type": "code",
   "execution_count": 28,
   "metadata": {},
   "outputs": [
    {
     "name": "stdout",
     "output_type": "stream",
     "text": [
      "tobs using pooled variance:  -0.8037224448611903\n"
     ]
    }
   ],
   "source": [
    "# calculate tobs using pooled variance manually\n",
    "\n",
    "truemean_diff = 0 # given hypothesis, m1-m2 = 0\n",
    "\n",
    "std_pooled = np.sqrt( ( ((na_n-1)*(std_na**2)) + ((fl_n-1)*(std_fl**2) ) ) / (na_n+fl_n-2) )\n",
    "# remove the -1 to get exact stats package result\n",
    "se_meandiff =  std_pooled * np.sqrt( (1/na_n) + (1/fl_n) )\n",
    "\n",
    "tobs = (mean_diff - truemean_diff) / se_meandiff\n",
    "print(\"tobs using pooled variance: \", tobs)"
   ]
  },
  {
   "cell_type": "code",
   "execution_count": 29,
   "metadata": {
    "scrolled": true
   },
   "outputs": [
    {
     "data": {
      "text/plain": [
       "Ttest_indResult(statistic=-0.73369485503946, pvalue=0.4799825798893872)"
      ]
     },
     "execution_count": 29,
     "metadata": {},
     "output_type": "execute_result"
    }
   ],
   "source": [
    "# calculate tobs using stats package where variance is equal\n",
    "stats.ttest_ind(na,fl,equal_var = True)"
   ]
  },
  {
   "attachments": {
    "image.png": {
     "image/png": "[encoded data removed]"
    }
   },
   "cell_type": "markdown",
   "metadata": {},
   "source": [
    "***Comparison* when variances are unequal**\n",
    "\n",
    "**USE Welch Two Sample t-test**\n",
    "#####  (unequal variances) ([source](http://www.stat.yale.edu/Courses/1997-98/101/meancomp.htm))\n",
    "\n",
    "![image.png](attachment:image.png)"
   ]
  },
  {
   "cell_type": "code",
   "execution_count": 30,
   "metadata": {},
   "outputs": [
    {
     "name": "stdout",
     "output_type": "stream",
     "text": [
      "tobs using welch's t-test:  -0.8037224448611903\n"
     ]
    }
   ],
   "source": [
    "# calculate tobs using welch's t-staistic manually\n",
    "truemean_diff = 0 # given hypothesis, m1-m2 = 0\n",
    "\n",
    "std_pooled = np.sqrt( (std_na**2/na_n) + (std_fl**2/fl_n) )\n",
    "se_meandiff =  std_pooled\n",
    "\n",
    "tobs = (mean_diff - truemean_diff) / se_meandiff\n",
    "print(\"tobs using welch's t-test: \", tobs)"
   ]
  },
  {
   "cell_type": "code",
   "execution_count": 31,
   "metadata": {
    "scrolled": true
   },
   "outputs": [
    {
     "data": {
      "text/plain": [
       "Ttest_indResult(statistic=-0.73369485503946, pvalue=0.480230734082603)"
      ]
     },
     "execution_count": 31,
     "metadata": {},
     "output_type": "execute_result"
    }
   ],
   "source": [
    "# calculate tobs using stats package where variance is not equal\n",
    "stats.ttest_ind(na,fl,equal_var = False) "
   ]
  },
  {
   "cell_type": "markdown",
   "metadata": {},
   "source": [
    "#### Review Stats Package (tobs,tcrit,pvalue)"
   ]
  },
  {
   "cell_type": "markdown",
   "metadata": {},
   "source": [
    "   **NOTE:**\n",
    "\n",
    "    \"We can use this test [scipy.stats.ttest_ind], if we observe two independent samples from the same or different population, e.g. exam scores of boys and girls or of two ethnic groups. \n",
    "\n",
    "    The test measures whether the average (expected) value differs significantly across samples. \n",
    "\n",
    "    If we observe a large p-value, for example larger than 0.05 or 0.1, then we cannot reject the null hypothesis of identical average scores. \n",
    "\n",
    "    If the p-value is smaller than the threshold, e.g. 1%, 5% or 10%, then we reject the null hypothesis of equal averages.\"\n",
    "   [source](https://docs.scipy.org/doc/scipy/reference/generated/scipy.stats.ttest_ind.html)"
   ]
  },
  {
   "cell_type": "code",
   "execution_count": 32,
   "metadata": {
    "scrolled": false
   },
   "outputs": [
    {
     "name": "stdout",
     "output_type": "stream",
     "text": [
      "National mean of correct response per item:  0.5520239101040583\n",
      "Florida mean of correct response per item:  0.5992102462679233\n",
      "Mean difference between na and fl:  -0.04718633616386503\n",
      "DF =  10.000\n",
      "tobs = -0.734\n",
      "pvalue = 0.480\n",
      "tcrit = 2.228\n"
     ]
    }
   ],
   "source": [
    "# summary\n",
    "# tcrit, tobs, and tobs pvalue using stats package assuming equal variances\n",
    "\n",
    "print('National mean of correct response per item: ', na_mean)\n",
    "print('Florida mean of correct response per item: ', fl_mean)\n",
    "print('Mean difference between na and fl: ', mean_diff)\n",
    "\n",
    "print ('DF =  %.3f' % dof2) \n",
    "\n",
    "tobs, pvalue = stats.ttest_ind(na,fl,equal_var = True)\n",
    "tcrit = stats.t.ppf(1-0.025, dof2)\n",
    "\n",
    "print ('tobs = %.3f' % tobs)\n",
    "print ('pvalue = %.3f' % pvalue)\n",
    "print ('tcrit = %.3f' % tcrit)"
   ]
  },
  {
   "cell_type": "markdown",
   "metadata": {},
   "source": [
    "### 3.3.4. Compare tobs to tcrit\n",
    "\n",
    "tobs (-0.734) is not greater than tcrit (2.228) \n",
    "tobs (-0.734) is not less than -tcrit (-2.228) \n",
    "\n",
    "so tobs does not lie in the rejection region.\n",
    "\n",
    "We fail to reject the null hypothesis and accept that the means of correct responses do not differ between the two indepedent populations (state tests (FL K-5) and national test (NA K-5)), t(15) = -0.734, p>0.05."
   ]
  },
  {
   "cell_type": "markdown",
   "metadata": {},
   "source": [
    "## 3.4. Confidence interval using t-test"
   ]
  },
  {
   "cell_type": "code",
   "execution_count": 33,
   "metadata": {},
   "outputs": [
    {
     "name": "stdout",
     "output_type": "stream",
     "text": [
      "Mean difference between na and fl:  -0.04718633616386503\n",
      "Standard deviation of the mean difference between na and fl:  0.05870974049009482\n"
     ]
    }
   ],
   "source": [
    "print('Mean difference between na and fl: ', mean_diff)\n",
    "print('Standard deviation of the mean difference between na and fl: ', se_meandiff)"
   ]
  },
  {
   "attachments": {
    "image.png": {
     "image/png": "[encoded data removed]"
    }
   },
   "cell_type": "markdown",
   "metadata": {},
   "source": [
    "##### Confidence interval for the difference in two means ([source](http://www.stat.yale.edu/Courses/1997-98/101/meancomp.htm))\n",
    "\n",
    "![image.png](attachment:image.png)"
   ]
  },
  {
   "cell_type": "code",
   "execution_count": 34,
   "metadata": {},
   "outputs": [
    {
     "name": "stdout",
     "output_type": "stream",
     "text": [
      "95 % confidence interval:  -0.16225742752445088 0.06788475519672083\n",
      "99 % confidence interval:  -0.1986574666283097 0.10428479430057963\n",
      "90 % confidence interval:  -0.14405740797252148 0.04968473564479142\n"
     ]
    }
   ],
   "source": [
    "def ci(mean_diff, se_meandiff):\n",
    "    tcrit = {95:1.96, 99:2.58, 90:1.65}\n",
    "    for key in tcrit:\n",
    "        lci, uci = mean_diff - (tcrit[key]*se_meandiff), mean_diff + (tcrit[key]*se_meandiff)\n",
    "        print(key, \"% confidence interval: \", lci, uci)\n",
    "        \n",
    "ci(mean_diff, se_meandiff)"
   ]
  },
  {
   "cell_type": "code",
   "execution_count": 35,
   "metadata": {},
   "outputs": [
    {
     "name": "stdout",
     "output_type": "stream",
     "text": [
      "(-0.1907784029160697, 0.0964057305883392)\n"
     ]
    }
   ],
   "source": [
    "import statsmodels.stats.api as sm\n",
    "\n",
    "cm = sm.CompareMeans(sm.DescrStatsW(na), sm.DescrStatsW(fl))\n",
    "print(cm.tconfint_diff(usevar='unequal'))   # 95 % confidence interval "
   ]
  },
  {
   "cell_type": "markdown",
   "metadata": {},
   "source": [
    "### 3.3 Run same ttest on incorrect and partial percentages"
   ]
  },
  {
   "cell_type": "markdown",
   "metadata": {},
   "source": [
    "The same results apply for incorrect and partial responses, that is a ttest showed there was not a significant difference between the mean percent rate of response types (incorrect or partial) between the two independent populations (FL K-5 and NA K-5 Tests)."
   ]
  },
  {
   "cell_type": "markdown",
   "metadata": {},
   "source": [
    "### Incorrect Responses"
   ]
  },
  {
   "cell_type": "code",
   "execution_count": 36,
   "metadata": {},
   "outputs": [
    {
     "name": "stdout",
     "output_type": "stream",
     "text": [
      "(0.8895382881164551, 0.3157758414745331)\n",
      "(0.9319736361503601, 0.5954276323318481)\n"
     ]
    }
   ],
   "source": [
    "na,fl=df[(df.item=='NA')]['incorrect_perc'], df[(df.item=='FL')]['incorrect_perc']\n",
    "print(stats.shapiro(na)) # outputs t-statistic and pvalue\n",
    "print(stats.shapiro(fl))"
   ]
  },
  {
   "cell_type": "code",
   "execution_count": 37,
   "metadata": {
    "scrolled": true
   },
   "outputs": [
    {
     "data": {
      "text/plain": [
       "<matplotlib.axes._subplots.AxesSubplot at 0x7ff0657a9050>"
      ]
     },
     "execution_count": 37,
     "metadata": {},
     "output_type": "execute_result"
    },
    {
     "data": {
      "image/png": "[encoded data removed]",
      "text/plain": [
       "<Figure size 432x288 with 1 Axes>"
      ]
     },
     "metadata": {
      "needs_background": "light"
     },
     "output_type": "display_data"
    }
   ],
   "source": [
    "na.plot(kind='bar')"
   ]
  },
  {
   "cell_type": "code",
   "execution_count": 38,
   "metadata": {},
   "outputs": [
    {
     "data": {
      "text/plain": [
       "<matplotlib.axes._subplots.AxesSubplot at 0x7ff0655ab1d0>"
      ]
     },
     "execution_count": 38,
     "metadata": {},
     "output_type": "execute_result"
    },
    {
     "data": {
      "image/png": "[encoded data removed]",
      "text/plain": [
       "<Figure size 432x288 with 1 Axes>"
      ]
     },
     "metadata": {
      "needs_background": "light"
     },
     "output_type": "display_data"
    }
   ],
   "source": [
    "fl.plot(kind='bar')"
   ]
  },
  {
   "cell_type": "code",
   "execution_count": 39,
   "metadata": {},
   "outputs": [
    {
     "name": "stdout",
     "output_type": "stream",
     "text": [
      "National mean of incorrect response per item:  0.3808942320522368\n",
      "Florida mean of incorrect response per item:  0.33338520091858487\n",
      "Mean difference between na and fl:  0.04750903113365196\n",
      "DF =  10.000\n",
      "tobs = 1.016\n",
      "pvalue = 0.334\n",
      "tcrit = 2.228\n"
     ]
    }
   ],
   "source": [
    "# tcrit, tobs, and tobs pvalue using stats package assuming equal variances\n",
    "na_n, fl_n= len(na), len(fl)\n",
    "std_na, std_fl = np.std(na), np.std(fl)\n",
    "na_mean, fl_mean = np.mean(na), np.mean(fl)\n",
    "mean_diff = np.subtract(na_mean, fl_mean)\n",
    "\n",
    "print('National mean of incorrect response per item: ', na_mean)\n",
    "print('Florida mean of incorrect response per item: ', fl_mean)\n",
    "print('Mean difference between na and fl: ', mean_diff)\n",
    "\n",
    "print ('DF =  %.3f' % dof2) \n",
    "\n",
    "tobs, pvalue = stats.ttest_ind(na,fl,equal_var = True)\n",
    "tcrit = stats.t.ppf(1-0.025, dof2)\n",
    "\n",
    "print ('tobs = %.3f' % tobs)\n",
    "print ('pvalue = %.3f' % pvalue)\n",
    "print ('tcrit = %.3f' % tcrit)   "
   ]
  },
  {
   "cell_type": "code",
   "execution_count": 40,
   "metadata": {},
   "outputs": [
    {
     "name": "stdout",
     "output_type": "stream",
     "text": [
      "(-0.056831670115357016, 0.15184973238266092)\n"
     ]
    }
   ],
   "source": [
    "cm = sm.CompareMeans(sm.DescrStatsW(na), sm.DescrStatsW(fl))\n",
    "print(cm.tconfint_diff(usevar='unequal'))   # 95 % confidence interval "
   ]
  },
  {
   "cell_type": "markdown",
   "metadata": {},
   "source": [
    "### Partial Responses"
   ]
  },
  {
   "cell_type": "code",
   "execution_count": 41,
   "metadata": {},
   "outputs": [
    {
     "name": "stdout",
     "output_type": "stream",
     "text": [
      "(0.8601634502410889, 0.1897275149822235)\n",
      "(0.931915283203125, 0.5949720144271851)\n"
     ]
    }
   ],
   "source": [
    "na,fl=df[(df.item=='NA')]['partial_perc'], df[(df.item=='FL')]['partial_perc']\n",
    "print(stats.shapiro(na)) # outputs t-statistic and pvalue\n",
    "print(stats.shapiro(fl))"
   ]
  },
  {
   "cell_type": "code",
   "execution_count": 42,
   "metadata": {},
   "outputs": [
    {
     "data": {
      "text/plain": [
       "<matplotlib.axes._subplots.AxesSubplot at 0x7ff06558cc10>"
      ]
     },
     "execution_count": 42,
     "metadata": {},
     "output_type": "execute_result"
    },
    {
     "data": {
      "image/png": "[encoded data removed]",
      "text/plain": [
       "<Figure size 432x288 with 1 Axes>"
      ]
     },
     "metadata": {
      "needs_background": "light"
     },
     "output_type": "display_data"
    }
   ],
   "source": [
    "na.plot(kind='bar')"
   ]
  },
  {
   "cell_type": "code",
   "execution_count": 43,
   "metadata": {},
   "outputs": [
    {
     "data": {
      "text/plain": [
       "<matplotlib.axes._subplots.AxesSubplot at 0x7ff0655a2ad0>"
      ]
     },
     "execution_count": 43,
     "metadata": {},
     "output_type": "execute_result"
    },
    {
     "data": {
      "image/png": "[encoded data removed]",
      "text/plain": [
       "<Figure size 432x288 with 1 Axes>"
      ]
     },
     "metadata": {
      "needs_background": "light"
     },
     "output_type": "display_data"
    }
   ],
   "source": [
    "fl.plot(kind='bar')"
   ]
  },
  {
   "cell_type": "code",
   "execution_count": 44,
   "metadata": {
    "scrolled": true
   },
   "outputs": [
    {
     "name": "stdout",
     "output_type": "stream",
     "text": [
      "National mean of partial response per item:  0.06708185784370492\n",
      "Florida mean of partial response per item:  0.06740455281349177\n",
      "Mean difference between na and fl:  -0.0003226949697868464\n",
      "DF =  10.000\n",
      "tobs = -0.011\n",
      "pvalue = 0.991\n",
      "tcrit = 2.228\n",
      "(-0.06515118610812802, 0.06450579616855433)\n"
     ]
    }
   ],
   "source": [
    "# tcrit, tobs, and tobs pvalue using stats package assuming equal variances\n",
    "\n",
    "na_n, fl_n= len(na), len(fl)\n",
    "std_na, std_fl = np.std(na), np.std(fl)\n",
    "na_mean, fl_mean = np.mean(na), np.mean(fl)\n",
    "mean_diff = np.subtract(na_mean, fl_mean)\n",
    "\n",
    "print('National mean of partial response per item: ', na_mean)\n",
    "print('Florida mean of partial response per item: ', fl_mean)\n",
    "print('Mean difference between na and fl: ', mean_diff)\n",
    "\n",
    "print ('DF =  %.3f' % dof2) \n",
    "\n",
    "tobs, pvalue = stats.ttest_ind(na,fl,equal_var = True)\n",
    "tcrit = stats.t.ppf(1-0.025, dof2)\n",
    "\n",
    "print ('tobs = %.3f' % tobs)\n",
    "print ('pvalue = %.3f' % pvalue)\n",
    "print ('tcrit = %.3f' % tcrit)\n",
    "\n",
    "cm = sm.CompareMeans(sm.DescrStatsW(na), sm.DescrStatsW(fl))\n",
    "print(cm.tconfint_diff(usevar='unequal'))   # 95 % confidence interval "
   ]
  }
 ],
 "metadata": {
  "kernelspec": {
   "display_name": "Python 3",
   "language": "python",
   "name": "python3"
  },
  "language_info": {
   "codemirror_mode": {
    "name": "ipython",
    "version": 3
   },
   "file_extension": ".py",
   "mimetype": "text/x-python",
   "name": "python",
   "nbconvert_exporter": "python",
   "pygments_lexer": "ipython3",
   "version": "3.7.4"
  }
 },
 "nbformat": 4,
 "nbformat_minor": 2
}
