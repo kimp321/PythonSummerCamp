{
 "cells": [
  {
   "cell_type": "markdown",
   "metadata": {},
   "source": [
    "This notebook:\n",
    "- **explores** response data for questions (or items) on a test\n",
    "- **visualizes** differences between item responses at the state and national levels\n",
    "- **models** if there is a statistically difference between the mean responses at the state and national levels using t test confidence interval and hypothesis testing"
   ]
  },
  {
   "cell_type": "markdown",
   "metadata": {},
   "source": [
    "# 0. Load libaries"
   ]
  },
  {
   "cell_type": "code",
   "execution_count": 386,
   "metadata": {},
   "outputs": [],
   "source": [
    "import pandas as pd \n",
    "import numpy as np"
   ]
  },
  {
   "cell_type": "markdown",
   "metadata": {},
   "source": [
    "# 1. Load and prep data"
   ]
  },
  {
   "cell_type": "code",
   "execution_count": 265,
   "metadata": {},
   "outputs": [
    {
     "data": {
      "text/html": [
       "<div>\n",
       "<style scoped>\n",
       "    .dataframe tbody tr th:only-of-type {\n",
       "        vertical-align: middle;\n",
       "    }\n",
       "\n",
       "    .dataframe tbody tr th {\n",
       "        vertical-align: top;\n",
       "    }\n",
       "\n",
       "    .dataframe thead th {\n",
       "        text-align: right;\n",
       "    }\n",
       "</style>\n",
       "<table border=\"1\" class=\"dataframe\">\n",
       "  <thead>\n",
       "    <tr style=\"text-align: right;\">\n",
       "      <th></th>\n",
       "      <th>Item_ID</th>\n",
       "      <th>score_outcome</th>\n",
       "      <th>number_of_responses</th>\n",
       "    </tr>\n",
       "  </thead>\n",
       "  <tbody>\n",
       "    <tr>\n",
       "      <td>0</td>\n",
       "      <td>FL01M_CC_L01_01</td>\n",
       "      <td>INCORRECT</td>\n",
       "      <td>81</td>\n",
       "    </tr>\n",
       "    <tr>\n",
       "      <td>1</td>\n",
       "      <td>FL01M_CC_L01_01</td>\n",
       "      <td>CORRECT</td>\n",
       "      <td>799</td>\n",
       "    </tr>\n",
       "    <tr>\n",
       "      <td>2</td>\n",
       "      <td>FL01M_CC_L01_02</td>\n",
       "      <td>INCORRECT</td>\n",
       "      <td>70</td>\n",
       "    </tr>\n",
       "    <tr>\n",
       "      <td>3</td>\n",
       "      <td>FL01M_CC_L01_02</td>\n",
       "      <td>CORRECT</td>\n",
       "      <td>810</td>\n",
       "    </tr>\n",
       "    <tr>\n",
       "      <td>4</td>\n",
       "      <td>FL01M_CC_L01_03</td>\n",
       "      <td>INCORRECT</td>\n",
       "      <td>141</td>\n",
       "    </tr>\n",
       "  </tbody>\n",
       "</table>\n",
       "</div>"
      ],
      "text/plain": [
       "           Item_ID score_outcome  number_of_responses\n",
       "0  FL01M_CC_L01_01     INCORRECT                   81\n",
       "1  FL01M_CC_L01_01       CORRECT                  799\n",
       "2  FL01M_CC_L01_02     INCORRECT                   70\n",
       "3  FL01M_CC_L01_02       CORRECT                  810\n",
       "4  FL01M_CC_L01_03     INCORRECT                  141"
      ]
     },
     "execution_count": 265,
     "metadata": {},
     "output_type": "execute_result"
    }
   ],
   "source": [
    "df = pd.read_excel('Data/Quiz_Item_Responses.xlsx') \n",
    "df.head()"
   ]
  },
  {
   "cell_type": "code",
   "execution_count": 266,
   "metadata": {
    "scrolled": false
   },
   "outputs": [
    {
     "data": {
      "text/html": [
       "<div>\n",
       "<style scoped>\n",
       "    .dataframe tbody tr th:only-of-type {\n",
       "        vertical-align: middle;\n",
       "    }\n",
       "\n",
       "    .dataframe tbody tr th {\n",
       "        vertical-align: top;\n",
       "    }\n",
       "\n",
       "    .dataframe thead th {\n",
       "        text-align: right;\n",
       "    }\n",
       "</style>\n",
       "<table border=\"1\" class=\"dataframe\">\n",
       "  <thead>\n",
       "    <tr style=\"text-align: right;\">\n",
       "      <th></th>\n",
       "      <th>Item_ID</th>\n",
       "      <th>score_outcome</th>\n",
       "      <th>number_of_responses</th>\n",
       "      <th>total_responses</th>\n",
       "      <th>percent_score_outcome_of_total_response</th>\n",
       "    </tr>\n",
       "  </thead>\n",
       "  <tbody>\n",
       "    <tr>\n",
       "      <td>1</td>\n",
       "      <td>FL01M_CC_L01_01</td>\n",
       "      <td>CORRECT</td>\n",
       "      <td>799</td>\n",
       "      <td>880</td>\n",
       "      <td>90.795455</td>\n",
       "    </tr>\n",
       "    <tr>\n",
       "      <td>3</td>\n",
       "      <td>FL01M_CC_L01_02</td>\n",
       "      <td>CORRECT</td>\n",
       "      <td>810</td>\n",
       "      <td>880</td>\n",
       "      <td>92.045455</td>\n",
       "    </tr>\n",
       "    <tr>\n",
       "      <td>5</td>\n",
       "      <td>FL01M_CC_L01_03</td>\n",
       "      <td>CORRECT</td>\n",
       "      <td>739</td>\n",
       "      <td>880</td>\n",
       "      <td>83.977273</td>\n",
       "    </tr>\n",
       "    <tr>\n",
       "      <td>7</td>\n",
       "      <td>FL01M_CC_L01_04</td>\n",
       "      <td>CORRECT</td>\n",
       "      <td>776</td>\n",
       "      <td>879</td>\n",
       "      <td>88.282139</td>\n",
       "    </tr>\n",
       "    <tr>\n",
       "      <td>9</td>\n",
       "      <td>FL01M_CC_L01_05</td>\n",
       "      <td>CORRECT</td>\n",
       "      <td>782</td>\n",
       "      <td>879</td>\n",
       "      <td>88.964733</td>\n",
       "    </tr>\n",
       "  </tbody>\n",
       "</table>\n",
       "</div>"
      ],
      "text/plain": [
       "           Item_ID score_outcome  number_of_responses  total_responses  \\\n",
       "1  FL01M_CC_L01_01       CORRECT                  799              880   \n",
       "3  FL01M_CC_L01_02       CORRECT                  810              880   \n",
       "5  FL01M_CC_L01_03       CORRECT                  739              880   \n",
       "7  FL01M_CC_L01_04       CORRECT                  776              879   \n",
       "9  FL01M_CC_L01_05       CORRECT                  782              879   \n",
       "\n",
       "   percent_score_outcome_of_total_response  \n",
       "1                                90.795455  \n",
       "3                                92.045455  \n",
       "5                                83.977273  \n",
       "7                                88.282139  \n",
       "9                                88.964733  "
      ]
     },
     "execution_count": 266,
     "metadata": {},
     "output_type": "execute_result"
    }
   ],
   "source": [
    "# group by Item_ID and sum number of responses\n",
    "# add new variable percent_score_outcome_of_total_response, or number of responses / total responses\n",
    "# filter where score_outcome is correct\n",
    "groupby = (df.groupby(['Item_ID'])\n",
    "           .agg({'number_of_responses': 'sum'})\n",
    "           .rename(columns={'number_of_responses': 'total_responses'}))\n",
    "df = df.join(groupby, on='Item_ID')\n",
    "df[\"percent_score_outcome_of_total_response\"]= join[\"number_of_responses\"]/join[\"total_responses\"]*100\n",
    "df = df[df['score_outcome']==\"CORRECT\"]\n",
    "df.head()"
   ]
  },
  {
   "cell_type": "code",
   "execution_count": 293,
   "metadata": {},
   "outputs": [
    {
     "data": {
      "text/html": [
       "<div>\n",
       "<style scoped>\n",
       "    .dataframe tbody tr th:only-of-type {\n",
       "        vertical-align: middle;\n",
       "    }\n",
       "\n",
       "    .dataframe tbody tr th {\n",
       "        vertical-align: top;\n",
       "    }\n",
       "\n",
       "    .dataframe thead th {\n",
       "        text-align: right;\n",
       "    }\n",
       "</style>\n",
       "<table border=\"1\" class=\"dataframe\">\n",
       "  <thead>\n",
       "    <tr style=\"text-align: right;\">\n",
       "      <th></th>\n",
       "      <th>Item_ID</th>\n",
       "      <th>score_outcome</th>\n",
       "      <th>number_of_responses</th>\n",
       "      <th>total_responses</th>\n",
       "      <th>percent_score_outcome_of_total_response</th>\n",
       "      <th>Item_1</th>\n",
       "      <th>Item_2</th>\n",
       "      <th>Item_3</th>\n",
       "      <th>Item_4</th>\n",
       "      <th>Item_5</th>\n",
       "    </tr>\n",
       "  </thead>\n",
       "  <tbody>\n",
       "    <tr>\n",
       "      <td>1</td>\n",
       "      <td>FL01M_CC_L01_01</td>\n",
       "      <td>CORRECT</td>\n",
       "      <td>799</td>\n",
       "      <td>880</td>\n",
       "      <td>90.795455</td>\n",
       "      <td>FL01M</td>\n",
       "      <td>CC</td>\n",
       "      <td>L01</td>\n",
       "      <td>01</td>\n",
       "      <td>None</td>\n",
       "    </tr>\n",
       "    <tr>\n",
       "      <td>3</td>\n",
       "      <td>FL01M_CC_L01_02</td>\n",
       "      <td>CORRECT</td>\n",
       "      <td>810</td>\n",
       "      <td>880</td>\n",
       "      <td>92.045455</td>\n",
       "      <td>FL01M</td>\n",
       "      <td>CC</td>\n",
       "      <td>L01</td>\n",
       "      <td>02</td>\n",
       "      <td>None</td>\n",
       "    </tr>\n",
       "    <tr>\n",
       "      <td>5</td>\n",
       "      <td>FL01M_CC_L01_03</td>\n",
       "      <td>CORRECT</td>\n",
       "      <td>739</td>\n",
       "      <td>880</td>\n",
       "      <td>83.977273</td>\n",
       "      <td>FL01M</td>\n",
       "      <td>CC</td>\n",
       "      <td>L01</td>\n",
       "      <td>03</td>\n",
       "      <td>None</td>\n",
       "    </tr>\n",
       "    <tr>\n",
       "      <td>7</td>\n",
       "      <td>FL01M_CC_L01_04</td>\n",
       "      <td>CORRECT</td>\n",
       "      <td>776</td>\n",
       "      <td>879</td>\n",
       "      <td>88.282139</td>\n",
       "      <td>FL01M</td>\n",
       "      <td>CC</td>\n",
       "      <td>L01</td>\n",
       "      <td>04</td>\n",
       "      <td>None</td>\n",
       "    </tr>\n",
       "    <tr>\n",
       "      <td>9</td>\n",
       "      <td>FL01M_CC_L01_05</td>\n",
       "      <td>CORRECT</td>\n",
       "      <td>782</td>\n",
       "      <td>879</td>\n",
       "      <td>88.964733</td>\n",
       "      <td>FL01M</td>\n",
       "      <td>CC</td>\n",
       "      <td>L01</td>\n",
       "      <td>05</td>\n",
       "      <td>None</td>\n",
       "    </tr>\n",
       "  </tbody>\n",
       "</table>\n",
       "</div>"
      ],
      "text/plain": [
       "           Item_ID score_outcome  number_of_responses  total_responses  \\\n",
       "1  FL01M_CC_L01_01       CORRECT                  799              880   \n",
       "3  FL01M_CC_L01_02       CORRECT                  810              880   \n",
       "5  FL01M_CC_L01_03       CORRECT                  739              880   \n",
       "7  FL01M_CC_L01_04       CORRECT                  776              879   \n",
       "9  FL01M_CC_L01_05       CORRECT                  782              879   \n",
       "\n",
       "   percent_score_outcome_of_total_response Item_1 Item_2 Item_3 Item_4 Item_5  \n",
       "1                                90.795455  FL01M     CC    L01     01   None  \n",
       "3                                92.045455  FL01M     CC    L01     02   None  \n",
       "5                                83.977273  FL01M     CC    L01     03   None  \n",
       "7                                88.282139  FL01M     CC    L01     04   None  \n",
       "9                                88.964733  FL01M     CC    L01     05   None  "
      ]
     },
     "execution_count": 293,
     "metadata": {},
     "output_type": "execute_result"
    }
   ],
   "source": [
    "# split item id into parts\n",
    "df[[\"Item_1\",\"Item_2\",\"Item_3\",\"Item_4\",\"Item_5\"]]= df2[\"Item_ID\"].str.split(\"_\", expand = True)\n",
    "df.head()"
   ]
  },
  {
   "cell_type": "code",
   "execution_count": 292,
   "metadata": {
    "scrolled": true
   },
   "outputs": [
    {
     "data": {
      "text/html": [
       "<div>\n",
       "<style scoped>\n",
       "    .dataframe tbody tr th:only-of-type {\n",
       "        vertical-align: middle;\n",
       "    }\n",
       "\n",
       "    .dataframe tbody tr th {\n",
       "        vertical-align: top;\n",
       "    }\n",
       "\n",
       "    .dataframe thead th {\n",
       "        text-align: right;\n",
       "    }\n",
       "</style>\n",
       "<table border=\"1\" class=\"dataframe\">\n",
       "  <thead>\n",
       "    <tr style=\"text-align: right;\">\n",
       "      <th></th>\n",
       "      <th>mean_correct_response_per_item</th>\n",
       "      <th>mean_total_responses_per_item</th>\n",
       "      <th>mean_percent_correct_per_item</th>\n",
       "    </tr>\n",
       "    <tr>\n",
       "      <th>Item_1</th>\n",
       "      <th></th>\n",
       "      <th></th>\n",
       "      <th></th>\n",
       "    </tr>\n",
       "  </thead>\n",
       "  <tbody>\n",
       "    <tr>\n",
       "      <td>FL01M</td>\n",
       "      <td>40182</td>\n",
       "      <td>198.550523</td>\n",
       "      <td>71.143569</td>\n",
       "    </tr>\n",
       "    <tr>\n",
       "      <td>FL02M</td>\n",
       "      <td>19834</td>\n",
       "      <td>217.697297</td>\n",
       "      <td>51.289734</td>\n",
       "    </tr>\n",
       "    <tr>\n",
       "      <td>FL03M</td>\n",
       "      <td>38199</td>\n",
       "      <td>311.810127</td>\n",
       "      <td>51.648672</td>\n",
       "    </tr>\n",
       "    <tr>\n",
       "      <td>FL04M</td>\n",
       "      <td>57805</td>\n",
       "      <td>436.034188</td>\n",
       "      <td>56.676054</td>\n",
       "    </tr>\n",
       "    <tr>\n",
       "      <td>FL05M</td>\n",
       "      <td>41944</td>\n",
       "      <td>322.482609</td>\n",
       "      <td>55.052027</td>\n",
       "    </tr>\n",
       "    <tr>\n",
       "      <td>FL0KM</td>\n",
       "      <td>29590</td>\n",
       "      <td>151.015326</td>\n",
       "      <td>71.830159</td>\n",
       "    </tr>\n",
       "    <tr>\n",
       "      <td>G2</td>\n",
       "      <td>5896</td>\n",
       "      <td>316.725000</td>\n",
       "      <td>50.261343</td>\n",
       "    </tr>\n",
       "    <tr>\n",
       "      <td>G3</td>\n",
       "      <td>1645</td>\n",
       "      <td>356.888889</td>\n",
       "      <td>55.116006</td>\n",
       "    </tr>\n",
       "    <tr>\n",
       "      <td>G4</td>\n",
       "      <td>12919</td>\n",
       "      <td>420.568966</td>\n",
       "      <td>61.338602</td>\n",
       "    </tr>\n",
       "    <tr>\n",
       "      <td>G5</td>\n",
       "      <td>18051</td>\n",
       "      <td>419.628205</td>\n",
       "      <td>53.641892</td>\n",
       "    </tr>\n",
       "    <tr>\n",
       "      <td>NA01M</td>\n",
       "      <td>392772</td>\n",
       "      <td>1382.801354</td>\n",
       "      <td>63.112870</td>\n",
       "    </tr>\n",
       "    <tr>\n",
       "      <td>NA02M</td>\n",
       "      <td>306263</td>\n",
       "      <td>1793.550388</td>\n",
       "      <td>43.074546</td>\n",
       "    </tr>\n",
       "    <tr>\n",
       "      <td>NA03M</td>\n",
       "      <td>593289</td>\n",
       "      <td>2934.067470</td>\n",
       "      <td>50.629055</td>\n",
       "    </tr>\n",
       "    <tr>\n",
       "      <td>NA04M</td>\n",
       "      <td>953257</td>\n",
       "      <td>4692.206311</td>\n",
       "      <td>50.832110</td>\n",
       "    </tr>\n",
       "    <tr>\n",
       "      <td>NA05M</td>\n",
       "      <td>825803</td>\n",
       "      <td>4160.521411</td>\n",
       "      <td>44.860226</td>\n",
       "    </tr>\n",
       "    <tr>\n",
       "      <td>NA0KM</td>\n",
       "      <td>231815</td>\n",
       "      <td>824.680000</td>\n",
       "      <td>74.550137</td>\n",
       "    </tr>\n",
       "  </tbody>\n",
       "</table>\n",
       "</div>"
      ],
      "text/plain": [
       "        mean_correct_response_per_item  mean_total_responses_per_item  \\\n",
       "Item_1                                                                  \n",
       "FL01M                            40182                     198.550523   \n",
       "FL02M                            19834                     217.697297   \n",
       "FL03M                            38199                     311.810127   \n",
       "FL04M                            57805                     436.034188   \n",
       "FL05M                            41944                     322.482609   \n",
       "FL0KM                            29590                     151.015326   \n",
       "G2                                5896                     316.725000   \n",
       "G3                                1645                     356.888889   \n",
       "G4                               12919                     420.568966   \n",
       "G5                               18051                     419.628205   \n",
       "NA01M                           392772                    1382.801354   \n",
       "NA02M                           306263                    1793.550388   \n",
       "NA03M                           593289                    2934.067470   \n",
       "NA04M                           953257                    4692.206311   \n",
       "NA05M                           825803                    4160.521411   \n",
       "NA0KM                           231815                     824.680000   \n",
       "\n",
       "        mean_percent_correct_per_item  \n",
       "Item_1                                 \n",
       "FL01M                       71.143569  \n",
       "FL02M                       51.289734  \n",
       "FL03M                       51.648672  \n",
       "FL04M                       56.676054  \n",
       "FL05M                       55.052027  \n",
       "FL0KM                       71.830159  \n",
       "G2                          50.261343  \n",
       "G3                          55.116006  \n",
       "G4                          61.338602  \n",
       "G5                          53.641892  \n",
       "NA01M                       63.112870  \n",
       "NA02M                       43.074546  \n",
       "NA03M                       50.629055  \n",
       "NA04M                       50.832110  \n",
       "NA05M                       44.860226  \n",
       "NA0KM                       74.550137  "
      ]
     },
     "execution_count": 292,
     "metadata": {},
     "output_type": "execute_result"
    }
   ],
   "source": [
    "# item_1 represents a higher group than item_ids\n",
    "# group by item_1 and average number_of_responses, total_responses, and percent\n",
    "\n",
    "# For correct responses,\n",
    "# What is the mean response behavior per item_id by item_1, or question on a test?\n",
    "\n",
    "groupby2 = (df.groupby(['Item_1'])\n",
    "            .agg({'number_of_responses': 'sum',\n",
    "                  'total_responses': 'mean',\n",
    "                  'percent_score_outcome_of_total_response': 'mean'})\n",
    "            .rename(columns={'number_of_responses':'mean_correct_response_per_item',\n",
    "                         'total_responses':'mean_total_responses_per_item',\n",
    "                         'percent_score_outcome_of_total_response':'mean_percent_correct_per_item'\n",
    "                        }))\n",
    "groupby2"
   ]
  },
  {
   "cell_type": "code",
   "execution_count": 231,
   "metadata": {},
   "outputs": [
    {
     "data": {
      "text/html": [
       "<div>\n",
       "<style scoped>\n",
       "    .dataframe tbody tr th:only-of-type {\n",
       "        vertical-align: middle;\n",
       "    }\n",
       "\n",
       "    .dataframe tbody tr th {\n",
       "        vertical-align: top;\n",
       "    }\n",
       "\n",
       "    .dataframe thead tr th {\n",
       "        text-align: left;\n",
       "    }\n",
       "\n",
       "    .dataframe thead tr:last-of-type th {\n",
       "        text-align: right;\n",
       "    }\n",
       "</style>\n",
       "<table border=\"1\" class=\"dataframe\">\n",
       "  <thead>\n",
       "    <tr>\n",
       "      <th></th>\n",
       "      <th colspan=\"2\" halign=\"left\">number_of_responses</th>\n",
       "      <th>percent</th>\n",
       "    </tr>\n",
       "    <tr>\n",
       "      <th></th>\n",
       "      <th>mean</th>\n",
       "      <th>sum</th>\n",
       "      <th>mean</th>\n",
       "    </tr>\n",
       "    <tr>\n",
       "      <th>Item_1</th>\n",
       "      <th></th>\n",
       "      <th></th>\n",
       "      <th></th>\n",
       "    </tr>\n",
       "  </thead>\n",
       "  <tbody>\n",
       "    <tr>\n",
       "      <td>FL01M</td>\n",
       "      <td>140.006969</td>\n",
       "      <td>40182</td>\n",
       "      <td>0.245420</td>\n",
       "    </tr>\n",
       "    <tr>\n",
       "      <td>FL02M</td>\n",
       "      <td>107.210811</td>\n",
       "      <td>19834</td>\n",
       "      <td>0.266091</td>\n",
       "    </tr>\n",
       "    <tr>\n",
       "      <td>FL03M</td>\n",
       "      <td>161.177215</td>\n",
       "      <td>38199</td>\n",
       "      <td>0.217884</td>\n",
       "    </tr>\n",
       "    <tr>\n",
       "      <td>FL04M</td>\n",
       "      <td>247.029915</td>\n",
       "      <td>57805</td>\n",
       "      <td>0.242096</td>\n",
       "    </tr>\n",
       "    <tr>\n",
       "      <td>FL05M</td>\n",
       "      <td>182.365217</td>\n",
       "      <td>41944</td>\n",
       "      <td>0.245802</td>\n",
       "    </tr>\n",
       "    <tr>\n",
       "      <td>FL0KM</td>\n",
       "      <td>113.371648</td>\n",
       "      <td>29590</td>\n",
       "      <td>0.287512</td>\n",
       "    </tr>\n",
       "    <tr>\n",
       "      <td>G2</td>\n",
       "      <td>147.400000</td>\n",
       "      <td>5896</td>\n",
       "      <td>1.162461</td>\n",
       "    </tr>\n",
       "    <tr>\n",
       "      <td>G3</td>\n",
       "      <td>182.777778</td>\n",
       "      <td>1645</td>\n",
       "      <td>5.690466</td>\n",
       "    </tr>\n",
       "    <tr>\n",
       "      <td>G4</td>\n",
       "      <td>222.741379</td>\n",
       "      <td>12919</td>\n",
       "      <td>0.913062</td>\n",
       "    </tr>\n",
       "    <tr>\n",
       "      <td>G5</td>\n",
       "      <td>231.423077</td>\n",
       "      <td>18051</td>\n",
       "      <td>0.707046</td>\n",
       "    </tr>\n",
       "    <tr>\n",
       "      <td>NA01M</td>\n",
       "      <td>886.618510</td>\n",
       "      <td>392772</td>\n",
       "      <td>0.144733</td>\n",
       "    </tr>\n",
       "    <tr>\n",
       "      <td>NA02M</td>\n",
       "      <td>791.377261</td>\n",
       "      <td>306263</td>\n",
       "      <td>0.113992</td>\n",
       "    </tr>\n",
       "    <tr>\n",
       "      <td>NA03M</td>\n",
       "      <td>1429.612048</td>\n",
       "      <td>593289</td>\n",
       "      <td>0.117399</td>\n",
       "    </tr>\n",
       "    <tr>\n",
       "      <td>NA04M</td>\n",
       "      <td>2313.730583</td>\n",
       "      <td>953257</td>\n",
       "      <td>0.119683</td>\n",
       "    </tr>\n",
       "    <tr>\n",
       "      <td>NA05M</td>\n",
       "      <td>2080.108312</td>\n",
       "      <td>825803</td>\n",
       "      <td>0.125930</td>\n",
       "    </tr>\n",
       "    <tr>\n",
       "      <td>NA0KM</td>\n",
       "      <td>618.173333</td>\n",
       "      <td>231815</td>\n",
       "      <td>0.199890</td>\n",
       "    </tr>\n",
       "  </tbody>\n",
       "</table>\n",
       "</div>"
      ],
      "text/plain": [
       "       number_of_responses           percent\n",
       "                      mean     sum      mean\n",
       "Item_1                                      \n",
       "FL01M           140.006969   40182  0.245420\n",
       "FL02M           107.210811   19834  0.266091\n",
       "FL03M           161.177215   38199  0.217884\n",
       "FL04M           247.029915   57805  0.242096\n",
       "FL05M           182.365217   41944  0.245802\n",
       "FL0KM           113.371648   29590  0.287512\n",
       "G2              147.400000    5896  1.162461\n",
       "G3              182.777778    1645  5.690466\n",
       "G4              222.741379   12919  0.913062\n",
       "G5              231.423077   18051  0.707046\n",
       "NA01M           886.618510  392772  0.144733\n",
       "NA02M           791.377261  306263  0.113992\n",
       "NA03M          1429.612048  593289  0.117399\n",
       "NA04M          2313.730583  953257  0.119683\n",
       "NA05M          2080.108312  825803  0.125930\n",
       "NA0KM           618.173333  231815  0.199890"
      ]
     },
     "execution_count": 231,
     "metadata": {},
     "output_type": "execute_result"
    }
   ],
   "source": [
    "# optional\n",
    "(df.groupby(['Item_1'])\n",
    " .agg({'number_of_responses': ['mean', 'sum'],\n",
    "      'percent': 'mean'}))"
   ]
  },
  {
   "cell_type": "markdown",
   "metadata": {},
   "source": [
    "# 2. Visualize data"
   ]
  },
  {
   "cell_type": "code",
   "execution_count": 275,
   "metadata": {
    "scrolled": true
   },
   "outputs": [
    {
     "data": {
      "image/png": "[encoded data removed]",
      "text/plain": [
       "<Figure size 432x288 with 1 Axes>"
      ]
     },
     "metadata": {
      "needs_background": "light"
     },
     "output_type": "display_data"
    }
   ],
   "source": [
    "ax = groupby2.plot.bar(y='mean_percent_correct_per_item', rot=45) # x value is index when not specified\n",
    "                                                                    # optional: join['Item_ID'] = join.index for x"
   ]
  },
  {
   "cell_type": "code",
   "execution_count": 278,
   "metadata": {
    "scrolled": false
   },
   "outputs": [
    {
     "data": {
      "image/png": "[encoded data removed]",
      "text/plain": [
       "<Figure size 432x288 with 1 Axes>"
      ]
     },
     "metadata": {
      "needs_background": "light"
     },
     "output_type": "display_data"
    }
   ],
   "source": [
    "ax = groupby2.plot.bar(y='mean_total_responses_per_item', rot=45) # join.plot(kind='bar'...) also works"
   ]
  },
  {
   "cell_type": "code",
   "execution_count": 306,
   "metadata": {},
   "outputs": [
    {
     "data": {
      "text/plain": [
       "<matplotlib.axes._subplots.AxesSubplot at 0x7f8575f6ead0>"
      ]
     },
     "execution_count": 306,
     "metadata": {},
     "output_type": "execute_result"
    },
    {
     "data": {
      "image/png": "[encoded data removed]",
      "text/plain": [
       "<Figure size 432x288 with 1 Axes>"
      ]
     },
     "metadata": {
      "needs_background": "light"
     },
     "output_type": "display_data"
    }
   ],
   "source": [
    "# population n size of responses\n",
    "(df.groupby('Item_1')\n",
    " .agg({'number_of_responses': 'sum'})\n",
    " .rename(columns={'number_of_responses':'total_number_of_responses'})\n",
    " .plot())"
   ]
  },
  {
   "cell_type": "markdown",
   "metadata": {},
   "source": [
    "# 3. Model data\n",
    "\n",
    "## Is there a statistical difference in the mean of percent of total correct responses between the two populations (state tests (FL) and national test (NA))?\n",
    "\n",
    "Use t test. Note: t test is used for small samples but still robust enough to use and acts more conservation on large samples.\n",
    "\n",
    "First, understand (sample) population.\n",
    "\n",
    "Then, run t test.\n",
    "\n",
    "    Steps:\n",
    "        1. set up h0 and ha\n",
    "        2. set up rejection region, tcrit\n",
    "        3. gather data, calculate tobs\n",
    "        4. compare tobs to tcrit\n",
    "\n",
    "Also, evaluate confidence interval and compare Sattertwaite's approximation for degrees of freedom."
   ]
  },
  {
   "cell_type": "markdown",
   "metadata": {},
   "source": [
    "## 3.1. Examine n size of sample populations"
   ]
  },
  {
   "cell_type": "code",
   "execution_count": 313,
   "metadata": {
    "scrolled": false
   },
   "outputs": [
    {
     "data": {
      "text/plain": [
       "NA01M    443\n",
       "NA03M    415\n",
       "NA04M    412\n",
       "NA05M    397\n",
       "NA02M    387\n",
       "NA0KM    375\n",
       "FL01M    287\n",
       "FL0KM    261\n",
       "FL03M    237\n",
       "FL04M    234\n",
       "FL05M    230\n",
       "FL02M    185\n",
       "G5        78\n",
       "G4        58\n",
       "G2        40\n",
       "G3         9\n",
       "Name: Item_1, dtype: int64"
      ]
     },
     "execution_count": 313,
     "metadata": {},
     "output_type": "execute_result"
    }
   ],
   "source": [
    "# nsize for all tests\n",
    "df.Item_1.value_counts()"
   ]
  },
  {
   "cell_type": "code",
   "execution_count": 343,
   "metadata": {},
   "outputs": [
    {
     "data": {
      "text/plain": [
       "NA01M    443\n",
       "FL01M    287\n",
       "Name: Item_1, dtype: int64"
      ]
     },
     "execution_count": 343,
     "metadata": {},
     "output_type": "execute_result"
    }
   ],
   "source": [
    "# nsize for NA01M and NA01M\n",
    "df.Item_1[(df.Item_1=='NA01M')|(df.Item_1=='FL01M')].value_counts()"
   ]
  },
  {
   "cell_type": "code",
   "execution_count": 316,
   "metadata": {
    "scrolled": false
   },
   "outputs": [
    {
     "data": {
      "text/plain": [
       "<matplotlib.axes._subplots.AxesSubplot at 0x7f85763fea90>"
      ]
     },
     "execution_count": 316,
     "metadata": {},
     "output_type": "execute_result"
    },
    {
     "data": {
      "image/png": "[encoded data removed]",
      "text/plain": [
       "<Figure size 432x288 with 1 Axes>"
      ]
     },
     "metadata": {
      "needs_background": "light"
     },
     "output_type": "display_data"
    }
   ],
   "source": [
    "df.Item_1[(df.Item_1=='NA01M')|(df.Item_1=='FL01M')].value_counts().plot(kind='bar')"
   ]
  },
  {
   "cell_type": "markdown",
   "metadata": {},
   "source": [
    "## 3.2 Run ttest"
   ]
  },
  {
   "cell_type": "markdown",
   "metadata": {},
   "source": [
    "### 3.2.1. Hypothesis \n",
    "        H0: m1 = m2\n",
    "        Ha: m1 != m2 \n",
    "        alpha = 0.05\n",
    "        two sided test, so alpha/2 = .025"
   ]
  },
  {
   "cell_type": "markdown",
   "metadata": {},
   "source": [
    "### 3.2.2. Set up rejection region, tcrit"
   ]
  },
  {
   "cell_type": "code",
   "execution_count": 379,
   "metadata": {},
   "outputs": [
    {
     "name": "stdout",
     "output_type": "stream",
     "text": [
      "degree of freedom:  728\n",
      "lower critical value:  -1.9606\n",
      "upper critical value:  1.9606\n"
     ]
    }
   ],
   "source": [
    "nasize=443\n",
    "flsize=287\n",
    "degreeoffreedom = nasize + flsize - 2\n",
    "print('degree of freedom: ', degreeoffreedom)\n",
    "\n",
    "# use ttable to find tcrit for degrees of freedom 3765 at alpha = 0.05 level, two-sided so alpha/2 = 0.025\n",
    "ltcrit, utcrit = -1.9606, 1.9606\n",
    "print('lower critical value: ', ltcrit)\n",
    "print('upper critical value: ', utcrit)\n",
    "# http://www.ttable.org/student-t-value-calculator.html"
   ]
  },
  {
   "cell_type": "markdown",
   "metadata": {},
   "source": [
    "### 3.3.3. Gather data, calculate tobs"
   ]
  },
  {
   "cell_type": "code",
   "execution_count": 377,
   "metadata": {},
   "outputs": [
    {
     "data": {
      "text/html": [
       "<div>\n",
       "<style scoped>\n",
       "    .dataframe tbody tr th:only-of-type {\n",
       "        vertical-align: middle;\n",
       "    }\n",
       "\n",
       "    .dataframe tbody tr th {\n",
       "        vertical-align: top;\n",
       "    }\n",
       "\n",
       "    .dataframe thead th {\n",
       "        text-align: right;\n",
       "    }\n",
       "</style>\n",
       "<table border=\"1\" class=\"dataframe\">\n",
       "  <thead>\n",
       "    <tr style=\"text-align: right;\">\n",
       "      <th></th>\n",
       "      <th>Item_1</th>\n",
       "      <th>percent_score_outcome_of_total_response</th>\n",
       "    </tr>\n",
       "  </thead>\n",
       "  <tbody>\n",
       "    <tr>\n",
       "      <td>1</td>\n",
       "      <td>FL01M</td>\n",
       "      <td>90.795455</td>\n",
       "    </tr>\n",
       "    <tr>\n",
       "      <td>3</td>\n",
       "      <td>FL01M</td>\n",
       "      <td>92.045455</td>\n",
       "    </tr>\n",
       "    <tr>\n",
       "      <td>5</td>\n",
       "      <td>FL01M</td>\n",
       "      <td>83.977273</td>\n",
       "    </tr>\n",
       "    <tr>\n",
       "      <td>7</td>\n",
       "      <td>FL01M</td>\n",
       "      <td>88.282139</td>\n",
       "    </tr>\n",
       "    <tr>\n",
       "      <td>9</td>\n",
       "      <td>FL01M</td>\n",
       "      <td>88.964733</td>\n",
       "    </tr>\n",
       "    <tr>\n",
       "      <td>...</td>\n",
       "      <td>...</td>\n",
       "      <td>...</td>\n",
       "    </tr>\n",
       "    <tr>\n",
       "      <td>4352</td>\n",
       "      <td>NA01M</td>\n",
       "      <td>54.166667</td>\n",
       "    </tr>\n",
       "    <tr>\n",
       "      <td>4354</td>\n",
       "      <td>NA01M</td>\n",
       "      <td>76.470588</td>\n",
       "    </tr>\n",
       "    <tr>\n",
       "      <td>4356</td>\n",
       "      <td>NA01M</td>\n",
       "      <td>76.470588</td>\n",
       "    </tr>\n",
       "    <tr>\n",
       "      <td>4357</td>\n",
       "      <td>NA01M</td>\n",
       "      <td>58.823529</td>\n",
       "    </tr>\n",
       "    <tr>\n",
       "      <td>4359</td>\n",
       "      <td>NA01M</td>\n",
       "      <td>58.823529</td>\n",
       "    </tr>\n",
       "  </tbody>\n",
       "</table>\n",
       "<p>730 rows × 2 columns</p>\n",
       "</div>"
      ],
      "text/plain": [
       "     Item_1  percent_score_outcome_of_total_response\n",
       "1     FL01M                                90.795455\n",
       "3     FL01M                                92.045455\n",
       "5     FL01M                                83.977273\n",
       "7     FL01M                                88.282139\n",
       "9     FL01M                                88.964733\n",
       "...     ...                                      ...\n",
       "4352  NA01M                                54.166667\n",
       "4354  NA01M                                76.470588\n",
       "4356  NA01M                                76.470588\n",
       "4357  NA01M                                58.823529\n",
       "4359  NA01M                                58.823529\n",
       "\n",
       "[730 rows x 2 columns]"
      ]
     },
     "execution_count": 377,
     "metadata": {},
     "output_type": "execute_result"
    }
   ],
   "source": [
    "# df has values for percent_score_outcome_of_total_response\n",
    "df[(df.Item_1=='NA01M')|(df.Item_1=='FL01M')][['Item_1','percent_score_outcome_of_total_response']]"
   ]
  },
  {
   "cell_type": "code",
   "execution_count": 353,
   "metadata": {},
   "outputs": [
    {
     "name": "stdout",
     "output_type": "stream",
     "text": [
      "na std of percent_score_outcome_of_total_response (correct responses):  19.519723867572708\n",
      "fl std of percent_score_outcome_of_total_response (correct responses):  19.841252017942594\n"
     ]
    }
   ],
   "source": [
    "# calculate std of percent_score_outcome_of_total_response from df\n",
    "std_na = np.std(df[df.Item_1=='NA01M']['percent_score_outcome_of_total_response'])\n",
    "std_fl = np.std(df[df.Item_1=='FL01M']['percent_score_outcome_of_total_response'])\n",
    "\n",
    "print(\"na std of percent_score_outcome_of_total_response (correct responses): \", std_na)\n",
    "print(\"fl std of percent_score_outcome_of_total_response (correct responses): \", std_fl)"
   ]
  },
  {
   "cell_type": "code",
   "execution_count": 321,
   "metadata": {
    "scrolled": true
   },
   "outputs": [
    {
     "data": {
      "text/html": [
       "<div>\n",
       "<style scoped>\n",
       "    .dataframe tbody tr th:only-of-type {\n",
       "        vertical-align: middle;\n",
       "    }\n",
       "\n",
       "    .dataframe tbody tr th {\n",
       "        vertical-align: top;\n",
       "    }\n",
       "\n",
       "    .dataframe thead th {\n",
       "        text-align: right;\n",
       "    }\n",
       "</style>\n",
       "<table border=\"1\" class=\"dataframe\">\n",
       "  <thead>\n",
       "    <tr style=\"text-align: right;\">\n",
       "      <th></th>\n",
       "      <th>mean_correct_response_per_item</th>\n",
       "      <th>mean_total_responses_per_item</th>\n",
       "      <th>mean_percent_correct_per_item</th>\n",
       "    </tr>\n",
       "    <tr>\n",
       "      <th>Item_1</th>\n",
       "      <th></th>\n",
       "      <th></th>\n",
       "      <th></th>\n",
       "    </tr>\n",
       "  </thead>\n",
       "  <tbody>\n",
       "    <tr>\n",
       "      <td>FL01M</td>\n",
       "      <td>40182</td>\n",
       "      <td>198.550523</td>\n",
       "      <td>71.143569</td>\n",
       "    </tr>\n",
       "    <tr>\n",
       "      <td>NA01M</td>\n",
       "      <td>392772</td>\n",
       "      <td>1382.801354</td>\n",
       "      <td>63.112870</td>\n",
       "    </tr>\n",
       "  </tbody>\n",
       "</table>\n",
       "</div>"
      ],
      "text/plain": [
       "        mean_correct_response_per_item  mean_total_responses_per_item  \\\n",
       "Item_1                                                                  \n",
       "FL01M                            40182                     198.550523   \n",
       "NA01M                           392772                    1382.801354   \n",
       "\n",
       "        mean_percent_correct_per_item  \n",
       "Item_1                                 \n",
       "FL01M                       71.143569  \n",
       "NA01M                       63.112870  "
      ]
     },
     "execution_count": 321,
     "metadata": {},
     "output_type": "execute_result"
    }
   ],
   "source": [
    "# groupby2 stores the mean calculations of percent_score_outcome_of_total_response\n",
    "groupby2[(groupby2.index=='NA01M')|(groupby2.index=='FL01M')]"
   ]
  },
  {
   "cell_type": "code",
   "execution_count": 354,
   "metadata": {
    "scrolled": false
   },
   "outputs": [
    {
     "name": "stdout",
     "output_type": "stream",
     "text": [
      "mean_percent_correct_per_item difference between na and fl:  -8.030698787720176\n"
     ]
    }
   ],
   "source": [
    "# calculate mean_percent_correct_per_item difference between fl and na from groupby2\n",
    "na=groupby2.loc['NA01M','mean_percent_correct_per_item']\n",
    "fl=groupby2.loc['FL01M','mean_percent_correct_per_item']\n",
    "nafl_mean_diff=na-fl\n",
    "print('mean_percent_correct_per_item difference between na and fl: ', na-fl)"
   ]
  },
  {
   "cell_type": "code",
   "execution_count": 392,
   "metadata": {},
   "outputs": [
    {
     "name": "stdout",
     "output_type": "stream",
     "text": [
      "tobs using d1:  -5.39443364120004\n"
     ]
    }
   ],
   "source": [
    "truemean_diff = 0 # given hypothesis, m1-m2 = 0\n",
    "samplemean_diff = nafl_mean_diff\n",
    "\n",
    "nasize=443\n",
    "flsize=287\n",
    "degreeoffreedom = nasize + flsize - 2 # assumes equal variances\n",
    "df1 = degreeoffreedom\n",
    "\n",
    "std_pooled = np.sqrt( ( ((nasize-1)*(std_na**2)) + ((flsize-1)*(std_fl**2) ) ) / (nasize+flsize-2) )\n",
    "std_meandiff =  std_pooled * np.sqrt( (1/nasize) + (1/flsize) )\n",
    "\n",
    "tobs = (samplemean_diff - truemean_diff) / std_meandiff\n",
    "print(\"tobs using d1: \", tobs)"
   ]
  },
  {
   "cell_type": "markdown",
   "metadata": {},
   "source": [
    "### 3.3.4. Compare tobs to tcrit\n",
    "\n",
    "tobs (-5.394) is not greater than tcrit (-1.906) and does not lie in the rejection region.\n",
    "\n",
    "We fail to reject the null hypothesis and accept that the means of percent of total correct responses do not differ between these two indepedent populations (state testers (FL) and national tesert (NA))."
   ]
  },
  {
   "cell_type": "markdown",
   "metadata": {},
   "source": [
    "## 3.4. Confidence interval using t-test"
   ]
  },
  {
   "cell_type": "code",
   "execution_count": 398,
   "metadata": {},
   "outputs": [
    {
     "name": "stdout",
     "output_type": "stream",
     "text": [
      "mean_percent_correct_per_item difference between na and fl:  -8.030698787720176\n"
     ]
    }
   ],
   "source": [
    "print('mean_percent_correct_per_item difference between na and fl: ', na-fl)"
   ]
  },
  {
   "cell_type": "code",
   "execution_count": 399,
   "metadata": {},
   "outputs": [
    {
     "name": "stdout",
     "output_type": "stream",
     "text": [
      "95% confidence interval:  -10.9494459798168 -5.1119515956235535\n"
     ]
    }
   ],
   "source": [
    "# 95% CI, alpha = 0.05\n",
    "\n",
    "lci, uci = samplemean_diff - (1.9606*std_meandiff), samplemean_diff + (1.9606*std_meandiff)\n",
    "print(\"95% confidence interval: \", lci, uci)"
   ]
  },
  {
   "cell_type": "code",
   "execution_count": 400,
   "metadata": {},
   "outputs": [
    {
     "name": "stdout",
     "output_type": "stream",
     "text": [
      "99% confidence interval:  -11.86723014993185 -4.194167425508503\n"
     ]
    }
   ],
   "source": [
    "# 99% CI, alpha = 0.01\n",
    "\n",
    "lci, uci = samplemean_diff - (2.5771*std_meandiff), samplemean_diff + (2.5771*std_meandiff)\n",
    "print(\"99% confidence interval: \", lci, uci)"
   ]
  },
  {
   "cell_type": "code",
   "execution_count": 401,
   "metadata": {},
   "outputs": [
    {
     "name": "stdout",
     "output_type": "stream",
     "text": [
      "90% confidence interval:  -10.480058552667934 -5.5813390227724184\n"
     ]
    }
   ],
   "source": [
    "# 90% CI, alpha = 0.10\n",
    "\n",
    "lci, uci = samplemean_diff - (1.6453*std_meandiff), samplemean_diff + (1.6453*std_meandiff)\n",
    "print(\"90% confidence interval: \", lci, uci)"
   ]
  },
  {
   "cell_type": "markdown",
   "metadata": {},
   "source": [
    "## 3.5. Compare using Sattertwaite's approximation for degrees of freedom"
   ]
  },
  {
   "cell_type": "code",
   "execution_count": 389,
   "metadata": {},
   "outputs": [
    {
     "name": "stdout",
     "output_type": "stream",
     "text": [
      "df1:  728\n",
      "df2:  129911.54146006235\n"
     ]
    }
   ],
   "source": [
    "df2 = (((std_na**2/nasize) + ((std_fl**2/flsize))**2) / (((std_na/nasize)**2/(nasize-1)) + ((std_fl/flsize)**2/(flsize-1)))) \n",
    "\n",
    "# df2 used when unequal sample variances and/or unequal sample sizes\n",
    "# df2 is Sattertwaite's approximation\n",
    "\n",
    "# rule of thumb is ratio of two stds do not exceed 2 to 1, \n",
    "# you should be okay with standard t test, as long as sample sizes not too unequal\n",
    "print(\"df1: \", df1)\n",
    "print(\"df2: \", df2)"
   ]
  },
  {
   "cell_type": "code",
   "execution_count": 390,
   "metadata": {},
   "outputs": [
    {
     "name": "stdout",
     "output_type": "stream",
     "text": [
      "tobs using d2:  -0.0008158061639611791\n"
     ]
    }
   ],
   "source": [
    "std_meandiff =  df2 * np.sqrt( (1/nasize) + (1/flsize) )\n",
    "tobs = (samplemean_diff - truemean_diff) / std_meandiff\n",
    "print(\"tobs using d2: \", tobs)"
   ]
  }
 ],
 "metadata": {
  "kernelspec": {
   "display_name": "Python 3",
   "language": "python",
   "name": "python3"
  },
  "language_info": {
   "codemirror_mode": {
    "name": "ipython",
    "version": 3
   },
   "file_extension": ".py",
   "mimetype": "text/x-python",
   "name": "python",
   "nbconvert_exporter": "python",
   "pygments_lexer": "ipython3",
   "version": "3.7.4"
  }
 },
 "nbformat": 4,
 "nbformat_minor": 2
}
