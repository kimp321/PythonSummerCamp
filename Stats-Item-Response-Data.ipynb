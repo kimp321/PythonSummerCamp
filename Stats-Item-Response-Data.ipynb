{
 "cells": [
  {
   "cell_type": "markdown",
   "metadata": {},
   "source": [
    "# This notebook:\n",
    "- **explores** response data for questions (or items) on a test\n",
    "- **visualizes** differences between item responses at the state and national levels\n",
    "- **models** if there is a statistically difference between the mean responses at the state and national levels using t test confidence interval and hypothesis testing"
   ]
  },
  {
   "cell_type": "markdown",
   "metadata": {},
   "source": [
    "# 0. Load libaries"
   ]
  },
  {
   "cell_type": "code",
   "execution_count": 19,
   "metadata": {},
   "outputs": [],
   "source": [
    "import pandas as pd \n",
    "import numpy as np\n",
    "import matplotlib.pyplot as plt\n",
    "from scipy import stats\n",
    "import statsmodels.api as sm"
   ]
  },
  {
   "cell_type": "markdown",
   "metadata": {},
   "source": [
    "# 1. Load and prep data"
   ]
  },
  {
   "cell_type": "code",
   "execution_count": 2,
   "metadata": {},
   "outputs": [
    {
     "data": {
      "text/html": [
       "<div>\n",
       "<style scoped>\n",
       "    .dataframe tbody tr th:only-of-type {\n",
       "        vertical-align: middle;\n",
       "    }\n",
       "\n",
       "    .dataframe tbody tr th {\n",
       "        vertical-align: top;\n",
       "    }\n",
       "\n",
       "    .dataframe thead th {\n",
       "        text-align: right;\n",
       "    }\n",
       "</style>\n",
       "<table border=\"1\" class=\"dataframe\">\n",
       "  <thead>\n",
       "    <tr style=\"text-align: right;\">\n",
       "      <th></th>\n",
       "      <th>Item_ID</th>\n",
       "      <th>score_outcome</th>\n",
       "      <th>number_of_responses</th>\n",
       "    </tr>\n",
       "  </thead>\n",
       "  <tbody>\n",
       "    <tr>\n",
       "      <td>0</td>\n",
       "      <td>FL01M_CC_L01_01</td>\n",
       "      <td>INCORRECT</td>\n",
       "      <td>81</td>\n",
       "    </tr>\n",
       "    <tr>\n",
       "      <td>1</td>\n",
       "      <td>FL01M_CC_L01_01</td>\n",
       "      <td>CORRECT</td>\n",
       "      <td>799</td>\n",
       "    </tr>\n",
       "    <tr>\n",
       "      <td>2</td>\n",
       "      <td>FL01M_CC_L01_02</td>\n",
       "      <td>INCORRECT</td>\n",
       "      <td>70</td>\n",
       "    </tr>\n",
       "    <tr>\n",
       "      <td>3</td>\n",
       "      <td>FL01M_CC_L01_02</td>\n",
       "      <td>CORRECT</td>\n",
       "      <td>810</td>\n",
       "    </tr>\n",
       "    <tr>\n",
       "      <td>4</td>\n",
       "      <td>FL01M_CC_L01_03</td>\n",
       "      <td>INCORRECT</td>\n",
       "      <td>141</td>\n",
       "    </tr>\n",
       "  </tbody>\n",
       "</table>\n",
       "</div>"
      ],
      "text/plain": [
       "           Item_ID score_outcome  number_of_responses\n",
       "0  FL01M_CC_L01_01     INCORRECT                   81\n",
       "1  FL01M_CC_L01_01       CORRECT                  799\n",
       "2  FL01M_CC_L01_02     INCORRECT                   70\n",
       "3  FL01M_CC_L01_02       CORRECT                  810\n",
       "4  FL01M_CC_L01_03     INCORRECT                  141"
      ]
     },
     "execution_count": 2,
     "metadata": {},
     "output_type": "execute_result"
    }
   ],
   "source": [
    "df = pd.read_excel('Data/Quiz_Item_Responses.xlsx') \n",
    "df.head()"
   ]
  },
  {
   "cell_type": "code",
   "execution_count": 3,
   "metadata": {
    "scrolled": false
   },
   "outputs": [
    {
     "data": {
      "text/html": [
       "<div>\n",
       "<style scoped>\n",
       "    .dataframe tbody tr th:only-of-type {\n",
       "        vertical-align: middle;\n",
       "    }\n",
       "\n",
       "    .dataframe tbody tr th {\n",
       "        vertical-align: top;\n",
       "    }\n",
       "\n",
       "    .dataframe thead th {\n",
       "        text-align: right;\n",
       "    }\n",
       "</style>\n",
       "<table border=\"1\" class=\"dataframe\">\n",
       "  <thead>\n",
       "    <tr style=\"text-align: right;\">\n",
       "      <th></th>\n",
       "      <th>Item_ID</th>\n",
       "      <th>score_outcome</th>\n",
       "      <th>number_of_responses</th>\n",
       "      <th>total_responses</th>\n",
       "      <th>percent_score_outcome_of_total_response</th>\n",
       "    </tr>\n",
       "  </thead>\n",
       "  <tbody>\n",
       "    <tr>\n",
       "      <td>1</td>\n",
       "      <td>FL01M_CC_L01_01</td>\n",
       "      <td>CORRECT</td>\n",
       "      <td>799</td>\n",
       "      <td>880</td>\n",
       "      <td>90.795455</td>\n",
       "    </tr>\n",
       "    <tr>\n",
       "      <td>3</td>\n",
       "      <td>FL01M_CC_L01_02</td>\n",
       "      <td>CORRECT</td>\n",
       "      <td>810</td>\n",
       "      <td>880</td>\n",
       "      <td>92.045455</td>\n",
       "    </tr>\n",
       "    <tr>\n",
       "      <td>5</td>\n",
       "      <td>FL01M_CC_L01_03</td>\n",
       "      <td>CORRECT</td>\n",
       "      <td>739</td>\n",
       "      <td>880</td>\n",
       "      <td>83.977273</td>\n",
       "    </tr>\n",
       "    <tr>\n",
       "      <td>7</td>\n",
       "      <td>FL01M_CC_L01_04</td>\n",
       "      <td>CORRECT</td>\n",
       "      <td>776</td>\n",
       "      <td>879</td>\n",
       "      <td>88.282139</td>\n",
       "    </tr>\n",
       "    <tr>\n",
       "      <td>9</td>\n",
       "      <td>FL01M_CC_L01_05</td>\n",
       "      <td>CORRECT</td>\n",
       "      <td>782</td>\n",
       "      <td>879</td>\n",
       "      <td>88.964733</td>\n",
       "    </tr>\n",
       "  </tbody>\n",
       "</table>\n",
       "</div>"
      ],
      "text/plain": [
       "           Item_ID score_outcome  number_of_responses  total_responses  \\\n",
       "1  FL01M_CC_L01_01       CORRECT                  799              880   \n",
       "3  FL01M_CC_L01_02       CORRECT                  810              880   \n",
       "5  FL01M_CC_L01_03       CORRECT                  739              880   \n",
       "7  FL01M_CC_L01_04       CORRECT                  776              879   \n",
       "9  FL01M_CC_L01_05       CORRECT                  782              879   \n",
       "\n",
       "   percent_score_outcome_of_total_response  \n",
       "1                                90.795455  \n",
       "3                                92.045455  \n",
       "5                                83.977273  \n",
       "7                                88.282139  \n",
       "9                                88.964733  "
      ]
     },
     "execution_count": 3,
     "metadata": {},
     "output_type": "execute_result"
    }
   ],
   "source": [
    "# group by Item_ID and aggregate the sum of number of responses\n",
    "# add new variable percent_score_outcome_of_total_response, or number of responses / total responses\n",
    "# filter where score_outcome is correct\n",
    "groupby = (df.groupby(['Item_ID'])\n",
    "           .agg({'number_of_responses': 'sum'})\n",
    "           .rename(columns={'number_of_responses': 'total_responses'}))\n",
    "df = df.join(groupby, on='Item_ID')\n",
    "df[\"percent_score_outcome_of_total_response\"]= df[\"number_of_responses\"]/df[\"total_responses\"]*100\n",
    "df = df[df['score_outcome']==\"CORRECT\"]\n",
    "df.head()"
   ]
  },
  {
   "cell_type": "code",
   "execution_count": 4,
   "metadata": {},
   "outputs": [
    {
     "data": {
      "text/html": [
       "<div>\n",
       "<style scoped>\n",
       "    .dataframe tbody tr th:only-of-type {\n",
       "        vertical-align: middle;\n",
       "    }\n",
       "\n",
       "    .dataframe tbody tr th {\n",
       "        vertical-align: top;\n",
       "    }\n",
       "\n",
       "    .dataframe thead th {\n",
       "        text-align: right;\n",
       "    }\n",
       "</style>\n",
       "<table border=\"1\" class=\"dataframe\">\n",
       "  <thead>\n",
       "    <tr style=\"text-align: right;\">\n",
       "      <th></th>\n",
       "      <th>Item_ID</th>\n",
       "      <th>score_outcome</th>\n",
       "      <th>number_of_responses</th>\n",
       "      <th>total_responses</th>\n",
       "      <th>percent_score_outcome_of_total_response</th>\n",
       "      <th>Item_1</th>\n",
       "      <th>Item_2</th>\n",
       "      <th>Item_3</th>\n",
       "      <th>Item_4</th>\n",
       "      <th>Item_5</th>\n",
       "    </tr>\n",
       "  </thead>\n",
       "  <tbody>\n",
       "    <tr>\n",
       "      <td>1</td>\n",
       "      <td>FL01M_CC_L01_01</td>\n",
       "      <td>CORRECT</td>\n",
       "      <td>799</td>\n",
       "      <td>880</td>\n",
       "      <td>90.795455</td>\n",
       "      <td>FL01M</td>\n",
       "      <td>CC</td>\n",
       "      <td>L01</td>\n",
       "      <td>01</td>\n",
       "      <td>None</td>\n",
       "    </tr>\n",
       "    <tr>\n",
       "      <td>3</td>\n",
       "      <td>FL01M_CC_L01_02</td>\n",
       "      <td>CORRECT</td>\n",
       "      <td>810</td>\n",
       "      <td>880</td>\n",
       "      <td>92.045455</td>\n",
       "      <td>FL01M</td>\n",
       "      <td>CC</td>\n",
       "      <td>L01</td>\n",
       "      <td>02</td>\n",
       "      <td>None</td>\n",
       "    </tr>\n",
       "    <tr>\n",
       "      <td>5</td>\n",
       "      <td>FL01M_CC_L01_03</td>\n",
       "      <td>CORRECT</td>\n",
       "      <td>739</td>\n",
       "      <td>880</td>\n",
       "      <td>83.977273</td>\n",
       "      <td>FL01M</td>\n",
       "      <td>CC</td>\n",
       "      <td>L01</td>\n",
       "      <td>03</td>\n",
       "      <td>None</td>\n",
       "    </tr>\n",
       "    <tr>\n",
       "      <td>7</td>\n",
       "      <td>FL01M_CC_L01_04</td>\n",
       "      <td>CORRECT</td>\n",
       "      <td>776</td>\n",
       "      <td>879</td>\n",
       "      <td>88.282139</td>\n",
       "      <td>FL01M</td>\n",
       "      <td>CC</td>\n",
       "      <td>L01</td>\n",
       "      <td>04</td>\n",
       "      <td>None</td>\n",
       "    </tr>\n",
       "    <tr>\n",
       "      <td>9</td>\n",
       "      <td>FL01M_CC_L01_05</td>\n",
       "      <td>CORRECT</td>\n",
       "      <td>782</td>\n",
       "      <td>879</td>\n",
       "      <td>88.964733</td>\n",
       "      <td>FL01M</td>\n",
       "      <td>CC</td>\n",
       "      <td>L01</td>\n",
       "      <td>05</td>\n",
       "      <td>None</td>\n",
       "    </tr>\n",
       "  </tbody>\n",
       "</table>\n",
       "</div>"
      ],
      "text/plain": [
       "           Item_ID score_outcome  number_of_responses  total_responses  \\\n",
       "1  FL01M_CC_L01_01       CORRECT                  799              880   \n",
       "3  FL01M_CC_L01_02       CORRECT                  810              880   \n",
       "5  FL01M_CC_L01_03       CORRECT                  739              880   \n",
       "7  FL01M_CC_L01_04       CORRECT                  776              879   \n",
       "9  FL01M_CC_L01_05       CORRECT                  782              879   \n",
       "\n",
       "   percent_score_outcome_of_total_response Item_1 Item_2 Item_3 Item_4 Item_5  \n",
       "1                                90.795455  FL01M     CC    L01     01   None  \n",
       "3                                92.045455  FL01M     CC    L01     02   None  \n",
       "5                                83.977273  FL01M     CC    L01     03   None  \n",
       "7                                88.282139  FL01M     CC    L01     04   None  \n",
       "9                                88.964733  FL01M     CC    L01     05   None  "
      ]
     },
     "execution_count": 4,
     "metadata": {},
     "output_type": "execute_result"
    }
   ],
   "source": [
    "# split item id into parts\n",
    "df[[\"Item_1\",\"Item_2\",\"Item_3\",\"Item_4\",\"Item_5\"]]= df[\"Item_ID\"].str.split(\"_\", expand = True)\n",
    "df.head()"
   ]
  },
  {
   "cell_type": "code",
   "execution_count": 5,
   "metadata": {
    "scrolled": true
   },
   "outputs": [
    {
     "data": {
      "text/html": [
       "<div>\n",
       "<style scoped>\n",
       "    .dataframe tbody tr th:only-of-type {\n",
       "        vertical-align: middle;\n",
       "    }\n",
       "\n",
       "    .dataframe tbody tr th {\n",
       "        vertical-align: top;\n",
       "    }\n",
       "\n",
       "    .dataframe thead th {\n",
       "        text-align: right;\n",
       "    }\n",
       "</style>\n",
       "<table border=\"1\" class=\"dataframe\">\n",
       "  <thead>\n",
       "    <tr style=\"text-align: right;\">\n",
       "      <th></th>\n",
       "      <th>mean_correct_response_per_item</th>\n",
       "      <th>total_responses_per_item</th>\n",
       "      <th>mean_percent_correct_per_item</th>\n",
       "    </tr>\n",
       "    <tr>\n",
       "      <th>Item_1</th>\n",
       "      <th></th>\n",
       "      <th></th>\n",
       "      <th></th>\n",
       "    </tr>\n",
       "  </thead>\n",
       "  <tbody>\n",
       "    <tr>\n",
       "      <td>FL01M</td>\n",
       "      <td>140.006969</td>\n",
       "      <td>56984</td>\n",
       "      <td>71.143569</td>\n",
       "    </tr>\n",
       "    <tr>\n",
       "      <td>FL02M</td>\n",
       "      <td>107.210811</td>\n",
       "      <td>40274</td>\n",
       "      <td>51.289734</td>\n",
       "    </tr>\n",
       "    <tr>\n",
       "      <td>FL03M</td>\n",
       "      <td>161.177215</td>\n",
       "      <td>73899</td>\n",
       "      <td>51.648672</td>\n",
       "    </tr>\n",
       "    <tr>\n",
       "      <td>FL04M</td>\n",
       "      <td>247.029915</td>\n",
       "      <td>102032</td>\n",
       "      <td>56.676054</td>\n",
       "    </tr>\n",
       "    <tr>\n",
       "      <td>FL05M</td>\n",
       "      <td>182.365217</td>\n",
       "      <td>74171</td>\n",
       "      <td>55.052027</td>\n",
       "    </tr>\n",
       "    <tr>\n",
       "      <td>FL0KM</td>\n",
       "      <td>113.371648</td>\n",
       "      <td>39415</td>\n",
       "      <td>71.830159</td>\n",
       "    </tr>\n",
       "    <tr>\n",
       "      <td>G2</td>\n",
       "      <td>147.400000</td>\n",
       "      <td>12669</td>\n",
       "      <td>50.261343</td>\n",
       "    </tr>\n",
       "    <tr>\n",
       "      <td>G3</td>\n",
       "      <td>182.777778</td>\n",
       "      <td>3212</td>\n",
       "      <td>55.116006</td>\n",
       "    </tr>\n",
       "    <tr>\n",
       "      <td>G4</td>\n",
       "      <td>222.741379</td>\n",
       "      <td>24393</td>\n",
       "      <td>61.338602</td>\n",
       "    </tr>\n",
       "    <tr>\n",
       "      <td>G5</td>\n",
       "      <td>231.423077</td>\n",
       "      <td>32731</td>\n",
       "      <td>53.641892</td>\n",
       "    </tr>\n",
       "    <tr>\n",
       "      <td>NA01M</td>\n",
       "      <td>886.618510</td>\n",
       "      <td>612581</td>\n",
       "      <td>63.112870</td>\n",
       "    </tr>\n",
       "    <tr>\n",
       "      <td>NA02M</td>\n",
       "      <td>791.377261</td>\n",
       "      <td>694104</td>\n",
       "      <td>43.074546</td>\n",
       "    </tr>\n",
       "    <tr>\n",
       "      <td>NA03M</td>\n",
       "      <td>1429.612048</td>\n",
       "      <td>1217638</td>\n",
       "      <td>50.629055</td>\n",
       "    </tr>\n",
       "    <tr>\n",
       "      <td>NA04M</td>\n",
       "      <td>2313.730583</td>\n",
       "      <td>1933189</td>\n",
       "      <td>50.832110</td>\n",
       "    </tr>\n",
       "    <tr>\n",
       "      <td>NA05M</td>\n",
       "      <td>2080.108312</td>\n",
       "      <td>1651727</td>\n",
       "      <td>44.860226</td>\n",
       "    </tr>\n",
       "    <tr>\n",
       "      <td>NA0KM</td>\n",
       "      <td>618.173333</td>\n",
       "      <td>309255</td>\n",
       "      <td>74.550137</td>\n",
       "    </tr>\n",
       "  </tbody>\n",
       "</table>\n",
       "</div>"
      ],
      "text/plain": [
       "        mean_correct_response_per_item  total_responses_per_item  \\\n",
       "Item_1                                                             \n",
       "FL01M                       140.006969                     56984   \n",
       "FL02M                       107.210811                     40274   \n",
       "FL03M                       161.177215                     73899   \n",
       "FL04M                       247.029915                    102032   \n",
       "FL05M                       182.365217                     74171   \n",
       "FL0KM                       113.371648                     39415   \n",
       "G2                          147.400000                     12669   \n",
       "G3                          182.777778                      3212   \n",
       "G4                          222.741379                     24393   \n",
       "G5                          231.423077                     32731   \n",
       "NA01M                       886.618510                    612581   \n",
       "NA02M                       791.377261                    694104   \n",
       "NA03M                      1429.612048                   1217638   \n",
       "NA04M                      2313.730583                   1933189   \n",
       "NA05M                      2080.108312                   1651727   \n",
       "NA0KM                       618.173333                    309255   \n",
       "\n",
       "        mean_percent_correct_per_item  \n",
       "Item_1                                 \n",
       "FL01M                       71.143569  \n",
       "FL02M                       51.289734  \n",
       "FL03M                       51.648672  \n",
       "FL04M                       56.676054  \n",
       "FL05M                       55.052027  \n",
       "FL0KM                       71.830159  \n",
       "G2                          50.261343  \n",
       "G3                          55.116006  \n",
       "G4                          61.338602  \n",
       "G5                          53.641892  \n",
       "NA01M                       63.112870  \n",
       "NA02M                       43.074546  \n",
       "NA03M                       50.629055  \n",
       "NA04M                       50.832110  \n",
       "NA05M                       44.860226  \n",
       "NA0KM                       74.550137  "
      ]
     },
     "execution_count": 5,
     "metadata": {},
     "output_type": "execute_result"
    }
   ],
   "source": [
    "# item_1 represents a new category that buckets item_ids, or nests item_ids\n",
    "# where item_1 = test name  and  item_ID = question\n",
    "# so the data show the individual questions on a test (and its number of responses)\n",
    "\n",
    "# Questions:\n",
    "# What is the average number of correct response on a question by test?\n",
    "# What is the total number of responses to all questions by test?\n",
    "# What is the average percent of correct responses by test?\n",
    "\n",
    "# group by item_1 and average number_of_responses, sum total_responses, and average percent\n",
    "\n",
    "groupby2 = (df.groupby(['Item_1'])\n",
    "            .agg({'number_of_responses': 'mean',\n",
    "                  'total_responses': 'sum',\n",
    "                  'percent_score_outcome_of_total_response': 'mean'})\n",
    "            .rename(columns={'number_of_responses':'mean_correct_response_per_item',\n",
    "                         'total_responses':'total_responses_per_item',\n",
    "                         'percent_score_outcome_of_total_response':'mean_percent_correct_per_item'\n",
    "                        }))\n",
    "groupby2"
   ]
  },
  {
   "cell_type": "code",
   "execution_count": 6,
   "metadata": {},
   "outputs": [
    {
     "data": {
      "text/html": [
       "<div>\n",
       "<style scoped>\n",
       "    .dataframe tbody tr th:only-of-type {\n",
       "        vertical-align: middle;\n",
       "    }\n",
       "\n",
       "    .dataframe tbody tr th {\n",
       "        vertical-align: top;\n",
       "    }\n",
       "\n",
       "    .dataframe thead tr th {\n",
       "        text-align: left;\n",
       "    }\n",
       "\n",
       "    .dataframe thead tr:last-of-type th {\n",
       "        text-align: right;\n",
       "    }\n",
       "</style>\n",
       "<table border=\"1\" class=\"dataframe\">\n",
       "  <thead>\n",
       "    <tr>\n",
       "      <th></th>\n",
       "      <th colspan=\"2\" halign=\"left\">number_of_responses</th>\n",
       "      <th>percent_score_outcome_of_total_response</th>\n",
       "    </tr>\n",
       "    <tr>\n",
       "      <th></th>\n",
       "      <th>mean</th>\n",
       "      <th>sum</th>\n",
       "      <th>mean</th>\n",
       "    </tr>\n",
       "    <tr>\n",
       "      <th>Item_1</th>\n",
       "      <th></th>\n",
       "      <th></th>\n",
       "      <th></th>\n",
       "    </tr>\n",
       "  </thead>\n",
       "  <tbody>\n",
       "    <tr>\n",
       "      <td>FL01M</td>\n",
       "      <td>140.006969</td>\n",
       "      <td>40182</td>\n",
       "      <td>71.143569</td>\n",
       "    </tr>\n",
       "    <tr>\n",
       "      <td>FL02M</td>\n",
       "      <td>107.210811</td>\n",
       "      <td>19834</td>\n",
       "      <td>51.289734</td>\n",
       "    </tr>\n",
       "    <tr>\n",
       "      <td>FL03M</td>\n",
       "      <td>161.177215</td>\n",
       "      <td>38199</td>\n",
       "      <td>51.648672</td>\n",
       "    </tr>\n",
       "    <tr>\n",
       "      <td>FL04M</td>\n",
       "      <td>247.029915</td>\n",
       "      <td>57805</td>\n",
       "      <td>56.676054</td>\n",
       "    </tr>\n",
       "    <tr>\n",
       "      <td>FL05M</td>\n",
       "      <td>182.365217</td>\n",
       "      <td>41944</td>\n",
       "      <td>55.052027</td>\n",
       "    </tr>\n",
       "    <tr>\n",
       "      <td>FL0KM</td>\n",
       "      <td>113.371648</td>\n",
       "      <td>29590</td>\n",
       "      <td>71.830159</td>\n",
       "    </tr>\n",
       "    <tr>\n",
       "      <td>G2</td>\n",
       "      <td>147.400000</td>\n",
       "      <td>5896</td>\n",
       "      <td>50.261343</td>\n",
       "    </tr>\n",
       "    <tr>\n",
       "      <td>G3</td>\n",
       "      <td>182.777778</td>\n",
       "      <td>1645</td>\n",
       "      <td>55.116006</td>\n",
       "    </tr>\n",
       "    <tr>\n",
       "      <td>G4</td>\n",
       "      <td>222.741379</td>\n",
       "      <td>12919</td>\n",
       "      <td>61.338602</td>\n",
       "    </tr>\n",
       "    <tr>\n",
       "      <td>G5</td>\n",
       "      <td>231.423077</td>\n",
       "      <td>18051</td>\n",
       "      <td>53.641892</td>\n",
       "    </tr>\n",
       "    <tr>\n",
       "      <td>NA01M</td>\n",
       "      <td>886.618510</td>\n",
       "      <td>392772</td>\n",
       "      <td>63.112870</td>\n",
       "    </tr>\n",
       "    <tr>\n",
       "      <td>NA02M</td>\n",
       "      <td>791.377261</td>\n",
       "      <td>306263</td>\n",
       "      <td>43.074546</td>\n",
       "    </tr>\n",
       "    <tr>\n",
       "      <td>NA03M</td>\n",
       "      <td>1429.612048</td>\n",
       "      <td>593289</td>\n",
       "      <td>50.629055</td>\n",
       "    </tr>\n",
       "    <tr>\n",
       "      <td>NA04M</td>\n",
       "      <td>2313.730583</td>\n",
       "      <td>953257</td>\n",
       "      <td>50.832110</td>\n",
       "    </tr>\n",
       "    <tr>\n",
       "      <td>NA05M</td>\n",
       "      <td>2080.108312</td>\n",
       "      <td>825803</td>\n",
       "      <td>44.860226</td>\n",
       "    </tr>\n",
       "    <tr>\n",
       "      <td>NA0KM</td>\n",
       "      <td>618.173333</td>\n",
       "      <td>231815</td>\n",
       "      <td>74.550137</td>\n",
       "    </tr>\n",
       "  </tbody>\n",
       "</table>\n",
       "</div>"
      ],
      "text/plain": [
       "       number_of_responses         percent_score_outcome_of_total_response\n",
       "                      mean     sum                                    mean\n",
       "Item_1                                                                    \n",
       "FL01M           140.006969   40182                               71.143569\n",
       "FL02M           107.210811   19834                               51.289734\n",
       "FL03M           161.177215   38199                               51.648672\n",
       "FL04M           247.029915   57805                               56.676054\n",
       "FL05M           182.365217   41944                               55.052027\n",
       "FL0KM           113.371648   29590                               71.830159\n",
       "G2              147.400000    5896                               50.261343\n",
       "G3              182.777778    1645                               55.116006\n",
       "G4              222.741379   12919                               61.338602\n",
       "G5              231.423077   18051                               53.641892\n",
       "NA01M           886.618510  392772                               63.112870\n",
       "NA02M           791.377261  306263                               43.074546\n",
       "NA03M          1429.612048  593289                               50.629055\n",
       "NA04M          2313.730583  953257                               50.832110\n",
       "NA05M          2080.108312  825803                               44.860226\n",
       "NA0KM           618.173333  231815                               74.550137"
      ]
     },
     "execution_count": 6,
     "metadata": {},
     "output_type": "execute_result"
    }
   ],
   "source": [
    "# similar output, less code\n",
    "(df.groupby(['Item_1'])\n",
    " .agg({'number_of_responses': ['mean', 'sum'],\n",
    "      'percent_score_outcome_of_total_response': 'mean'}))"
   ]
  },
  {
   "cell_type": "markdown",
   "metadata": {},
   "source": [
    "# 2. Visualize data"
   ]
  },
  {
   "cell_type": "code",
   "execution_count": 7,
   "metadata": {},
   "outputs": [
    {
     "data": {
      "text/plain": [
       "Index(['mean_correct_response_per_item', 'total_responses_per_item',\n",
       "       'mean_percent_correct_per_item'],\n",
       "      dtype='object')"
      ]
     },
     "execution_count": 7,
     "metadata": {},
     "output_type": "execute_result"
    }
   ],
   "source": [
    "groupby2.columns"
   ]
  },
  {
   "cell_type": "code",
   "execution_count": 8,
   "metadata": {},
   "outputs": [
    {
     "data": {
      "image/png": "[encoded data removed]",
      "text/plain": [
       "<Figure size 432x288 with 1 Axes>"
      ]
     },
     "metadata": {
      "needs_background": "light"
     },
     "output_type": "display_data"
    }
   ],
   "source": [
    "ax = groupby2.plot.bar(y='mean_percent_correct_per_item', rot=45) # join.plot(kind='bar'...) also works"
   ]
  },
  {
   "cell_type": "code",
   "execution_count": 9,
   "metadata": {
    "scrolled": false
   },
   "outputs": [
    {
     "data": {
      "image/png": "[encoded data removed]",
      "text/plain": [
       "<Figure size 432x288 with 1 Axes>"
      ]
     },
     "metadata": {
      "needs_background": "light"
     },
     "output_type": "display_data"
    }
   ],
   "source": [
    "ax = groupby2.plot.bar(y='mean_correct_response_per_item', rot=45) # x value is index when not specified\n",
    "                                                                    # optional: join['Item_ID'] = join.index for x"
   ]
  },
  {
   "cell_type": "code",
   "execution_count": 10,
   "metadata": {
    "scrolled": false
   },
   "outputs": [
    {
     "data": {
      "image/png": "[encoded data removed]",
      "text/plain": [
       "<Figure size 432x288 with 1 Axes>"
      ]
     },
     "metadata": {
      "needs_background": "light"
     },
     "output_type": "display_data"
    }
   ],
   "source": [
    "ax = groupby2.plot.bar(y='total_responses_per_item', rot=45) "
   ]
  },
  {
   "cell_type": "code",
   "execution_count": 11,
   "metadata": {
    "scrolled": false
   },
   "outputs": [
    {
     "data": {
      "text/plain": [
       "NA01M    443\n",
       "NA03M    415\n",
       "NA04M    412\n",
       "NA05M    397\n",
       "NA02M    387\n",
       "NA0KM    375\n",
       "FL01M    287\n",
       "FL0KM    261\n",
       "FL03M    237\n",
       "FL04M    234\n",
       "FL05M    230\n",
       "FL02M    185\n",
       "G5        78\n",
       "G4        58\n",
       "G2        40\n",
       "G3         9\n",
       "Name: Item_1, dtype: int64"
      ]
     },
     "execution_count": 11,
     "metadata": {},
     "output_type": "execute_result"
    }
   ],
   "source": [
    "# nsize (number of Item_IDs, or questions) per test\n",
    "df.Item_1.value_counts()"
   ]
  },
  {
   "cell_type": "markdown",
   "metadata": {},
   "source": [
    "# 3. Model data\n",
    "\n",
    "## Is there a significant difference (at the alpha=0.05 level) in the mean correct responses per item between the two independent populations (state tests (FL) and national test (NA))?\n",
    "\n",
    "## In other words, does the average total correct responses per item differ between FL01 and NA01 tests?\n",
    "\n",
    "Use t test. Note: t test is used for small samples but still robust enough to use and acts more conservation on large samples.\n",
    "\n",
    "First, understand (sample) population.\n",
    "\n",
    "Then, run t test.\n",
    "\n",
    "    Steps:\n",
    "        1. set up h0 and ha\n",
    "        2. set up rejection region, tcrit\n",
    "        3. gather data, calculate tobs\n",
    "        4. compare tobs to tcrit\n",
    "\n",
    "Lastly, evaluate confidence interval of difference in the mean between the two independent populations."
   ]
  },
  {
   "cell_type": "markdown",
   "metadata": {},
   "source": [
    "## 3.1. Examine n size and normality of sample populations"
   ]
  },
  {
   "cell_type": "code",
   "execution_count": 12,
   "metadata": {},
   "outputs": [
    {
     "data": {
      "text/plain": [
       "NA01M    443\n",
       "FL01M    287\n",
       "Name: Item_1, dtype: int64"
      ]
     },
     "execution_count": 12,
     "metadata": {},
     "output_type": "execute_result"
    }
   ],
   "source": [
    "# nsize, or question items, in NA01M and NA01M\n",
    "df.Item_1[(df.Item_1=='NA01M')|(df.Item_1=='FL01M')].value_counts()"
   ]
  },
  {
   "cell_type": "code",
   "execution_count": 13,
   "metadata": {
    "scrolled": false
   },
   "outputs": [
    {
     "data": {
      "text/plain": [
       "<matplotlib.axes._subplots.AxesSubplot at 0x7ff92531f310>"
      ]
     },
     "execution_count": 13,
     "metadata": {},
     "output_type": "execute_result"
    },
    {
     "data": {
      "image/png": "[encoded data removed]",
      "text/plain": [
       "<Figure size 432x288 with 1 Axes>"
      ]
     },
     "metadata": {
      "needs_background": "light"
     },
     "output_type": "display_data"
    }
   ],
   "source": [
    "df.Item_1[(df.Item_1=='NA01M')|(df.Item_1=='FL01M')].value_counts().plot(kind='bar') # visual"
   ]
  },
  {
   "cell_type": "markdown",
   "metadata": {},
   "source": [
    "##### Distribution of number of responses per item"
   ]
  },
  {
   "cell_type": "code",
   "execution_count": 14,
   "metadata": {},
   "outputs": [],
   "source": [
    "df=df[df.score_outcome=='CORRECT']\n",
    "na, fl=df[(df.Item_1=='NA01M')]['number_of_responses'], df[(df.Item_1=='FL01M')]['number_of_responses']"
   ]
  },
  {
   "cell_type": "code",
   "execution_count": 78,
   "metadata": {},
   "outputs": [
    {
     "data": {
      "text/html": [
       "<div>\n",
       "<style scoped>\n",
       "    .dataframe tbody tr th:only-of-type {\n",
       "        vertical-align: middle;\n",
       "    }\n",
       "\n",
       "    .dataframe tbody tr th {\n",
       "        vertical-align: top;\n",
       "    }\n",
       "\n",
       "    .dataframe thead th {\n",
       "        text-align: right;\n",
       "    }\n",
       "</style>\n",
       "<table border=\"1\" class=\"dataframe\">\n",
       "  <thead>\n",
       "    <tr style=\"text-align: right;\">\n",
       "      <th></th>\n",
       "      <th>index</th>\n",
       "      <th>number_of_responses</th>\n",
       "    </tr>\n",
       "  </thead>\n",
       "  <tbody>\n",
       "    <tr>\n",
       "      <td>0</td>\n",
       "      <td>3445</td>\n",
       "      <td>7196</td>\n",
       "    </tr>\n",
       "    <tr>\n",
       "      <td>1</td>\n",
       "      <td>3446</td>\n",
       "      <td>7099</td>\n",
       "    </tr>\n",
       "    <tr>\n",
       "      <td>2</td>\n",
       "      <td>3449</td>\n",
       "      <td>6243</td>\n",
       "    </tr>\n",
       "    <tr>\n",
       "      <td>3</td>\n",
       "      <td>3450</td>\n",
       "      <td>6413</td>\n",
       "    </tr>\n",
       "    <tr>\n",
       "      <td>4</td>\n",
       "      <td>3453</td>\n",
       "      <td>6719</td>\n",
       "    </tr>\n",
       "    <tr>\n",
       "      <td>...</td>\n",
       "      <td>...</td>\n",
       "      <td>...</td>\n",
       "    </tr>\n",
       "    <tr>\n",
       "      <td>438</td>\n",
       "      <td>4352</td>\n",
       "      <td>65</td>\n",
       "    </tr>\n",
       "    <tr>\n",
       "      <td>439</td>\n",
       "      <td>4354</td>\n",
       "      <td>13</td>\n",
       "    </tr>\n",
       "    <tr>\n",
       "      <td>440</td>\n",
       "      <td>4356</td>\n",
       "      <td>13</td>\n",
       "    </tr>\n",
       "    <tr>\n",
       "      <td>441</td>\n",
       "      <td>4357</td>\n",
       "      <td>10</td>\n",
       "    </tr>\n",
       "    <tr>\n",
       "      <td>442</td>\n",
       "      <td>4359</td>\n",
       "      <td>10</td>\n",
       "    </tr>\n",
       "  </tbody>\n",
       "</table>\n",
       "<p>443 rows × 2 columns</p>\n",
       "</div>"
      ],
      "text/plain": [
       "     index  number_of_responses\n",
       "0     3445                 7196\n",
       "1     3446                 7099\n",
       "2     3449                 6243\n",
       "3     3450                 6413\n",
       "4     3453                 6719\n",
       "..     ...                  ...\n",
       "438   4352                   65\n",
       "439   4354                   13\n",
       "440   4356                   13\n",
       "441   4357                   10\n",
       "442   4359                   10\n",
       "\n",
       "[443 rows x 2 columns]"
      ]
     },
     "execution_count": 78,
     "metadata": {},
     "output_type": "execute_result"
    }
   ],
   "source": [
    "na.reset_index()"
   ]
  },
  {
   "cell_type": "code",
   "execution_count": 81,
   "metadata": {
    "scrolled": true
   },
   "outputs": [
    {
     "data": {
      "text/plain": [
       "<matplotlib.axes._subplots.AxesSubplot at 0x7ff92877efd0>"
      ]
     },
     "execution_count": 81,
     "metadata": {},
     "output_type": "execute_result"
    },
    {
     "data": {
      "image/png": "[encoded data removed]",
      "text/plain": [
       "<Figure size 432x288 with 1 Axes>"
      ]
     },
     "metadata": {
      "needs_background": "light"
     },
     "output_type": "display_data"
    }
   ],
   "source": [
    "import seaborn as sns\n",
    "sns.countplot(na) # national tests number of correct responses"
   ]
  },
  {
   "cell_type": "code",
   "execution_count": 83,
   "metadata": {
    "scrolled": true
   },
   "outputs": [
    {
     "data": {
      "text/plain": [
       "<matplotlib.axes._subplots.AxesSubplot at 0x7ff92a0ff5d0>"
      ]
     },
     "execution_count": 83,
     "metadata": {},
     "output_type": "execute_result"
    },
    {
     "data": {
      "image/png": "[encoded data removed]",
      "text/plain": [
       "<Figure size 432x288 with 1 Axes>"
      ]
     },
     "metadata": {
      "needs_background": "light"
     },
     "output_type": "display_data"
    }
   ],
   "source": [
    "sns.countplot(fl) # florida tests number of correct responses"
   ]
  },
  {
   "cell_type": "code",
   "execution_count": 52,
   "metadata": {},
   "outputs": [
    {
     "data": {
      "image/png": "[encoded data removed]",
      "text/plain": [
       "<Figure size 432x288 with 1 Axes>"
      ]
     },
     "metadata": {
      "needs_background": "light"
     },
     "output_type": "display_data"
    }
   ],
   "source": [
    "ax = na.plot(kind='box')"
   ]
  },
  {
   "cell_type": "code",
   "execution_count": 41,
   "metadata": {
    "scrolled": true
   },
   "outputs": [
    {
     "data": {
      "text/plain": [
       "<matplotlib.axes._subplots.AxesSubplot at 0x7ff926c30a10>"
      ]
     },
     "execution_count": 41,
     "metadata": {},
     "output_type": "execute_result"
    },
    {
     "data": {
      "image/png": "[encoded data removed]",
      "text/plain": [
       "<Figure size 432x288 with 1 Axes>"
      ]
     },
     "metadata": {
      "needs_background": "light"
     },
     "output_type": "display_data"
    }
   ],
   "source": [
    "ax = fl.plot(kind='box')"
   ]
  },
  {
   "cell_type": "code",
   "execution_count": 53,
   "metadata": {},
   "outputs": [
    {
     "data": {
      "text/plain": [
       "count     443.000000\n",
       "mean      886.618510\n",
       "std      1539.416776\n",
       "min         1.000000\n",
       "25%        23.000000\n",
       "50%        79.000000\n",
       "75%      1001.000000\n",
       "max      7196.000000\n",
       "Name: number_of_responses, dtype: float64"
      ]
     },
     "execution_count": 53,
     "metadata": {},
     "output_type": "execute_result"
    }
   ],
   "source": [
    "na.describe()"
   ]
  },
  {
   "cell_type": "code",
   "execution_count": 42,
   "metadata": {},
   "outputs": [
    {
     "data": {
      "text/plain": [
       "count    287.000000\n",
       "mean     140.006969\n",
       "std      180.750243\n",
       "min        1.000000\n",
       "25%       12.000000\n",
       "50%       43.000000\n",
       "75%      225.000000\n",
       "max      810.000000\n",
       "Name: number_of_responses, dtype: float64"
      ]
     },
     "execution_count": 42,
     "metadata": {},
     "output_type": "execute_result"
    }
   ],
   "source": [
    "fl.describe()"
   ]
  },
  {
   "cell_type": "code",
   "execution_count": 84,
   "metadata": {},
   "outputs": [
    {
     "name": "stdout",
     "output_type": "stream",
     "text": [
      "(0.6332790851593018, 1.1433908289770367e-29)\n",
      "(0.7694142460823059, 8.580244973845108e-20)\n"
     ]
    }
   ],
   "source": [
    "# shapiro test for normality\n",
    "print(stats.shapiro(na[((na >23) & na<7196)])) # outputs t-statistic and pvalue\n",
    "print(stats.shapiro(fl[(fl>12) & fl<225]))\n",
    "\n",
    "# validity of parametric tests assumes normal distribution\n",
    "# shapiro test is used to test h0 hypothesis of normality, or\n",
    "# that sample data is drawn from normal distribution\n",
    "\n",
    "# if pvalue < 0.05, so we reject h0 that sample data is drawn from normal distribution\n",
    "\n",
    "# in both na and fl arrays, we fail to reject the h0 hypothesis and accept the ha\n",
    "# that the sample data is not drawn from a normal distribution\n",
    "\n",
    "# https://docs.scipy.org/doc/scipy/reference/generated/scipy.stats.shapiro.html\n",
    "# http://www.sthda.com/english/wiki/normality-test-in-r"
   ]
  },
  {
   "cell_type": "code",
   "execution_count": 85,
   "metadata": {
    "scrolled": true
   },
   "outputs": [
    {
     "data": {
      "image/png": "[encoded data removed]",
      "text/plain": [
       "<Figure size 432x288 with 1 Axes>"
      ]
     },
     "metadata": {
      "needs_background": "light"
     },
     "output_type": "display_data"
    }
   ],
   "source": [
    "ax = sm.qqplot(na[((na >23) & na<7196)])\n",
    "\n",
    "# https://stats.stackexchange.com/questions/139708/qq-plot-in-python"
   ]
  },
  {
   "cell_type": "code",
   "execution_count": 86,
   "metadata": {
    "scrolled": true
   },
   "outputs": [
    {
     "data": {
      "image/png": "[encoded data removed]",
      "text/plain": [
       "<Figure size 432x288 with 1 Axes>"
      ]
     },
     "metadata": {
      "needs_background": "light"
     },
     "output_type": "display_data"
    }
   ],
   "source": [
    "ax = sm.qqplot(fl[(fl>12) & fl<225])"
   ]
  },
  {
   "cell_type": "markdown",
   "metadata": {},
   "source": [
    "##### Note:\n",
    "\n",
    "    \"You have several options for handling your non normal data. Many tests, including the one sample Z test, T test and ANOVA assume normality. You may still be able to run these tests if your sample size is large enough (usually over 20 items).\"\n",
    "    \n",
    "[source](https://www.statisticshowto.com/probability-and-statistics/non-normal-distributions/)"
   ]
  },
  {
   "cell_type": "markdown",
   "metadata": {},
   "source": [
    "## 3.2 Run ttest"
   ]
  },
  {
   "cell_type": "markdown",
   "metadata": {},
   "source": [
    "### 3.2.1. Hypothesis \n",
    "        H0: m1 = m2\n",
    "        Ha: m1 != m2 \n",
    "        alpha = 0.05\n",
    "        two sided test, so alpha/2 = .025"
   ]
  },
  {
   "cell_type": "markdown",
   "metadata": {},
   "source": [
    "### 3.2.2. Set up rejection region, tcrit"
   ]
  },
  {
   "cell_type": "code",
   "execution_count": 13,
   "metadata": {},
   "outputs": [
    {
     "name": "stdout",
     "output_type": "stream",
     "text": [
      "National sample size:  443\n",
      "Florida sample size:  287\n"
     ]
    }
   ],
   "source": [
    "na_n, fl_n= len(na), len(fl)\n",
    "print('National sample size: ', na_n)\n",
    "print('Florida sample size: ', fl_n)"
   ]
  },
  {
   "cell_type": "code",
   "execution_count": 14,
   "metadata": {},
   "outputs": [
    {
     "name": "stdout",
     "output_type": "stream",
     "text": [
      "National standard deviation:  1537.678303653417\n",
      "Florida standard deviation:  180.4350722072859\n"
     ]
    }
   ],
   "source": [
    "std_na, std_fl = np.std(na), np.std(fl)\n",
    "print('National standard deviation: ', std_na)\n",
    "print('Florida standard deviation: ', std_fl) # not equal variances"
   ]
  },
  {
   "attachments": {
    "image.png": {
     "image/png": "[encoded data removed]"
    }
   },
   "cell_type": "markdown",
   "metadata": {},
   "source": [
    "Samples do not have equal variances. We cannot assume equal variances.\n",
    "\n",
    "Use Sattertwaite's approximation for degrees of freedom (dof)\n",
    " [source](https://www.statisticshowto.com/satterthwaite-formula/)\n",
    "\n",
    "Instead of dof = n1 + n2 - 2\n",
    "\n",
    "![image.png](attachment:image.png)\n"
   ]
  },
  {
   "cell_type": "code",
   "execution_count": 15,
   "metadata": {},
   "outputs": [
    {
     "name": "stdout",
     "output_type": "stream",
     "text": [
      "dof (n1+n2-2):  728\n",
      "dof (Sattertwaite's approximation):   505.9817904196625\n",
      "lower critical value:  -1.96\n",
      "upper critical value:  1.96\n"
     ]
    }
   ],
   "source": [
    "# calculate critical value manually\n",
    "\n",
    "dof = ( (std_na**2/na_n) + (std_fl**2/fl_n) ) ** 2 / ( (1/(na_n-1)) * (std_na**2/na_n)**2 ) + ( (1/(fl_n-1)) * (std_fl**2/fl_n)**2 )\n",
    "\n",
    "# df2 used when unequal sample variances and/or unequal sample sizes\n",
    "# df2 is Sattertwaite's approximation\n",
    "\n",
    "# rule of thumb is ratio of two stds do not exceed 2 to 1, \n",
    "# you would be okay with standard t test, as long as sample sizes not too unequal\n",
    "\n",
    "dof2 = na_n + fl_n - 2\n",
    "\n",
    "print(\"dof (n1+n2-2): \", dof2)\n",
    "print(\"dof (Sattertwaite's approximation):  \", dof)\n",
    "\n",
    "# use ttable to find tcrit for degrees of freedom 505 at alpha = 0.05 level, two-sided so alpha/2 = 0.025\n",
    "# http://www.ttable.org/student-t-value-calculator.html\n",
    "\n",
    "ltcrit, utcrit = -1.96, 1.96\n",
    "print('lower critical value: ', ltcrit)\n",
    "print('upper critical value: ', utcrit)"
   ]
  },
  {
   "cell_type": "code",
   "execution_count": 16,
   "metadata": {},
   "outputs": [
    {
     "name": "stdout",
     "output_type": "stream",
     "text": [
      "critical t (using dof = n1 + n2 - 2)= 1.963 \n",
      "critical t (using Sattertwaite dof approximation) = 1.965 \n"
     ]
    }
   ],
   "source": [
    "# calculate critical value using package\n",
    "print ('critical t (using dof = n1 + n2 - 2)= %.3f ' % (stats.t.ppf(1-0.025, dof2)))\n",
    "print ('critical t (using Sattertwaite dof approximation) = %.3f ' % (stats.t.ppf(1-0.025, dof)))"
   ]
  },
  {
   "cell_type": "markdown",
   "metadata": {},
   "source": [
    "### 3.3.3. Gather data, calculate tobs"
   ]
  },
  {
   "cell_type": "code",
   "execution_count": 17,
   "metadata": {
    "scrolled": false
   },
   "outputs": [
    {
     "name": "stdout",
     "output_type": "stream",
     "text": [
      "National mean of correct response per item:  886.6185101580136\n",
      "Florida mean of correct response per item:  140.00696864111498\n",
      "Mean difference between na and fl:  746.6115415168986\n"
     ]
    }
   ],
   "source": [
    "# calculate mean difference\n",
    "na_mean, fl_mean = np.mean(na), np.mean(fl)\n",
    "mean_diff = np.subtract(na_mean, fl_mean)\n",
    "print('National mean of correct response per item: ', na_mean)\n",
    "print('Florida mean of correct response per item: ', fl_mean)\n",
    "print('Mean difference between na and fl: ', mean_diff)"
   ]
  },
  {
   "attachments": {
    "image.png": {
     "image/png": "[encoded data removed]"
    }
   },
   "cell_type": "markdown",
   "metadata": {},
   "source": [
    "**Welch Two Sample t-test**\n",
    "#####  (unequal variances) ([source](http://www.stat.yale.edu/Courses/1997-98/101/meancomp.htm))\n",
    "\n",
    "![image.png](attachment:image.png)"
   ]
  },
  {
   "cell_type": "code",
   "execution_count": 20,
   "metadata": {},
   "outputs": [
    {
     "name": "stdout",
     "output_type": "stream",
     "text": [
      "tobs using welch's t-test:  10.112633610981327\n"
     ]
    }
   ],
   "source": [
    "# calculate tobs using welch's t-staistic manually\n",
    "truemean_diff = 0 # given hypothesis, m1-m2 = 0\n",
    "\n",
    "std_pooled = np.sqrt( (std_na**2/na_n) + (std_fl**2/fl_n) )\n",
    "se_meandiff =  std_pooled\n",
    "\n",
    "tobs = (mean_diff - truemean_diff) / se_meandiff\n",
    "print(\"tobs using welch's t-test: \", tobs)"
   ]
  },
  {
   "cell_type": "code",
   "execution_count": 21,
   "metadata": {},
   "outputs": [
    {
     "data": {
      "text/plain": [
       "Ttest_indResult(statistic=10.101083938445148, pvalue=8.37743069809173e-22)"
      ]
     },
     "execution_count": 21,
     "metadata": {},
     "output_type": "execute_result"
    }
   ],
   "source": [
    "# calculate tobs using stats package where variance is not equal\n",
    "stats.ttest_ind(na,fl,equal_var = False) "
   ]
  },
  {
   "cell_type": "markdown",
   "metadata": {},
   "source": [
    "**Comparison: Standard independent 2 sample test that assumes equal population variances**\n",
    "##### Pooled variance (equal variances)\n",
    "\n",
    "Pooled T Procedures\n",
    "\n",
    "![image.png](http://www.stat.yale.edu/Courses/1997-98/101/tpool.gif)\n",
    "\n",
    "to calculate t statistic\n",
    "\n",
    "![image.png](http://www.stat.yale.edu/Courses/1997-98/101/tstatp.gif)\n",
    "\n",
    "which has a t(n1 + n2 -2) distribution ([source](http://www.stat.yale.edu/Courses/1997-98/101/meancomp.htm))."
   ]
  },
  {
   "cell_type": "code",
   "execution_count": 18,
   "metadata": {},
   "outputs": [
    {
     "name": "stdout",
     "output_type": "stream",
     "text": [
      "tobs using pooled variance:  8.18726857528586\n"
     ]
    }
   ],
   "source": [
    "# calculate tobs using pooled variance manually\n",
    "\n",
    "truemean_diff = 0 # given hypothesis, m1-m2 = 0\n",
    "\n",
    "std_pooled = np.sqrt( ( ((na_n-1)*(std_na**2)) + ((fl_n-1)*(std_fl**2) ) ) / (na_n+fl_n-2) )\n",
    "# remove the -1 to get exact stats package result\n",
    "se_meandiff =  std_pooled * np.sqrt( (1/na_n) + (1/fl_n) )\n",
    "\n",
    "tobs = (mean_diff - truemean_diff) / se_meandiff\n",
    "print(\"tobs using pooled variance: \", tobs)"
   ]
  },
  {
   "cell_type": "code",
   "execution_count": 19,
   "metadata": {
    "scrolled": true
   },
   "outputs": [
    {
     "data": {
      "text/plain": [
       "Ttest_indResult(statistic=8.177978184821752, pvalue=1.2828122599499164e-15)"
      ]
     },
     "execution_count": 19,
     "metadata": {},
     "output_type": "execute_result"
    }
   ],
   "source": [
    "# calculate tobs using stats package where variance is equal\n",
    "stats.ttest_ind(na,fl,equal_var = True)"
   ]
  },
  {
   "cell_type": "markdown",
   "metadata": {},
   "source": [
    "#### Review Stats Package (tobs,tcrit,pvalue)"
   ]
  },
  {
   "cell_type": "markdown",
   "metadata": {},
   "source": [
    "   **NOTE:**\n",
    "\n",
    "    \"We can use this test [scipy.stats.ttest_ind], if we observe two independent samples from the same or different population, e.g. exam scores of boys and girls or of two ethnic groups. \n",
    "\n",
    "    The test measures whether the average (expected) value differs significantly across samples. \n",
    "\n",
    "    If we observe a large p-value, for example larger than 0.05 or 0.1, then we cannot reject the null hypothesis of identical average scores. \n",
    "\n",
    "    If the p-value is smaller than the threshold, e.g. 1%, 5% or 10%, then we reject the null hypothesis of equal averages.\"\n",
    "   [source](https://docs.scipy.org/doc/scipy/reference/generated/scipy.stats.ttest_ind.html)"
   ]
  },
  {
   "cell_type": "code",
   "execution_count": 23,
   "metadata": {
    "scrolled": false
   },
   "outputs": [
    {
     "name": "stdout",
     "output_type": "stream",
     "text": [
      "National mean of correct response per item:  886.6185101580136\n",
      "Florida mean of correct response per item:  140.00696864111498\n",
      "Mean difference between na and fl:  746.6115415168986\n",
      "DF =  505.982\n",
      "tobs = 10.101\n",
      "pvalue = 0.000\n",
      "tcrit = 1.965\n"
     ]
    }
   ],
   "source": [
    "# tcrit, tobs, and tobs pvalue using stats package\n",
    "\n",
    "print('National mean of correct response per item: ', na_mean)\n",
    "print('Florida mean of correct response per item: ', fl_mean)\n",
    "print('Mean difference between na and fl: ', mean_diff)\n",
    "\n",
    "print ('DF =  %.3f' % dof) \n",
    "\n",
    "tobs, pvalue = stats.ttest_ind(na,fl,equal_var = False)\n",
    "tcrit = stats.t.ppf(1-0.025, dof)\n",
    "\n",
    "print ('tobs = %.3f' % tobs)\n",
    "print ('pvalue = %.3f' % pvalue)\n",
    "print ('tcrit = %.3f' % tcrit)"
   ]
  },
  {
   "cell_type": "markdown",
   "metadata": {},
   "source": [
    "### 3.3.4. Compare tobs to tcrit\n",
    "\n",
    "tobs (10.101) is greater than tcrit (1.965) and lies in the rejection region.\n",
    "\n",
    "We fail to reject the null hypothesis and accept that the means of correct responses per item do not differ between the two indepedent populations (state tests (FL) and national test (NA)), t(505) = 10.101, p>0.05."
   ]
  },
  {
   "cell_type": "markdown",
   "metadata": {},
   "source": [
    "## 3.4. Confidence interval using t-test"
   ]
  },
  {
   "cell_type": "code",
   "execution_count": 24,
   "metadata": {},
   "outputs": [
    {
     "name": "stdout",
     "output_type": "stream",
     "text": [
      "Mean difference between na and fl:  746.6115415168986\n",
      "Standard deviation of the mean difference between na and fl:  73.82958487748945\n"
     ]
    }
   ],
   "source": [
    "print('Mean difference between na and fl: ', mean_diff)\n",
    "print('Standard deviation of the mean difference between na and fl: ', se_meandiff)"
   ]
  },
  {
   "attachments": {
    "image.png": {
     "image/png": "[encoded data removed]"
    }
   },
   "cell_type": "markdown",
   "metadata": {},
   "source": [
    "##### Confidence interval for the difference in two means ([source](http://www.stat.yale.edu/Courses/1997-98/101/meancomp.htm))\n",
    "\n",
    "![image.png](attachment:image.png)"
   ]
  },
  {
   "cell_type": "code",
   "execution_count": 25,
   "metadata": {},
   "outputs": [
    {
     "name": "stdout",
     "output_type": "stream",
     "text": [
      "95 % confidence interval:  601.9055551570193 891.3175278767778\n",
      "99 % confidence interval:  556.1312125329757 937.0918705008214\n",
      "90 % confidence interval:  624.792726469041 868.4303565647562\n"
     ]
    }
   ],
   "source": [
    "def ci(mean_diff, se_meandiff):\n",
    "    tcrit = {95:1.96, 99:2.58, 90:1.65}\n",
    "    for key in tcrit:\n",
    "        lci, uci = mean_diff - (tcrit[key]*se_meandiff), mean_diff + (tcrit[key]*se_meandiff)\n",
    "        print(key, \"% confidence interval: \", lci, uci)\n",
    "        \n",
    "ci(mean_diff, se_meandiff)"
   ]
  },
  {
   "cell_type": "code",
   "execution_count": 26,
   "metadata": {},
   "outputs": [
    {
     "name": "stdout",
     "output_type": "stream",
     "text": [
      "(601.3611615418777, 891.8619214919195)\n"
     ]
    }
   ],
   "source": [
    "import statsmodels.stats.api as sm\n",
    "\n",
    "cm = sm.CompareMeans(sm.DescrStatsW(na), sm.DescrStatsW(fl))\n",
    "print(cm.tconfint_diff(usevar='unequal'))   # 95 % confidence interval "
   ]
  }
 ],
 "metadata": {
  "kernelspec": {
   "display_name": "Python 3",
   "language": "python",
   "name": "python3"
  },
  "language_info": {
   "codemirror_mode": {
    "name": "ipython",
    "version": 3
   },
   "file_extension": ".py",
   "mimetype": "text/x-python",
   "name": "python",
   "nbconvert_exporter": "python",
   "pygments_lexer": "ipython3",
   "version": "3.7.4"
  }
 },
 "nbformat": 4,
 "nbformat_minor": 2
}
