{
 "cells": [
  {
   "cell_type": "markdown",
   "metadata": {},
   "source": [
    "# This notebook:\n",
    "- **explores** correct responses for questions (or items) by question item between test types (state and national)\n",
    "- **visualizes** differences between the rate of correct responses by item at the state and national levels\n",
    "- **models** if there is a statistical difference between the mean correct response rate by item at the state and national levels using t test confidence interval and hypothesis testing\n",
    "- **concludes** \n",
    "    - the average rate of correct responses by item do not differ between the fl state k-5 and national k-5 levels\n",
    "    - and while the result is expected since the same questions are being used between fl and national tests,\n",
    "    - **the insight is item level difficulty (measured by rate of correct responses per item) is comparable between florida and national test results**\n",
    "\n",
    "*Note* this is a complementary notebook to [Final-Response-Rates-By-Test-Type]() which explores the mean response rates by test type, or state and national, and not the mean response rate of individual items by test type"
   ]
  },
  {
   "cell_type": "markdown",
   "metadata": {},
   "source": [
    "# 0. Load libaries"
   ]
  },
  {
   "cell_type": "code",
   "execution_count": 25,
   "metadata": {},
   "outputs": [],
   "source": [
    "import pandas as pd \n",
    "import numpy as np\n",
    "import matplotlib.pyplot as plt\n",
    "from scipy import stats\n",
    "import statsmodels.api as sm\n",
    "import statsmodels.stats.api as sm"
   ]
  },
  {
   "cell_type": "markdown",
   "metadata": {},
   "source": [
    "# 1. Load and prep data"
   ]
  },
  {
   "cell_type": "code",
   "execution_count": 6,
   "metadata": {},
   "outputs": [
    {
     "data": {
      "text/html": [
       "<div>\n",
       "<style scoped>\n",
       "    .dataframe tbody tr th:only-of-type {\n",
       "        vertical-align: middle;\n",
       "    }\n",
       "\n",
       "    .dataframe tbody tr th {\n",
       "        vertical-align: top;\n",
       "    }\n",
       "\n",
       "    .dataframe thead th {\n",
       "        text-align: right;\n",
       "    }\n",
       "</style>\n",
       "<table border=\"1\" class=\"dataframe\">\n",
       "  <thead>\n",
       "    <tr style=\"text-align: right;\">\n",
       "      <th></th>\n",
       "      <th>Item_ID</th>\n",
       "      <th>score_outcome</th>\n",
       "      <th>number_of_responses</th>\n",
       "    </tr>\n",
       "  </thead>\n",
       "  <tbody>\n",
       "    <tr>\n",
       "      <td>0</td>\n",
       "      <td>FL01M_CC_L01_01</td>\n",
       "      <td>INCORRECT</td>\n",
       "      <td>81</td>\n",
       "    </tr>\n",
       "    <tr>\n",
       "      <td>1</td>\n",
       "      <td>FL01M_CC_L01_01</td>\n",
       "      <td>CORRECT</td>\n",
       "      <td>799</td>\n",
       "    </tr>\n",
       "    <tr>\n",
       "      <td>2</td>\n",
       "      <td>FL01M_CC_L01_02</td>\n",
       "      <td>INCORRECT</td>\n",
       "      <td>70</td>\n",
       "    </tr>\n",
       "    <tr>\n",
       "      <td>3</td>\n",
       "      <td>FL01M_CC_L01_02</td>\n",
       "      <td>CORRECT</td>\n",
       "      <td>810</td>\n",
       "    </tr>\n",
       "    <tr>\n",
       "      <td>4</td>\n",
       "      <td>FL01M_CC_L01_03</td>\n",
       "      <td>INCORRECT</td>\n",
       "      <td>141</td>\n",
       "    </tr>\n",
       "  </tbody>\n",
       "</table>\n",
       "</div>"
      ],
      "text/plain": [
       "           Item_ID score_outcome  number_of_responses\n",
       "0  FL01M_CC_L01_01     INCORRECT                   81\n",
       "1  FL01M_CC_L01_01       CORRECT                  799\n",
       "2  FL01M_CC_L01_02     INCORRECT                   70\n",
       "3  FL01M_CC_L01_02       CORRECT                  810\n",
       "4  FL01M_CC_L01_03     INCORRECT                  141"
      ]
     },
     "execution_count": 6,
     "metadata": {},
     "output_type": "execute_result"
    }
   ],
   "source": [
    "df = pd.read_excel('Data/Quiz_Item_Responses.xlsx') \n",
    "df.head()"
   ]
  },
  {
   "cell_type": "code",
   "execution_count": 7,
   "metadata": {
    "scrolled": false
   },
   "outputs": [
    {
     "data": {
      "text/html": [
       "<div>\n",
       "<style scoped>\n",
       "    .dataframe tbody tr th:only-of-type {\n",
       "        vertical-align: middle;\n",
       "    }\n",
       "\n",
       "    .dataframe tbody tr th {\n",
       "        vertical-align: top;\n",
       "    }\n",
       "\n",
       "    .dataframe thead th {\n",
       "        text-align: right;\n",
       "    }\n",
       "</style>\n",
       "<table border=\"1\" class=\"dataframe\">\n",
       "  <thead>\n",
       "    <tr style=\"text-align: right;\">\n",
       "      <th></th>\n",
       "      <th>Item_ID</th>\n",
       "      <th>score_outcome</th>\n",
       "      <th>number_of_responses</th>\n",
       "      <th>total_responses</th>\n",
       "      <th>perc_outcome_of_total_response_per_item_id</th>\n",
       "    </tr>\n",
       "  </thead>\n",
       "  <tbody>\n",
       "    <tr>\n",
       "      <td>0</td>\n",
       "      <td>FL01M_CC_L01_01</td>\n",
       "      <td>INCORRECT</td>\n",
       "      <td>81</td>\n",
       "      <td>880</td>\n",
       "      <td>9.204545</td>\n",
       "    </tr>\n",
       "    <tr>\n",
       "      <td>1</td>\n",
       "      <td>FL01M_CC_L01_01</td>\n",
       "      <td>CORRECT</td>\n",
       "      <td>799</td>\n",
       "      <td>880</td>\n",
       "      <td>90.795455</td>\n",
       "    </tr>\n",
       "    <tr>\n",
       "      <td>2</td>\n",
       "      <td>FL01M_CC_L01_02</td>\n",
       "      <td>INCORRECT</td>\n",
       "      <td>70</td>\n",
       "      <td>880</td>\n",
       "      <td>7.954545</td>\n",
       "    </tr>\n",
       "    <tr>\n",
       "      <td>3</td>\n",
       "      <td>FL01M_CC_L01_02</td>\n",
       "      <td>CORRECT</td>\n",
       "      <td>810</td>\n",
       "      <td>880</td>\n",
       "      <td>92.045455</td>\n",
       "    </tr>\n",
       "    <tr>\n",
       "      <td>4</td>\n",
       "      <td>FL01M_CC_L01_03</td>\n",
       "      <td>INCORRECT</td>\n",
       "      <td>141</td>\n",
       "      <td>880</td>\n",
       "      <td>16.022727</td>\n",
       "    </tr>\n",
       "    <tr>\n",
       "      <td>5</td>\n",
       "      <td>FL01M_CC_L01_03</td>\n",
       "      <td>CORRECT</td>\n",
       "      <td>739</td>\n",
       "      <td>880</td>\n",
       "      <td>83.977273</td>\n",
       "    </tr>\n",
       "    <tr>\n",
       "      <td>6</td>\n",
       "      <td>FL01M_CC_L01_04</td>\n",
       "      <td>INCORRECT</td>\n",
       "      <td>103</td>\n",
       "      <td>879</td>\n",
       "      <td>11.717861</td>\n",
       "    </tr>\n",
       "    <tr>\n",
       "      <td>7</td>\n",
       "      <td>FL01M_CC_L01_04</td>\n",
       "      <td>CORRECT</td>\n",
       "      <td>776</td>\n",
       "      <td>879</td>\n",
       "      <td>88.282139</td>\n",
       "    </tr>\n",
       "    <tr>\n",
       "      <td>8</td>\n",
       "      <td>FL01M_CC_L01_05</td>\n",
       "      <td>INCORRECT</td>\n",
       "      <td>97</td>\n",
       "      <td>879</td>\n",
       "      <td>11.035267</td>\n",
       "    </tr>\n",
       "    <tr>\n",
       "      <td>9</td>\n",
       "      <td>FL01M_CC_L01_05</td>\n",
       "      <td>CORRECT</td>\n",
       "      <td>782</td>\n",
       "      <td>879</td>\n",
       "      <td>88.964733</td>\n",
       "    </tr>\n",
       "  </tbody>\n",
       "</table>\n",
       "</div>"
      ],
      "text/plain": [
       "           Item_ID score_outcome  number_of_responses  total_responses  \\\n",
       "0  FL01M_CC_L01_01     INCORRECT                   81              880   \n",
       "1  FL01M_CC_L01_01       CORRECT                  799              880   \n",
       "2  FL01M_CC_L01_02     INCORRECT                   70              880   \n",
       "3  FL01M_CC_L01_02       CORRECT                  810              880   \n",
       "4  FL01M_CC_L01_03     INCORRECT                  141              880   \n",
       "5  FL01M_CC_L01_03       CORRECT                  739              880   \n",
       "6  FL01M_CC_L01_04     INCORRECT                  103              879   \n",
       "7  FL01M_CC_L01_04       CORRECT                  776              879   \n",
       "8  FL01M_CC_L01_05     INCORRECT                   97              879   \n",
       "9  FL01M_CC_L01_05       CORRECT                  782              879   \n",
       "\n",
       "   perc_outcome_of_total_response_per_item_id  \n",
       "0                                    9.204545  \n",
       "1                                   90.795455  \n",
       "2                                    7.954545  \n",
       "3                                   92.045455  \n",
       "4                                   16.022727  \n",
       "5                                   83.977273  \n",
       "6                                   11.717861  \n",
       "7                                   88.282139  \n",
       "8                                   11.035267  \n",
       "9                                   88.964733  "
      ]
     },
     "execution_count": 7,
     "metadata": {},
     "output_type": "execute_result"
    }
   ],
   "source": [
    "# group by Item_ID and aggregate the sum of number of responses\n",
    "# add new variable percent_score_outcome_of_total_response, or number of responses / total responses\n",
    "# filter where score_outcome is correct\n",
    "groupby = (df.groupby(['Item_ID'])\n",
    "           .agg({'number_of_responses': 'sum'})\n",
    "           .rename(columns={'number_of_responses': 'total_responses'}))\n",
    "df = df.join(groupby, on='Item_ID')\n",
    "df[\"perc_outcome_of_total_response_per_item_id\"]= df[\"number_of_responses\"]/df[\"total_responses\"]*100\n",
    "df.head(10)"
   ]
  },
  {
   "cell_type": "code",
   "execution_count": 8,
   "metadata": {},
   "outputs": [
    {
     "data": {
      "text/html": [
       "<div>\n",
       "<style scoped>\n",
       "    .dataframe tbody tr th:only-of-type {\n",
       "        vertical-align: middle;\n",
       "    }\n",
       "\n",
       "    .dataframe tbody tr th {\n",
       "        vertical-align: top;\n",
       "    }\n",
       "\n",
       "    .dataframe thead th {\n",
       "        text-align: right;\n",
       "    }\n",
       "</style>\n",
       "<table border=\"1\" class=\"dataframe\">\n",
       "  <thead>\n",
       "    <tr style=\"text-align: right;\">\n",
       "      <th></th>\n",
       "      <th>Item_ID</th>\n",
       "      <th>score_outcome</th>\n",
       "      <th>number_of_responses</th>\n",
       "      <th>total_responses</th>\n",
       "      <th>perc_outcome_of_total_response_per_item_id</th>\n",
       "      <th>Item_1</th>\n",
       "      <th>Item_2</th>\n",
       "      <th>Item_3</th>\n",
       "      <th>Item_4</th>\n",
       "      <th>Item_5</th>\n",
       "    </tr>\n",
       "  </thead>\n",
       "  <tbody>\n",
       "    <tr>\n",
       "      <td>0</td>\n",
       "      <td>FL01M_CC_L01_01</td>\n",
       "      <td>INCORRECT</td>\n",
       "      <td>81</td>\n",
       "      <td>880</td>\n",
       "      <td>9.204545</td>\n",
       "      <td>FL01M</td>\n",
       "      <td>CC</td>\n",
       "      <td>L01</td>\n",
       "      <td>01</td>\n",
       "      <td>None</td>\n",
       "    </tr>\n",
       "    <tr>\n",
       "      <td>1</td>\n",
       "      <td>FL01M_CC_L01_01</td>\n",
       "      <td>CORRECT</td>\n",
       "      <td>799</td>\n",
       "      <td>880</td>\n",
       "      <td>90.795455</td>\n",
       "      <td>FL01M</td>\n",
       "      <td>CC</td>\n",
       "      <td>L01</td>\n",
       "      <td>01</td>\n",
       "      <td>None</td>\n",
       "    </tr>\n",
       "    <tr>\n",
       "      <td>2</td>\n",
       "      <td>FL01M_CC_L01_02</td>\n",
       "      <td>INCORRECT</td>\n",
       "      <td>70</td>\n",
       "      <td>880</td>\n",
       "      <td>7.954545</td>\n",
       "      <td>FL01M</td>\n",
       "      <td>CC</td>\n",
       "      <td>L01</td>\n",
       "      <td>02</td>\n",
       "      <td>None</td>\n",
       "    </tr>\n",
       "    <tr>\n",
       "      <td>3</td>\n",
       "      <td>FL01M_CC_L01_02</td>\n",
       "      <td>CORRECT</td>\n",
       "      <td>810</td>\n",
       "      <td>880</td>\n",
       "      <td>92.045455</td>\n",
       "      <td>FL01M</td>\n",
       "      <td>CC</td>\n",
       "      <td>L01</td>\n",
       "      <td>02</td>\n",
       "      <td>None</td>\n",
       "    </tr>\n",
       "    <tr>\n",
       "      <td>4</td>\n",
       "      <td>FL01M_CC_L01_03</td>\n",
       "      <td>INCORRECT</td>\n",
       "      <td>141</td>\n",
       "      <td>880</td>\n",
       "      <td>16.022727</td>\n",
       "      <td>FL01M</td>\n",
       "      <td>CC</td>\n",
       "      <td>L01</td>\n",
       "      <td>03</td>\n",
       "      <td>None</td>\n",
       "    </tr>\n",
       "    <tr>\n",
       "      <td>5</td>\n",
       "      <td>FL01M_CC_L01_03</td>\n",
       "      <td>CORRECT</td>\n",
       "      <td>739</td>\n",
       "      <td>880</td>\n",
       "      <td>83.977273</td>\n",
       "      <td>FL01M</td>\n",
       "      <td>CC</td>\n",
       "      <td>L01</td>\n",
       "      <td>03</td>\n",
       "      <td>None</td>\n",
       "    </tr>\n",
       "    <tr>\n",
       "      <td>6</td>\n",
       "      <td>FL01M_CC_L01_04</td>\n",
       "      <td>INCORRECT</td>\n",
       "      <td>103</td>\n",
       "      <td>879</td>\n",
       "      <td>11.717861</td>\n",
       "      <td>FL01M</td>\n",
       "      <td>CC</td>\n",
       "      <td>L01</td>\n",
       "      <td>04</td>\n",
       "      <td>None</td>\n",
       "    </tr>\n",
       "    <tr>\n",
       "      <td>7</td>\n",
       "      <td>FL01M_CC_L01_04</td>\n",
       "      <td>CORRECT</td>\n",
       "      <td>776</td>\n",
       "      <td>879</td>\n",
       "      <td>88.282139</td>\n",
       "      <td>FL01M</td>\n",
       "      <td>CC</td>\n",
       "      <td>L01</td>\n",
       "      <td>04</td>\n",
       "      <td>None</td>\n",
       "    </tr>\n",
       "    <tr>\n",
       "      <td>8</td>\n",
       "      <td>FL01M_CC_L01_05</td>\n",
       "      <td>INCORRECT</td>\n",
       "      <td>97</td>\n",
       "      <td>879</td>\n",
       "      <td>11.035267</td>\n",
       "      <td>FL01M</td>\n",
       "      <td>CC</td>\n",
       "      <td>L01</td>\n",
       "      <td>05</td>\n",
       "      <td>None</td>\n",
       "    </tr>\n",
       "    <tr>\n",
       "      <td>9</td>\n",
       "      <td>FL01M_CC_L01_05</td>\n",
       "      <td>CORRECT</td>\n",
       "      <td>782</td>\n",
       "      <td>879</td>\n",
       "      <td>88.964733</td>\n",
       "      <td>FL01M</td>\n",
       "      <td>CC</td>\n",
       "      <td>L01</td>\n",
       "      <td>05</td>\n",
       "      <td>None</td>\n",
       "    </tr>\n",
       "  </tbody>\n",
       "</table>\n",
       "</div>"
      ],
      "text/plain": [
       "           Item_ID score_outcome  number_of_responses  total_responses  \\\n",
       "0  FL01M_CC_L01_01     INCORRECT                   81              880   \n",
       "1  FL01M_CC_L01_01       CORRECT                  799              880   \n",
       "2  FL01M_CC_L01_02     INCORRECT                   70              880   \n",
       "3  FL01M_CC_L01_02       CORRECT                  810              880   \n",
       "4  FL01M_CC_L01_03     INCORRECT                  141              880   \n",
       "5  FL01M_CC_L01_03       CORRECT                  739              880   \n",
       "6  FL01M_CC_L01_04     INCORRECT                  103              879   \n",
       "7  FL01M_CC_L01_04       CORRECT                  776              879   \n",
       "8  FL01M_CC_L01_05     INCORRECT                   97              879   \n",
       "9  FL01M_CC_L01_05       CORRECT                  782              879   \n",
       "\n",
       "   perc_outcome_of_total_response_per_item_id Item_1 Item_2 Item_3 Item_4  \\\n",
       "0                                    9.204545  FL01M     CC    L01     01   \n",
       "1                                   90.795455  FL01M     CC    L01     01   \n",
       "2                                    7.954545  FL01M     CC    L01     02   \n",
       "3                                   92.045455  FL01M     CC    L01     02   \n",
       "4                                   16.022727  FL01M     CC    L01     03   \n",
       "5                                   83.977273  FL01M     CC    L01     03   \n",
       "6                                   11.717861  FL01M     CC    L01     04   \n",
       "7                                   88.282139  FL01M     CC    L01     04   \n",
       "8                                   11.035267  FL01M     CC    L01     05   \n",
       "9                                   88.964733  FL01M     CC    L01     05   \n",
       "\n",
       "  Item_5  \n",
       "0   None  \n",
       "1   None  \n",
       "2   None  \n",
       "3   None  \n",
       "4   None  \n",
       "5   None  \n",
       "6   None  \n",
       "7   None  \n",
       "8   None  \n",
       "9   None  "
      ]
     },
     "execution_count": 8,
     "metadata": {},
     "output_type": "execute_result"
    }
   ],
   "source": [
    "# split item id into parts\n",
    "df[[\"Item_1\",\"Item_2\",\"Item_3\",\"Item_4\",\"Item_5\"]]= df[\"Item_ID\"].str.split(\"_\", expand = True)\n",
    "df.head(10)"
   ]
  },
  {
   "cell_type": "code",
   "execution_count": 10,
   "metadata": {
    "scrolled": true
   },
   "outputs": [
    {
     "data": {
      "text/html": [
       "<div>\n",
       "<style scoped>\n",
       "    .dataframe tbody tr th:only-of-type {\n",
       "        vertical-align: middle;\n",
       "    }\n",
       "\n",
       "    .dataframe tbody tr th {\n",
       "        vertical-align: top;\n",
       "    }\n",
       "\n",
       "    .dataframe thead th {\n",
       "        text-align: right;\n",
       "    }\n",
       "</style>\n",
       "<table border=\"1\" class=\"dataframe\">\n",
       "  <thead>\n",
       "    <tr style=\"text-align: right;\">\n",
       "      <th></th>\n",
       "      <th>total_correct_response_per_item_1</th>\n",
       "      <th>total_responses_per_item_1</th>\n",
       "      <th>avg_percent_correct_per_item_id_by_item_1</th>\n",
       "    </tr>\n",
       "    <tr>\n",
       "      <th>Item_1</th>\n",
       "      <th></th>\n",
       "      <th></th>\n",
       "      <th></th>\n",
       "    </tr>\n",
       "  </thead>\n",
       "  <tbody>\n",
       "    <tr>\n",
       "      <td>FL01M</td>\n",
       "      <td>57048</td>\n",
       "      <td>115153</td>\n",
       "      <td>55.743243</td>\n",
       "    </tr>\n",
       "    <tr>\n",
       "      <td>FL02M</td>\n",
       "      <td>40291</td>\n",
       "      <td>87817</td>\n",
       "      <td>50.387597</td>\n",
       "    </tr>\n",
       "    <tr>\n",
       "      <td>FL03M</td>\n",
       "      <td>73974</td>\n",
       "      <td>157581</td>\n",
       "      <td>47.920792</td>\n",
       "    </tr>\n",
       "    <tr>\n",
       "      <td>FL04M</td>\n",
       "      <td>102038</td>\n",
       "      <td>230340</td>\n",
       "      <td>45.402299</td>\n",
       "    </tr>\n",
       "    <tr>\n",
       "      <td>FL05M</td>\n",
       "      <td>74192</td>\n",
       "      <td>174715</td>\n",
       "      <td>45.759369</td>\n",
       "    </tr>\n",
       "    <tr>\n",
       "      <td>FL0KM</td>\n",
       "      <td>39432</td>\n",
       "      <td>81433</td>\n",
       "      <td>50.000000</td>\n",
       "    </tr>\n",
       "    <tr>\n",
       "      <td>G2</td>\n",
       "      <td>12680</td>\n",
       "      <td>28896</td>\n",
       "      <td>47.872340</td>\n",
       "    </tr>\n",
       "    <tr>\n",
       "      <td>G3</td>\n",
       "      <td>3212</td>\n",
       "      <td>7438</td>\n",
       "      <td>45.000000</td>\n",
       "    </tr>\n",
       "    <tr>\n",
       "      <td>G4</td>\n",
       "      <td>24395</td>\n",
       "      <td>59288</td>\n",
       "      <td>46.456693</td>\n",
       "    </tr>\n",
       "    <tr>\n",
       "      <td>G5</td>\n",
       "      <td>32731</td>\n",
       "      <td>73135</td>\n",
       "      <td>46.987952</td>\n",
       "    </tr>\n",
       "    <tr>\n",
       "      <td>NA01M</td>\n",
       "      <td>612590</td>\n",
       "      <td>1238140</td>\n",
       "      <td>48.527808</td>\n",
       "    </tr>\n",
       "    <tr>\n",
       "      <td>NA02M</td>\n",
       "      <td>694239</td>\n",
       "      <td>1526738</td>\n",
       "      <td>47.037915</td>\n",
       "    </tr>\n",
       "    <tr>\n",
       "      <td>NA03M</td>\n",
       "      <td>1217742</td>\n",
       "      <td>2607759</td>\n",
       "      <td>49.827388</td>\n",
       "    </tr>\n",
       "    <tr>\n",
       "      <td>NA04M</td>\n",
       "      <td>1933215</td>\n",
       "      <td>4314692</td>\n",
       "      <td>45.594714</td>\n",
       "    </tr>\n",
       "    <tr>\n",
       "      <td>NA05M</td>\n",
       "      <td>1651795</td>\n",
       "      <td>3668347</td>\n",
       "      <td>46.188341</td>\n",
       "    </tr>\n",
       "    <tr>\n",
       "      <td>NA0KM</td>\n",
       "      <td>309257</td>\n",
       "      <td>649919</td>\n",
       "      <td>50.401070</td>\n",
       "    </tr>\n",
       "  </tbody>\n",
       "</table>\n",
       "</div>"
      ],
      "text/plain": [
       "        total_correct_response_per_item_1  total_responses_per_item_1  \\\n",
       "Item_1                                                                  \n",
       "FL01M                               57048                      115153   \n",
       "FL02M                               40291                       87817   \n",
       "FL03M                               73974                      157581   \n",
       "FL04M                              102038                      230340   \n",
       "FL05M                               74192                      174715   \n",
       "FL0KM                               39432                       81433   \n",
       "G2                                  12680                       28896   \n",
       "G3                                   3212                        7438   \n",
       "G4                                  24395                       59288   \n",
       "G5                                  32731                       73135   \n",
       "NA01M                              612590                     1238140   \n",
       "NA02M                              694239                     1526738   \n",
       "NA03M                             1217742                     2607759   \n",
       "NA04M                             1933215                     4314692   \n",
       "NA05M                             1651795                     3668347   \n",
       "NA0KM                              309257                      649919   \n",
       "\n",
       "        avg_percent_correct_per_item_id_by_item_1  \n",
       "Item_1                                             \n",
       "FL01M                                   55.743243  \n",
       "FL02M                                   50.387597  \n",
       "FL03M                                   47.920792  \n",
       "FL04M                                   45.402299  \n",
       "FL05M                                   45.759369  \n",
       "FL0KM                                   50.000000  \n",
       "G2                                      47.872340  \n",
       "G3                                      45.000000  \n",
       "G4                                      46.456693  \n",
       "G5                                      46.987952  \n",
       "NA01M                                   48.527808  \n",
       "NA02M                                   47.037915  \n",
       "NA03M                                   49.827388  \n",
       "NA04M                                   45.594714  \n",
       "NA05M                                   46.188341  \n",
       "NA0KM                                   50.401070  "
      ]
     },
     "execution_count": 10,
     "metadata": {},
     "output_type": "execute_result"
    }
   ],
   "source": [
    "# item_1 represents a new category that buckets item_ids, or nests item_ids\n",
    "# where item_1 = test name  and  item_ID = question\n",
    "# so the data show the individual questions on a test (and its number of responses)\n",
    "\n",
    "# Questions:\n",
    "# What is the average number of correct response on a question by test?\n",
    "# What is the total number of responses to all questions by test?\n",
    "# What is the average percent of correct responses by test?\n",
    "\n",
    "# group by item_1 and average number_of_responses, sum total_responses, and average percent\n",
    "\n",
    "groupby2 = (df.groupby(['Item_1'])\n",
    "            .agg({'number_of_responses': 'sum',\n",
    "                  'total_responses': 'sum',\n",
    "                  'perc_outcome_of_total_response_per_item_id': 'mean'})\n",
    "            .rename(columns={'number_of_responses':'total_correct_response_per_item_1',\n",
    "                         'total_responses':'total_responses_per_item_1',\n",
    "                         'perc_outcome_of_total_response_per_item_id':'avg_percent_correct_per_item_id_by_item_1'\n",
    "                        }))\n",
    "groupby2"
   ]
  },
  {
   "cell_type": "markdown",
   "metadata": {},
   "source": [
    "# 2. Visualize data"
   ]
  },
  {
   "cell_type": "code",
   "execution_count": 11,
   "metadata": {},
   "outputs": [
    {
     "data": {
      "text/plain": [
       "Index(['total_correct_response_per_item_1', 'total_responses_per_item_1',\n",
       "       'avg_percent_correct_per_item_id_by_item_1'],\n",
       "      dtype='object')"
      ]
     },
     "execution_count": 11,
     "metadata": {},
     "output_type": "execute_result"
    }
   ],
   "source": [
    "groupby2.columns"
   ]
  },
  {
   "cell_type": "code",
   "execution_count": 12,
   "metadata": {},
   "outputs": [
    {
     "data": {
      "image/png": "[encoded data removed]",
      "text/plain": [
       "<Figure size 432x288 with 1 Axes>"
      ]
     },
     "metadata": {
      "needs_background": "light"
     },
     "output_type": "display_data"
    }
   ],
   "source": [
    "ax = groupby2.plot.bar(y='avg_percent_correct_per_item_id_by_item_1', rot=45) # join.plot(kind='bar'...) also works"
   ]
  },
  {
   "cell_type": "code",
   "execution_count": 13,
   "metadata": {
    "scrolled": false
   },
   "outputs": [
    {
     "data": {
      "image/png": "[encoded data removed]",
      "text/plain": [
       "<Figure size 432x288 with 1 Axes>"
      ]
     },
     "metadata": {
      "needs_background": "light"
     },
     "output_type": "display_data"
    }
   ],
   "source": [
    "ax = groupby2.plot.bar(y='total_correct_response_per_item_1', rot=45) # x value is index when not specified\n",
    "                                                                    # optional: join['Item_ID'] = join.index for x"
   ]
  },
  {
   "cell_type": "code",
   "execution_count": 14,
   "metadata": {
    "scrolled": false
   },
   "outputs": [
    {
     "data": {
      "image/png": "[encoded data removed]",
      "text/plain": [
       "<Figure size 432x288 with 1 Axes>"
      ]
     },
     "metadata": {
      "needs_background": "light"
     },
     "output_type": "display_data"
    }
   ],
   "source": [
    "ax = groupby2.plot.bar(y='total_responses_per_item_1', rot=45) "
   ]
  },
  {
   "cell_type": "code",
   "execution_count": 15,
   "metadata": {
    "scrolled": false
   },
   "outputs": [
    {
     "data": {
      "text/plain": [
       "<matplotlib.axes._subplots.AxesSubplot at 0x7fc63cd9b890>"
      ]
     },
     "execution_count": 15,
     "metadata": {},
     "output_type": "execute_result"
    },
    {
     "data": {
      "image/png": "[encoded data removed]",
      "text/plain": [
       "<Figure size 432x288 with 1 Axes>"
      ]
     },
     "metadata": {
      "needs_background": "light"
     },
     "output_type": "display_data"
    }
   ],
   "source": [
    "# nsize (number of Item_IDs, or questions) per test\n",
    "df.Item_1.value_counts().plot(kind='bar', rot=45)"
   ]
  },
  {
   "cell_type": "markdown",
   "metadata": {},
   "source": [
    "# 3. Model data\n",
    "\n",
    "## Is there a significant difference (at the alpha=0.05 level) in the mean correct responses per item between the two independent populations (k-5 state tests (FL) and k-5 national test (NA))?\n",
    "\n",
    "## In other words, does the average rate of correct responses per question differ between K-5 state tests (FL) and K-5 national test (NA)?  Are state tests more difficult to get correct responses than national tests?\n",
    "\n",
    "Use t test. Note: t test is used for small samples but still robust enough to use and acts more conservation on large samples.\n",
    "\n",
    "First, understand (sample) population.\n",
    "\n",
    "Then, run t test.\n",
    "\n",
    "    Steps:\n",
    "        1. set up h0 and ha\n",
    "        2. set up rejection region, tcrit\n",
    "        3. gather data, calculate tobs\n",
    "        4. compare tobs to tcrit\n",
    "\n",
    "Lastly, evaluate confidence interval of difference in the mean between the two independent populations."
   ]
  },
  {
   "cell_type": "markdown",
   "metadata": {},
   "source": [
    "## 3.1. Examine n size and normality of sample populations"
   ]
  },
  {
   "cell_type": "code",
   "execution_count": 16,
   "metadata": {},
   "outputs": [
    {
     "data": {
      "text/html": [
       "<div>\n",
       "<style scoped>\n",
       "    .dataframe tbody tr th:only-of-type {\n",
       "        vertical-align: middle;\n",
       "    }\n",
       "\n",
       "    .dataframe tbody tr th {\n",
       "        vertical-align: top;\n",
       "    }\n",
       "\n",
       "    .dataframe thead th {\n",
       "        text-align: right;\n",
       "    }\n",
       "</style>\n",
       "<table border=\"1\" class=\"dataframe\">\n",
       "  <thead>\n",
       "    <tr style=\"text-align: right;\">\n",
       "      <th></th>\n",
       "      <th>total_correct_response_per_item_1</th>\n",
       "      <th>total_responses_per_item_1</th>\n",
       "      <th>avg_percent_correct_per_item_id_by_item_1</th>\n",
       "      <th>item</th>\n",
       "    </tr>\n",
       "    <tr>\n",
       "      <th>Item_1</th>\n",
       "      <th></th>\n",
       "      <th></th>\n",
       "      <th></th>\n",
       "      <th></th>\n",
       "    </tr>\n",
       "  </thead>\n",
       "  <tbody>\n",
       "    <tr>\n",
       "      <td>FL01M</td>\n",
       "      <td>57048</td>\n",
       "      <td>115153</td>\n",
       "      <td>55.743243</td>\n",
       "      <td>FL</td>\n",
       "    </tr>\n",
       "    <tr>\n",
       "      <td>FL02M</td>\n",
       "      <td>40291</td>\n",
       "      <td>87817</td>\n",
       "      <td>50.387597</td>\n",
       "      <td>FL</td>\n",
       "    </tr>\n",
       "    <tr>\n",
       "      <td>FL03M</td>\n",
       "      <td>73974</td>\n",
       "      <td>157581</td>\n",
       "      <td>47.920792</td>\n",
       "      <td>FL</td>\n",
       "    </tr>\n",
       "    <tr>\n",
       "      <td>FL04M</td>\n",
       "      <td>102038</td>\n",
       "      <td>230340</td>\n",
       "      <td>45.402299</td>\n",
       "      <td>FL</td>\n",
       "    </tr>\n",
       "    <tr>\n",
       "      <td>FL05M</td>\n",
       "      <td>74192</td>\n",
       "      <td>174715</td>\n",
       "      <td>45.759369</td>\n",
       "      <td>FL</td>\n",
       "    </tr>\n",
       "    <tr>\n",
       "      <td>FL0KM</td>\n",
       "      <td>39432</td>\n",
       "      <td>81433</td>\n",
       "      <td>50.000000</td>\n",
       "      <td>FL</td>\n",
       "    </tr>\n",
       "    <tr>\n",
       "      <td>NA01M</td>\n",
       "      <td>612590</td>\n",
       "      <td>1238140</td>\n",
       "      <td>48.527808</td>\n",
       "      <td>NA</td>\n",
       "    </tr>\n",
       "    <tr>\n",
       "      <td>NA02M</td>\n",
       "      <td>694239</td>\n",
       "      <td>1526738</td>\n",
       "      <td>47.037915</td>\n",
       "      <td>NA</td>\n",
       "    </tr>\n",
       "    <tr>\n",
       "      <td>NA03M</td>\n",
       "      <td>1217742</td>\n",
       "      <td>2607759</td>\n",
       "      <td>49.827388</td>\n",
       "      <td>NA</td>\n",
       "    </tr>\n",
       "    <tr>\n",
       "      <td>NA04M</td>\n",
       "      <td>1933215</td>\n",
       "      <td>4314692</td>\n",
       "      <td>45.594714</td>\n",
       "      <td>NA</td>\n",
       "    </tr>\n",
       "    <tr>\n",
       "      <td>NA05M</td>\n",
       "      <td>1651795</td>\n",
       "      <td>3668347</td>\n",
       "      <td>46.188341</td>\n",
       "      <td>NA</td>\n",
       "    </tr>\n",
       "    <tr>\n",
       "      <td>NA0KM</td>\n",
       "      <td>309257</td>\n",
       "      <td>649919</td>\n",
       "      <td>50.401070</td>\n",
       "      <td>NA</td>\n",
       "    </tr>\n",
       "  </tbody>\n",
       "</table>\n",
       "</div>"
      ],
      "text/plain": [
       "        total_correct_response_per_item_1  total_responses_per_item_1  \\\n",
       "Item_1                                                                  \n",
       "FL01M                               57048                      115153   \n",
       "FL02M                               40291                       87817   \n",
       "FL03M                               73974                      157581   \n",
       "FL04M                              102038                      230340   \n",
       "FL05M                               74192                      174715   \n",
       "FL0KM                               39432                       81433   \n",
       "NA01M                              612590                     1238140   \n",
       "NA02M                              694239                     1526738   \n",
       "NA03M                             1217742                     2607759   \n",
       "NA04M                             1933215                     4314692   \n",
       "NA05M                             1651795                     3668347   \n",
       "NA0KM                              309257                      649919   \n",
       "\n",
       "        avg_percent_correct_per_item_id_by_item_1 item  \n",
       "Item_1                                                  \n",
       "FL01M                                   55.743243   FL  \n",
       "FL02M                                   50.387597   FL  \n",
       "FL03M                                   47.920792   FL  \n",
       "FL04M                                   45.402299   FL  \n",
       "FL05M                                   45.759369   FL  \n",
       "FL0KM                                   50.000000   FL  \n",
       "NA01M                                   48.527808   NA  \n",
       "NA02M                                   47.037915   NA  \n",
       "NA03M                                   49.827388   NA  \n",
       "NA04M                                   45.594714   NA  \n",
       "NA05M                                   46.188341   NA  \n",
       "NA0KM                                   50.401070   NA  "
      ]
     },
     "execution_count": 16,
     "metadata": {},
     "output_type": "execute_result"
    }
   ],
   "source": [
    "df=groupby2\n",
    "df=df.drop(['G2' , 'G3', 'G4', 'G5']) # drop G items from analysis\n",
    "df['item'] = np.where(df.index.str.contains(\"FL\"), 'FL', 'NA')\n",
    "df"
   ]
  },
  {
   "cell_type": "code",
   "execution_count": 18,
   "metadata": {
    "scrolled": true
   },
   "outputs": [
    {
     "data": {
      "text/plain": [
       "NA    6\n",
       "FL    6\n",
       "Name: item, dtype: int64"
      ]
     },
     "execution_count": 18,
     "metadata": {},
     "output_type": "execute_result"
    }
   ],
   "source": [
    "# nsize of avg_percent_correct_per_item_id_by_item_1 by test type (florida vs national)\n",
    "df.item.value_counts() "
   ]
  },
  {
   "cell_type": "markdown",
   "metadata": {},
   "source": [
    "##### Test for normality"
   ]
  },
  {
   "cell_type": "code",
   "execution_count": 19,
   "metadata": {},
   "outputs": [
    {
     "name": "stdout",
     "output_type": "stream",
     "text": [
      "(0.9307220578193665, 0.5856895446777344)\n",
      "(0.9087716341018677, 0.42836472392082214)\n"
     ]
    }
   ],
   "source": [
    "# shapiro normality test\n",
    "na,fl=df[(df.item=='NA')]['avg_percent_correct_per_item_id_by_item_1'], df[(df.item=='FL')]['avg_percent_correct_per_item_id_by_item_1']\n",
    "print(stats.shapiro(na)) # outputs t-statistic and pvalue\n",
    "print(stats.shapiro(fl))\n",
    "\n",
    "# validity of parametric tests assumes normal distribution\n",
    "# shapiro test is used to test h0 hypothesis of normality, or\n",
    "# that sample data is drawn from normal distribution\n",
    "\n",
    "# if pvalue < 0.05, we reject h0 that sample data is drawn from normal distribution\n",
    "\n",
    "# in both na and fl correct_perc arrays, the pvalue is greater than alpha > 0.05,\n",
    "# so we fail to reject the h0 hypothesis \n",
    "# and say the sample data is drawn from a normal distribution\n",
    "\n",
    "# https://docs.scipy.org/doc/scipy/reference/generated/scipy.stats.shapiro.html\n",
    "# http://www.sthda.com/english/wiki/normality-test-in-r"
   ]
  },
  {
   "cell_type": "code",
   "execution_count": 22,
   "metadata": {
    "scrolled": true
   },
   "outputs": [
    {
     "data": {
      "image/png": "[encoded data removed]",
      "text/plain": [
       "<Figure size 432x288 with 1 Axes>"
      ]
     },
     "metadata": {
      "needs_background": "light"
     },
     "output_type": "display_data"
    }
   ],
   "source": [
    "ax = sm.qqplot(na, fit=True, line='s')\n",
    "\n",
    "# https://stats.stackexchange.com/questions/139708/qq-plot-in-python\n",
    "# https://www.statsmodels.org/stable/generated/statsmodels.graphics.gofplots.qqplot.html"
   ]
  },
  {
   "cell_type": "code",
   "execution_count": 23,
   "metadata": {},
   "outputs": [
    {
     "data": {
      "image/png": "[encoded data removed]",
      "text/plain": [
       "<Figure size 432x288 with 1 Axes>"
      ]
     },
     "metadata": {
      "needs_background": "light"
     },
     "output_type": "display_data"
    }
   ],
   "source": [
    "ax = sm.qqplot(fl, fit=True, line='s')"
   ]
  },
  {
   "cell_type": "markdown",
   "metadata": {},
   "source": [
    "## 3.2 Run ttest"
   ]
  },
  {
   "cell_type": "code",
   "execution_count": 27,
   "metadata": {},
   "outputs": [
    {
     "name": "stdout",
     "output_type": "stream",
     "text": [
      "National mean of correct response per item:  47.92953909101439\n",
      "Florida mean of correct response per item:  49.20221665142376\n",
      "Mean difference between na and fl:  -1.2726775604093703\n",
      "DF =  10.000\n",
      "tobs = -0.726\n",
      "pvalue = 0.484\n",
      "tcrit = 2.228\n",
      "(-5.362369610248072, 2.817014489429331)\n"
     ]
    }
   ],
   "source": [
    "# tcrit, tobs, and tobs pvalue using stats package assuming equal variances\n",
    "\n",
    "na_n, fl_n= len(na), len(fl)\n",
    "std_na, std_fl = np.std(na), np.std(fl)\n",
    "na_mean, fl_mean = np.mean(na), np.mean(fl)\n",
    "mean_diff = np.subtract(na_mean, fl_mean)\n",
    "\n",
    "print('National mean of correct response per item: ', na_mean)\n",
    "print('Florida mean of correct response per item: ', fl_mean)\n",
    "print('Mean difference between na and fl: ', mean_diff)\n",
    "\n",
    "dof = ( (std_na**2/na_n) + (std_fl**2/fl_n) ) ** 2 / ( (1/(na_n-1)) * (std_na**2/na_n)**2 ) + ( (1/(fl_n-1)) * (std_fl**2/fl_n)**2 )\n",
    "dof2 = na_n + fl_n - 2\n",
    "print ('DF =  %.3f' % dof2) \n",
    "\n",
    "tobs, pvalue = stats.ttest_ind(na,fl,equal_var = True)\n",
    "tcrit = stats.t.ppf(1-0.025, dof2)\n",
    "\n",
    "print ('tobs = %.3f' % tobs)\n",
    "print ('pvalue = %.3f' % pvalue)\n",
    "print ('tcrit = %.3f' % tcrit)\n",
    "\n",
    "cm = sm.CompareMeans(sm.DescrStatsW(na), sm.DescrStatsW(fl))\n",
    "print(cm.tconfint_diff(usevar='unequal'))   # 95 % confidence interval "
   ]
  },
  {
   "cell_type": "markdown",
   "metadata": {},
   "source": [
    "## 3.3 Compare tobs to tcrit\n",
    "\n",
    "tobs (-0.726) is not greater than tcrit (2.228) \n",
    "tobs (-0.726) is not less than -tcrit (-2.228) \n",
    "\n",
    "so tobs does not lie in the rejection region.\n",
    "\n",
    "We fail to reject the null hypothesis and accept that the means of correct responses do not differ between the two indepedent populations (state tests (FL K-5) and national test (NA K-5)), t(10) = -0.726, p>0.05."
   ]
  }
 ],
 "metadata": {
  "kernelspec": {
   "display_name": "Python 3",
   "language": "python",
   "name": "python3"
  },
  "language_info": {
   "codemirror_mode": {
    "name": "ipython",
    "version": 3
   },
   "file_extension": ".py",
   "mimetype": "text/x-python",
   "name": "python",
   "nbconvert_exporter": "python",
   "pygments_lexer": "ipython3",
   "version": "3.7.4"
  }
 },
 "nbformat": 4,
 "nbformat_minor": 2
}
